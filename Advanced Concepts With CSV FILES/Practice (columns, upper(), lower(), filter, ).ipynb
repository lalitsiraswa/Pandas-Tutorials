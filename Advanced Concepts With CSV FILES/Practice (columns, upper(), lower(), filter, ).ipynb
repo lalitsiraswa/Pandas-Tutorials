{
 "cells": [
  {
   "cell_type": "code",
   "execution_count": 1,
   "metadata": {},
   "outputs": [],
   "source": [
    "import pandas as pd"
   ]
  },
  {
   "cell_type": "code",
   "execution_count": 2,
   "metadata": {},
   "outputs": [],
   "source": [
    "people = {\n",
    "    \"first\" : [\"Lalit\", \"Suraj\", \"Ankit\", \"Vikash\", \"Shohel\"],\n",
    "    \"last\" : [\"Siraswa\", \"Dhadeech\", \"Verma\", \"Tawar\", \"Khan\"],\n",
    "    \"email\" : [\"lalitsiraswa@gmail.com\", \"surajdhadeech@gmail.com\", \"ankitverma@gmail.com\", \"vikashtawar@gmail.com\", \"shohelkhan@gmail.com\"]\n",
    "}"
   ]
  },
  {
   "cell_type": "code",
   "execution_count": 3,
   "metadata": {},
   "outputs": [
    {
     "data": {
      "text/html": [
       "<div>\n",
       "<style scoped>\n",
       "    .dataframe tbody tr th:only-of-type {\n",
       "        vertical-align: middle;\n",
       "    }\n",
       "\n",
       "    .dataframe tbody tr th {\n",
       "        vertical-align: top;\n",
       "    }\n",
       "\n",
       "    .dataframe thead th {\n",
       "        text-align: right;\n",
       "    }\n",
       "</style>\n",
       "<table border=\"1\" class=\"dataframe\">\n",
       "  <thead>\n",
       "    <tr style=\"text-align: right;\">\n",
       "      <th></th>\n",
       "      <th>first</th>\n",
       "      <th>last</th>\n",
       "      <th>email</th>\n",
       "    </tr>\n",
       "  </thead>\n",
       "  <tbody>\n",
       "    <tr>\n",
       "      <th>0</th>\n",
       "      <td>Lalit</td>\n",
       "      <td>Siraswa</td>\n",
       "      <td>lalitsiraswa@gmail.com</td>\n",
       "    </tr>\n",
       "    <tr>\n",
       "      <th>1</th>\n",
       "      <td>Suraj</td>\n",
       "      <td>Dhadeech</td>\n",
       "      <td>surajdhadeech@gmail.com</td>\n",
       "    </tr>\n",
       "    <tr>\n",
       "      <th>2</th>\n",
       "      <td>Ankit</td>\n",
       "      <td>Verma</td>\n",
       "      <td>ankitverma@gmail.com</td>\n",
       "    </tr>\n",
       "    <tr>\n",
       "      <th>3</th>\n",
       "      <td>Vikash</td>\n",
       "      <td>Tawar</td>\n",
       "      <td>vikashtawar@gmail.com</td>\n",
       "    </tr>\n",
       "    <tr>\n",
       "      <th>4</th>\n",
       "      <td>Shohel</td>\n",
       "      <td>Khan</td>\n",
       "      <td>shohelkhan@gmail.com</td>\n",
       "    </tr>\n",
       "  </tbody>\n",
       "</table>\n",
       "</div>"
      ],
      "text/plain": [
       "    first      last                    email\n",
       "0   Lalit   Siraswa   lalitsiraswa@gmail.com\n",
       "1   Suraj  Dhadeech  surajdhadeech@gmail.com\n",
       "2   Ankit     Verma     ankitverma@gmail.com\n",
       "3  Vikash     Tawar    vikashtawar@gmail.com\n",
       "4  Shohel      Khan     shohelkhan@gmail.com"
      ]
     },
     "execution_count": 3,
     "metadata": {},
     "output_type": "execute_result"
    }
   ],
   "source": [
    "df = pd.DataFrame(data = people)\n",
    "df"
   ]
  },
  {
   "cell_type": "code",
   "execution_count": 4,
   "metadata": {},
   "outputs": [
    {
     "data": {
      "text/plain": [
       "Index(['first', 'last', 'email'], dtype='object')"
      ]
     },
     "execution_count": 4,
     "metadata": {},
     "output_type": "execute_result"
    }
   ],
   "source": [
    "df.columns"
   ]
  },
  {
   "cell_type": "code",
   "execution_count": 5,
   "metadata": {},
   "outputs": [],
   "source": [
    "df.columns = [\"first_name\", \"last_name\", \"email\"]"
   ]
  },
  {
   "cell_type": "code",
   "execution_count": 6,
   "metadata": {},
   "outputs": [
    {
     "data": {
      "text/html": [
       "<div>\n",
       "<style scoped>\n",
       "    .dataframe tbody tr th:only-of-type {\n",
       "        vertical-align: middle;\n",
       "    }\n",
       "\n",
       "    .dataframe tbody tr th {\n",
       "        vertical-align: top;\n",
       "    }\n",
       "\n",
       "    .dataframe thead th {\n",
       "        text-align: right;\n",
       "    }\n",
       "</style>\n",
       "<table border=\"1\" class=\"dataframe\">\n",
       "  <thead>\n",
       "    <tr style=\"text-align: right;\">\n",
       "      <th></th>\n",
       "      <th>first_name</th>\n",
       "      <th>last_name</th>\n",
       "      <th>email</th>\n",
       "    </tr>\n",
       "  </thead>\n",
       "  <tbody>\n",
       "    <tr>\n",
       "      <th>0</th>\n",
       "      <td>Lalit</td>\n",
       "      <td>Siraswa</td>\n",
       "      <td>lalitsiraswa@gmail.com</td>\n",
       "    </tr>\n",
       "    <tr>\n",
       "      <th>1</th>\n",
       "      <td>Suraj</td>\n",
       "      <td>Dhadeech</td>\n",
       "      <td>surajdhadeech@gmail.com</td>\n",
       "    </tr>\n",
       "    <tr>\n",
       "      <th>2</th>\n",
       "      <td>Ankit</td>\n",
       "      <td>Verma</td>\n",
       "      <td>ankitverma@gmail.com</td>\n",
       "    </tr>\n",
       "    <tr>\n",
       "      <th>3</th>\n",
       "      <td>Vikash</td>\n",
       "      <td>Tawar</td>\n",
       "      <td>vikashtawar@gmail.com</td>\n",
       "    </tr>\n",
       "    <tr>\n",
       "      <th>4</th>\n",
       "      <td>Shohel</td>\n",
       "      <td>Khan</td>\n",
       "      <td>shohelkhan@gmail.com</td>\n",
       "    </tr>\n",
       "  </tbody>\n",
       "</table>\n",
       "</div>"
      ],
      "text/plain": [
       "  first_name last_name                    email\n",
       "0      Lalit   Siraswa   lalitsiraswa@gmail.com\n",
       "1      Suraj  Dhadeech  surajdhadeech@gmail.com\n",
       "2      Ankit     Verma     ankitverma@gmail.com\n",
       "3     Vikash     Tawar    vikashtawar@gmail.com\n",
       "4     Shohel      Khan     shohelkhan@gmail.com"
      ]
     },
     "execution_count": 6,
     "metadata": {},
     "output_type": "execute_result"
    }
   ],
   "source": [
    "df"
   ]
  },
  {
   "cell_type": "code",
   "execution_count": 7,
   "metadata": {},
   "outputs": [],
   "source": [
    "df.columns = [x.upper() for x in df.columns]"
   ]
  },
  {
   "cell_type": "code",
   "execution_count": 8,
   "metadata": {},
   "outputs": [
    {
     "data": {
      "text/html": [
       "<div>\n",
       "<style scoped>\n",
       "    .dataframe tbody tr th:only-of-type {\n",
       "        vertical-align: middle;\n",
       "    }\n",
       "\n",
       "    .dataframe tbody tr th {\n",
       "        vertical-align: top;\n",
       "    }\n",
       "\n",
       "    .dataframe thead th {\n",
       "        text-align: right;\n",
       "    }\n",
       "</style>\n",
       "<table border=\"1\" class=\"dataframe\">\n",
       "  <thead>\n",
       "    <tr style=\"text-align: right;\">\n",
       "      <th></th>\n",
       "      <th>FIRST_NAME</th>\n",
       "      <th>LAST_NAME</th>\n",
       "      <th>EMAIL</th>\n",
       "    </tr>\n",
       "  </thead>\n",
       "  <tbody>\n",
       "    <tr>\n",
       "      <th>0</th>\n",
       "      <td>Lalit</td>\n",
       "      <td>Siraswa</td>\n",
       "      <td>lalitsiraswa@gmail.com</td>\n",
       "    </tr>\n",
       "    <tr>\n",
       "      <th>1</th>\n",
       "      <td>Suraj</td>\n",
       "      <td>Dhadeech</td>\n",
       "      <td>surajdhadeech@gmail.com</td>\n",
       "    </tr>\n",
       "    <tr>\n",
       "      <th>2</th>\n",
       "      <td>Ankit</td>\n",
       "      <td>Verma</td>\n",
       "      <td>ankitverma@gmail.com</td>\n",
       "    </tr>\n",
       "    <tr>\n",
       "      <th>3</th>\n",
       "      <td>Vikash</td>\n",
       "      <td>Tawar</td>\n",
       "      <td>vikashtawar@gmail.com</td>\n",
       "    </tr>\n",
       "    <tr>\n",
       "      <th>4</th>\n",
       "      <td>Shohel</td>\n",
       "      <td>Khan</td>\n",
       "      <td>shohelkhan@gmail.com</td>\n",
       "    </tr>\n",
       "  </tbody>\n",
       "</table>\n",
       "</div>"
      ],
      "text/plain": [
       "  FIRST_NAME LAST_NAME                    EMAIL\n",
       "0      Lalit   Siraswa   lalitsiraswa@gmail.com\n",
       "1      Suraj  Dhadeech  surajdhadeech@gmail.com\n",
       "2      Ankit     Verma     ankitverma@gmail.com\n",
       "3     Vikash     Tawar    vikashtawar@gmail.com\n",
       "4     Shohel      Khan     shohelkhan@gmail.com"
      ]
     },
     "execution_count": 8,
     "metadata": {},
     "output_type": "execute_result"
    }
   ],
   "source": [
    "df"
   ]
  },
  {
   "cell_type": "code",
   "execution_count": 9,
   "metadata": {},
   "outputs": [
    {
     "data": {
      "text/plain": [
       "Index(['FIRST_NAME', 'LAST_NAME', 'EMAIL'], dtype='object')"
      ]
     },
     "execution_count": 9,
     "metadata": {},
     "output_type": "execute_result"
    }
   ],
   "source": [
    "df.columns"
   ]
  },
  {
   "cell_type": "code",
   "execution_count": 10,
   "metadata": {},
   "outputs": [
    {
     "data": {
      "text/html": [
       "<div>\n",
       "<style scoped>\n",
       "    .dataframe tbody tr th:only-of-type {\n",
       "        vertical-align: middle;\n",
       "    }\n",
       "\n",
       "    .dataframe tbody tr th {\n",
       "        vertical-align: top;\n",
       "    }\n",
       "\n",
       "    .dataframe thead th {\n",
       "        text-align: right;\n",
       "    }\n",
       "</style>\n",
       "<table border=\"1\" class=\"dataframe\">\n",
       "  <thead>\n",
       "    <tr style=\"text-align: right;\">\n",
       "      <th></th>\n",
       "      <th>first_name</th>\n",
       "      <th>last_name</th>\n",
       "      <th>email</th>\n",
       "    </tr>\n",
       "  </thead>\n",
       "  <tbody>\n",
       "    <tr>\n",
       "      <th>0</th>\n",
       "      <td>Lalit</td>\n",
       "      <td>Siraswa</td>\n",
       "      <td>lalitsiraswa@gmail.com</td>\n",
       "    </tr>\n",
       "    <tr>\n",
       "      <th>1</th>\n",
       "      <td>Suraj</td>\n",
       "      <td>Dhadeech</td>\n",
       "      <td>surajdhadeech@gmail.com</td>\n",
       "    </tr>\n",
       "    <tr>\n",
       "      <th>2</th>\n",
       "      <td>Ankit</td>\n",
       "      <td>Verma</td>\n",
       "      <td>ankitverma@gmail.com</td>\n",
       "    </tr>\n",
       "    <tr>\n",
       "      <th>3</th>\n",
       "      <td>Vikash</td>\n",
       "      <td>Tawar</td>\n",
       "      <td>vikashtawar@gmail.com</td>\n",
       "    </tr>\n",
       "    <tr>\n",
       "      <th>4</th>\n",
       "      <td>Shohel</td>\n",
       "      <td>Khan</td>\n",
       "      <td>shohelkhan@gmail.com</td>\n",
       "    </tr>\n",
       "  </tbody>\n",
       "</table>\n",
       "</div>"
      ],
      "text/plain": [
       "  first_name last_name                    email\n",
       "0      Lalit   Siraswa   lalitsiraswa@gmail.com\n",
       "1      Suraj  Dhadeech  surajdhadeech@gmail.com\n",
       "2      Ankit     Verma     ankitverma@gmail.com\n",
       "3     Vikash     Tawar    vikashtawar@gmail.com\n",
       "4     Shohel      Khan     shohelkhan@gmail.com"
      ]
     },
     "execution_count": 10,
     "metadata": {},
     "output_type": "execute_result"
    }
   ],
   "source": [
    "df.columns = [x.lower() for x in df.columns]\n",
    "df"
   ]
  },
  {
   "cell_type": "code",
   "execution_count": 11,
   "metadata": {},
   "outputs": [
    {
     "data": {
      "text/html": [
       "<div>\n",
       "<style scoped>\n",
       "    .dataframe tbody tr th:only-of-type {\n",
       "        vertical-align: middle;\n",
       "    }\n",
       "\n",
       "    .dataframe tbody tr th {\n",
       "        vertical-align: top;\n",
       "    }\n",
       "\n",
       "    .dataframe thead th {\n",
       "        text-align: right;\n",
       "    }\n",
       "</style>\n",
       "<table border=\"1\" class=\"dataframe\">\n",
       "  <thead>\n",
       "    <tr style=\"text-align: right;\">\n",
       "      <th></th>\n",
       "      <th>first name</th>\n",
       "      <th>last name</th>\n",
       "      <th>email</th>\n",
       "    </tr>\n",
       "  </thead>\n",
       "  <tbody>\n",
       "    <tr>\n",
       "      <th>0</th>\n",
       "      <td>Lalit</td>\n",
       "      <td>Siraswa</td>\n",
       "      <td>lalitsiraswa@gmail.com</td>\n",
       "    </tr>\n",
       "    <tr>\n",
       "      <th>1</th>\n",
       "      <td>Suraj</td>\n",
       "      <td>Dhadeech</td>\n",
       "      <td>surajdhadeech@gmail.com</td>\n",
       "    </tr>\n",
       "    <tr>\n",
       "      <th>2</th>\n",
       "      <td>Ankit</td>\n",
       "      <td>Verma</td>\n",
       "      <td>ankitverma@gmail.com</td>\n",
       "    </tr>\n",
       "    <tr>\n",
       "      <th>3</th>\n",
       "      <td>Vikash</td>\n",
       "      <td>Tawar</td>\n",
       "      <td>vikashtawar@gmail.com</td>\n",
       "    </tr>\n",
       "    <tr>\n",
       "      <th>4</th>\n",
       "      <td>Shohel</td>\n",
       "      <td>Khan</td>\n",
       "      <td>shohelkhan@gmail.com</td>\n",
       "    </tr>\n",
       "  </tbody>\n",
       "</table>\n",
       "</div>"
      ],
      "text/plain": [
       "  first name last name                    email\n",
       "0      Lalit   Siraswa   lalitsiraswa@gmail.com\n",
       "1      Suraj  Dhadeech  surajdhadeech@gmail.com\n",
       "2      Ankit     Verma     ankitverma@gmail.com\n",
       "3     Vikash     Tawar    vikashtawar@gmail.com\n",
       "4     Shohel      Khan     shohelkhan@gmail.com"
      ]
     },
     "execution_count": 11,
     "metadata": {},
     "output_type": "execute_result"
    }
   ],
   "source": [
    "df.columns = df.columns.str.replace(\"_\", \" \")\n",
    "df"
   ]
  },
  {
   "cell_type": "code",
   "execution_count": 12,
   "metadata": {},
   "outputs": [
    {
     "data": {
      "text/html": [
       "<div>\n",
       "<style scoped>\n",
       "    .dataframe tbody tr th:only-of-type {\n",
       "        vertical-align: middle;\n",
       "    }\n",
       "\n",
       "    .dataframe tbody tr th {\n",
       "        vertical-align: top;\n",
       "    }\n",
       "\n",
       "    .dataframe thead th {\n",
       "        text-align: right;\n",
       "    }\n",
       "</style>\n",
       "<table border=\"1\" class=\"dataframe\">\n",
       "  <thead>\n",
       "    <tr style=\"text-align: right;\">\n",
       "      <th></th>\n",
       "      <th>FIRST NAME</th>\n",
       "      <th>LAST NAME</th>\n",
       "      <th>EMAIL</th>\n",
       "    </tr>\n",
       "  </thead>\n",
       "  <tbody>\n",
       "    <tr>\n",
       "      <th>0</th>\n",
       "      <td>Lalit</td>\n",
       "      <td>Siraswa</td>\n",
       "      <td>lalitsiraswa@gmail.com</td>\n",
       "    </tr>\n",
       "    <tr>\n",
       "      <th>1</th>\n",
       "      <td>Suraj</td>\n",
       "      <td>Dhadeech</td>\n",
       "      <td>surajdhadeech@gmail.com</td>\n",
       "    </tr>\n",
       "    <tr>\n",
       "      <th>2</th>\n",
       "      <td>Ankit</td>\n",
       "      <td>Verma</td>\n",
       "      <td>ankitverma@gmail.com</td>\n",
       "    </tr>\n",
       "    <tr>\n",
       "      <th>3</th>\n",
       "      <td>Vikash</td>\n",
       "      <td>Tawar</td>\n",
       "      <td>vikashtawar@gmail.com</td>\n",
       "    </tr>\n",
       "    <tr>\n",
       "      <th>4</th>\n",
       "      <td>Shohel</td>\n",
       "      <td>Khan</td>\n",
       "      <td>shohelkhan@gmail.com</td>\n",
       "    </tr>\n",
       "  </tbody>\n",
       "</table>\n",
       "</div>"
      ],
      "text/plain": [
       "  FIRST NAME LAST NAME                    EMAIL\n",
       "0      Lalit   Siraswa   lalitsiraswa@gmail.com\n",
       "1      Suraj  Dhadeech  surajdhadeech@gmail.com\n",
       "2      Ankit     Verma     ankitverma@gmail.com\n",
       "3     Vikash     Tawar    vikashtawar@gmail.com\n",
       "4     Shohel      Khan     shohelkhan@gmail.com"
      ]
     },
     "execution_count": 12,
     "metadata": {},
     "output_type": "execute_result"
    }
   ],
   "source": [
    "df.columns = [x.upper() for x in df.columns]\n",
    "df"
   ]
  },
  {
   "cell_type": "code",
   "execution_count": 13,
   "metadata": {},
   "outputs": [
    {
     "data": {
      "text/html": [
       "<div>\n",
       "<style scoped>\n",
       "    .dataframe tbody tr th:only-of-type {\n",
       "        vertical-align: middle;\n",
       "    }\n",
       "\n",
       "    .dataframe tbody tr th {\n",
       "        vertical-align: top;\n",
       "    }\n",
       "\n",
       "    .dataframe thead th {\n",
       "        text-align: right;\n",
       "    }\n",
       "</style>\n",
       "<table border=\"1\" class=\"dataframe\">\n",
       "  <thead>\n",
       "    <tr style=\"text-align: right;\">\n",
       "      <th></th>\n",
       "      <th>FIRST_NAME</th>\n",
       "      <th>LAST_NAME</th>\n",
       "      <th>EMAIL</th>\n",
       "    </tr>\n",
       "  </thead>\n",
       "  <tbody>\n",
       "    <tr>\n",
       "      <th>0</th>\n",
       "      <td>Lalit</td>\n",
       "      <td>Siraswa</td>\n",
       "      <td>lalitsiraswa@gmail.com</td>\n",
       "    </tr>\n",
       "    <tr>\n",
       "      <th>1</th>\n",
       "      <td>Suraj</td>\n",
       "      <td>Dhadeech</td>\n",
       "      <td>surajdhadeech@gmail.com</td>\n",
       "    </tr>\n",
       "    <tr>\n",
       "      <th>2</th>\n",
       "      <td>Ankit</td>\n",
       "      <td>Verma</td>\n",
       "      <td>ankitverma@gmail.com</td>\n",
       "    </tr>\n",
       "    <tr>\n",
       "      <th>3</th>\n",
       "      <td>Vikash</td>\n",
       "      <td>Tawar</td>\n",
       "      <td>vikashtawar@gmail.com</td>\n",
       "    </tr>\n",
       "    <tr>\n",
       "      <th>4</th>\n",
       "      <td>Shohel</td>\n",
       "      <td>Khan</td>\n",
       "      <td>shohelkhan@gmail.com</td>\n",
       "    </tr>\n",
       "  </tbody>\n",
       "</table>\n",
       "</div>"
      ],
      "text/plain": [
       "  FIRST_NAME LAST_NAME                    EMAIL\n",
       "0      Lalit   Siraswa   lalitsiraswa@gmail.com\n",
       "1      Suraj  Dhadeech  surajdhadeech@gmail.com\n",
       "2      Ankit     Verma     ankitverma@gmail.com\n",
       "3     Vikash     Tawar    vikashtawar@gmail.com\n",
       "4     Shohel      Khan     shohelkhan@gmail.com"
      ]
     },
     "execution_count": 13,
     "metadata": {},
     "output_type": "execute_result"
    }
   ],
   "source": [
    "df.columns = df.columns.str.replace(\" \", \"_\")\n",
    "df"
   ]
  },
  {
   "cell_type": "code",
   "execution_count": 14,
   "metadata": {},
   "outputs": [
    {
     "name": "stdout",
     "output_type": "stream",
     "text": [
      "0    Lalit\n",
      "1    Suraj\n",
      "Name: FIRST_NAME, dtype: object \n",
      "\n",
      "3    Tawar\n",
      "4     Khan\n",
      "Name: LAST_NAME, dtype: object \n",
      "\n",
      "0     lalitsiraswa@gmail.com\n",
      "1    surajdhadeech@gmail.com\n",
      "Name: EMAIL, dtype: object \n",
      "\n"
     ]
    }
   ],
   "source": [
    "print(df.FIRST_NAME.head(2), \"\\n\")\n",
    "print(df.LAST_NAME.tail(2), \"\\n\")\n",
    "print(df.EMAIL.head(2), \"\\n\")"
   ]
  },
  {
   "cell_type": "code",
   "execution_count": 15,
   "metadata": {},
   "outputs": [
    {
     "data": {
      "text/html": [
       "<div>\n",
       "<style scoped>\n",
       "    .dataframe tbody tr th:only-of-type {\n",
       "        vertical-align: middle;\n",
       "    }\n",
       "\n",
       "    .dataframe tbody tr th {\n",
       "        vertical-align: top;\n",
       "    }\n",
       "\n",
       "    .dataframe thead th {\n",
       "        text-align: right;\n",
       "    }\n",
       "</style>\n",
       "<table border=\"1\" class=\"dataframe\">\n",
       "  <thead>\n",
       "    <tr style=\"text-align: right;\">\n",
       "      <th></th>\n",
       "      <th>first_name</th>\n",
       "      <th>last_name</th>\n",
       "      <th>email</th>\n",
       "    </tr>\n",
       "  </thead>\n",
       "  <tbody>\n",
       "    <tr>\n",
       "      <th>0</th>\n",
       "      <td>Lalit</td>\n",
       "      <td>Siraswa</td>\n",
       "      <td>lalitsiraswa@gmail.com</td>\n",
       "    </tr>\n",
       "    <tr>\n",
       "      <th>1</th>\n",
       "      <td>Suraj</td>\n",
       "      <td>Dhadeech</td>\n",
       "      <td>surajdhadeech@gmail.com</td>\n",
       "    </tr>\n",
       "    <tr>\n",
       "      <th>2</th>\n",
       "      <td>Ankit</td>\n",
       "      <td>Verma</td>\n",
       "      <td>ankitverma@gmail.com</td>\n",
       "    </tr>\n",
       "    <tr>\n",
       "      <th>3</th>\n",
       "      <td>Vikash</td>\n",
       "      <td>Tawar</td>\n",
       "      <td>vikashtawar@gmail.com</td>\n",
       "    </tr>\n",
       "    <tr>\n",
       "      <th>4</th>\n",
       "      <td>Shohel</td>\n",
       "      <td>Khan</td>\n",
       "      <td>shohelkhan@gmail.com</td>\n",
       "    </tr>\n",
       "  </tbody>\n",
       "</table>\n",
       "</div>"
      ],
      "text/plain": [
       "  first_name last_name                    email\n",
       "0      Lalit   Siraswa   lalitsiraswa@gmail.com\n",
       "1      Suraj  Dhadeech  surajdhadeech@gmail.com\n",
       "2      Ankit     Verma     ankitverma@gmail.com\n",
       "3     Vikash     Tawar    vikashtawar@gmail.com\n",
       "4     Shohel      Khan     shohelkhan@gmail.com"
      ]
     },
     "execution_count": 15,
     "metadata": {},
     "output_type": "execute_result"
    }
   ],
   "source": [
    "df.columns = [x.lower() for x in df.columns]\n",
    "df"
   ]
  },
  {
   "cell_type": "code",
   "execution_count": 16,
   "metadata": {},
   "outputs": [
    {
     "data": {
      "text/html": [
       "<div>\n",
       "<style scoped>\n",
       "    .dataframe tbody tr th:only-of-type {\n",
       "        vertical-align: middle;\n",
       "    }\n",
       "\n",
       "    .dataframe tbody tr th {\n",
       "        vertical-align: top;\n",
       "    }\n",
       "\n",
       "    .dataframe thead th {\n",
       "        text-align: right;\n",
       "    }\n",
       "</style>\n",
       "<table border=\"1\" class=\"dataframe\">\n",
       "  <thead>\n",
       "    <tr style=\"text-align: right;\">\n",
       "      <th></th>\n",
       "      <th>first</th>\n",
       "      <th>last</th>\n",
       "      <th>email</th>\n",
       "    </tr>\n",
       "  </thead>\n",
       "  <tbody>\n",
       "    <tr>\n",
       "      <th>0</th>\n",
       "      <td>Lalit</td>\n",
       "      <td>Siraswa</td>\n",
       "      <td>lalitsiraswa@gmail.com</td>\n",
       "    </tr>\n",
       "    <tr>\n",
       "      <th>1</th>\n",
       "      <td>Suraj</td>\n",
       "      <td>Dhadeech</td>\n",
       "      <td>surajdhadeech@gmail.com</td>\n",
       "    </tr>\n",
       "    <tr>\n",
       "      <th>2</th>\n",
       "      <td>Ankit</td>\n",
       "      <td>Verma</td>\n",
       "      <td>ankitverma@gmail.com</td>\n",
       "    </tr>\n",
       "    <tr>\n",
       "      <th>3</th>\n",
       "      <td>Vikash</td>\n",
       "      <td>Tawar</td>\n",
       "      <td>vikashtawar@gmail.com</td>\n",
       "    </tr>\n",
       "    <tr>\n",
       "      <th>4</th>\n",
       "      <td>Shohel</td>\n",
       "      <td>Khan</td>\n",
       "      <td>shohelkhan@gmail.com</td>\n",
       "    </tr>\n",
       "  </tbody>\n",
       "</table>\n",
       "</div>"
      ],
      "text/plain": [
       "    first      last                    email\n",
       "0   Lalit   Siraswa   lalitsiraswa@gmail.com\n",
       "1   Suraj  Dhadeech  surajdhadeech@gmail.com\n",
       "2   Ankit     Verma     ankitverma@gmail.com\n",
       "3  Vikash     Tawar    vikashtawar@gmail.com\n",
       "4  Shohel      Khan     shohelkhan@gmail.com"
      ]
     },
     "execution_count": 16,
     "metadata": {},
     "output_type": "execute_result"
    }
   ],
   "source": [
    "df.rename(columns = {\"first_name\" : \"first\", \"last_name\" : \"last\"}, inplace = True)\n",
    "df"
   ]
  },
  {
   "cell_type": "code",
   "execution_count": 17,
   "metadata": {},
   "outputs": [
    {
     "data": {
      "text/html": [
       "<div>\n",
       "<style scoped>\n",
       "    .dataframe tbody tr th:only-of-type {\n",
       "        vertical-align: middle;\n",
       "    }\n",
       "\n",
       "    .dataframe tbody tr th {\n",
       "        vertical-align: top;\n",
       "    }\n",
       "\n",
       "    .dataframe thead th {\n",
       "        text-align: right;\n",
       "    }\n",
       "</style>\n",
       "<table border=\"1\" class=\"dataframe\">\n",
       "  <thead>\n",
       "    <tr style=\"text-align: right;\">\n",
       "      <th></th>\n",
       "      <th>first_name</th>\n",
       "      <th>last_name</th>\n",
       "      <th>email</th>\n",
       "    </tr>\n",
       "  </thead>\n",
       "  <tbody>\n",
       "    <tr>\n",
       "      <th>0</th>\n",
       "      <td>Lalit</td>\n",
       "      <td>Siraswa</td>\n",
       "      <td>lalitsiraswa@gmail.com</td>\n",
       "    </tr>\n",
       "    <tr>\n",
       "      <th>1</th>\n",
       "      <td>Suraj</td>\n",
       "      <td>Dhadeech</td>\n",
       "      <td>surajdhadeech@gmail.com</td>\n",
       "    </tr>\n",
       "    <tr>\n",
       "      <th>2</th>\n",
       "      <td>Ankit</td>\n",
       "      <td>Verma</td>\n",
       "      <td>ankitverma@gmail.com</td>\n",
       "    </tr>\n",
       "    <tr>\n",
       "      <th>3</th>\n",
       "      <td>Vikash</td>\n",
       "      <td>Tawar</td>\n",
       "      <td>vikashtawar@gmail.com</td>\n",
       "    </tr>\n",
       "    <tr>\n",
       "      <th>4</th>\n",
       "      <td>Shohel</td>\n",
       "      <td>Khan</td>\n",
       "      <td>shohelkhan@gmail.com</td>\n",
       "    </tr>\n",
       "  </tbody>\n",
       "</table>\n",
       "</div>"
      ],
      "text/plain": [
       "  first_name last_name                    email\n",
       "0      Lalit   Siraswa   lalitsiraswa@gmail.com\n",
       "1      Suraj  Dhadeech  surajdhadeech@gmail.com\n",
       "2      Ankit     Verma     ankitverma@gmail.com\n",
       "3     Vikash     Tawar    vikashtawar@gmail.com\n",
       "4     Shohel      Khan     shohelkhan@gmail.com"
      ]
     },
     "execution_count": 17,
     "metadata": {},
     "output_type": "execute_result"
    }
   ],
   "source": [
    "df.rename(columns = {\"first\" : \"first_name\", \"last\" : \"last_name\"}, inplace = True)\n",
    "df"
   ]
  },
  {
   "cell_type": "code",
   "execution_count": 18,
   "metadata": {},
   "outputs": [
    {
     "data": {
      "text/html": [
       "<div>\n",
       "<style scoped>\n",
       "    .dataframe tbody tr th:only-of-type {\n",
       "        vertical-align: middle;\n",
       "    }\n",
       "\n",
       "    .dataframe tbody tr th {\n",
       "        vertical-align: top;\n",
       "    }\n",
       "\n",
       "    .dataframe thead th {\n",
       "        text-align: right;\n",
       "    }\n",
       "</style>\n",
       "<table border=\"1\" class=\"dataframe\">\n",
       "  <thead>\n",
       "    <tr style=\"text-align: right;\">\n",
       "      <th></th>\n",
       "      <th>first</th>\n",
       "      <th>last</th>\n",
       "      <th>email</th>\n",
       "    </tr>\n",
       "  </thead>\n",
       "  <tbody>\n",
       "    <tr>\n",
       "      <th>0</th>\n",
       "      <td>Lalit</td>\n",
       "      <td>Siraswa</td>\n",
       "      <td>lalitsiraswa@gmail.com</td>\n",
       "    </tr>\n",
       "    <tr>\n",
       "      <th>1</th>\n",
       "      <td>Suraj</td>\n",
       "      <td>Dhadeech</td>\n",
       "      <td>surajdhadeech@gmail.com</td>\n",
       "    </tr>\n",
       "    <tr>\n",
       "      <th>2</th>\n",
       "      <td>Ankit</td>\n",
       "      <td>Verma</td>\n",
       "      <td>ankitverma@gmail.com</td>\n",
       "    </tr>\n",
       "    <tr>\n",
       "      <th>3</th>\n",
       "      <td>Vikash</td>\n",
       "      <td>Tawar</td>\n",
       "      <td>vikashtawar@gmail.com</td>\n",
       "    </tr>\n",
       "    <tr>\n",
       "      <th>4</th>\n",
       "      <td>Shohel</td>\n",
       "      <td>Khan</td>\n",
       "      <td>shohelkhan@gmail.com</td>\n",
       "    </tr>\n",
       "  </tbody>\n",
       "</table>\n",
       "</div>"
      ],
      "text/plain": [
       "    first      last                    email\n",
       "0   Lalit   Siraswa   lalitsiraswa@gmail.com\n",
       "1   Suraj  Dhadeech  surajdhadeech@gmail.com\n",
       "2   Ankit     Verma     ankitverma@gmail.com\n",
       "3  Vikash     Tawar    vikashtawar@gmail.com\n",
       "4  Shohel      Khan     shohelkhan@gmail.com"
      ]
     },
     "execution_count": 18,
     "metadata": {},
     "output_type": "execute_result"
    }
   ],
   "source": [
    "df.rename(columns = {\"first_name\" : \"first\", \"last_name\" : \"last\"}, inplace = True)\n",
    "df"
   ]
  },
  {
   "cell_type": "code",
   "execution_count": 19,
   "metadata": {},
   "outputs": [
    {
     "name": "stdout",
     "output_type": "stream",
     "text": [
      "Dhadeech \n",
      "\n",
      "Sharma \n",
      "\n"
     ]
    }
   ],
   "source": [
    "print(df.loc[1, \"last\"], \"\\n\")\n",
    "df.loc[1, \"last\"] = \"Sharma\"\n",
    "print(df.loc[1, \"last\"], \"\\n\")"
   ]
  },
  {
   "cell_type": "code",
   "execution_count": 20,
   "metadata": {
    "scrolled": true
   },
   "outputs": [
    {
     "data": {
      "text/html": [
       "<div>\n",
       "<style scoped>\n",
       "    .dataframe tbody tr th:only-of-type {\n",
       "        vertical-align: middle;\n",
       "    }\n",
       "\n",
       "    .dataframe tbody tr th {\n",
       "        vertical-align: top;\n",
       "    }\n",
       "\n",
       "    .dataframe thead th {\n",
       "        text-align: right;\n",
       "    }\n",
       "</style>\n",
       "<table border=\"1\" class=\"dataframe\">\n",
       "  <thead>\n",
       "    <tr style=\"text-align: right;\">\n",
       "      <th></th>\n",
       "      <th>first</th>\n",
       "      <th>last</th>\n",
       "      <th>email</th>\n",
       "    </tr>\n",
       "  </thead>\n",
       "  <tbody>\n",
       "    <tr>\n",
       "      <th>0</th>\n",
       "      <td>Lalit</td>\n",
       "      <td>Siraswa</td>\n",
       "      <td>lalitsiraswa@gmail.com</td>\n",
       "    </tr>\n",
       "    <tr>\n",
       "      <th>1</th>\n",
       "      <td>Suraj</td>\n",
       "      <td>Dhadeech</td>\n",
       "      <td>surajdhadeech@gmail.com</td>\n",
       "    </tr>\n",
       "    <tr>\n",
       "      <th>2</th>\n",
       "      <td>Ankit</td>\n",
       "      <td>Verma</td>\n",
       "      <td>ankitverma@gmail.com</td>\n",
       "    </tr>\n",
       "    <tr>\n",
       "      <th>3</th>\n",
       "      <td>Vikash</td>\n",
       "      <td>Tawar</td>\n",
       "      <td>vikashtawar@gmail.com</td>\n",
       "    </tr>\n",
       "    <tr>\n",
       "      <th>4</th>\n",
       "      <td>Shohel</td>\n",
       "      <td>Khan</td>\n",
       "      <td>shohelkhan@gmail.com</td>\n",
       "    </tr>\n",
       "  </tbody>\n",
       "</table>\n",
       "</div>"
      ],
      "text/plain": [
       "    first      last                    email\n",
       "0   Lalit   Siraswa   lalitsiraswa@gmail.com\n",
       "1   Suraj  Dhadeech  surajdhadeech@gmail.com\n",
       "2   Ankit     Verma     ankitverma@gmail.com\n",
       "3  Vikash     Tawar    vikashtawar@gmail.com\n",
       "4  Shohel      Khan     shohelkhan@gmail.com"
      ]
     },
     "execution_count": 20,
     "metadata": {},
     "output_type": "execute_result"
    }
   ],
   "source": [
    "df.loc[1] = [\"Suraj\", \"Dhadeech\", \"surajdhadeech@gmail.com\"]\n",
    "df"
   ]
  },
  {
   "cell_type": "code",
   "execution_count": 21,
   "metadata": {},
   "outputs": [
    {
     "data": {
      "text/html": [
       "<div>\n",
       "<style scoped>\n",
       "    .dataframe tbody tr th:only-of-type {\n",
       "        vertical-align: middle;\n",
       "    }\n",
       "\n",
       "    .dataframe tbody tr th {\n",
       "        vertical-align: top;\n",
       "    }\n",
       "\n",
       "    .dataframe thead th {\n",
       "        text-align: right;\n",
       "    }\n",
       "</style>\n",
       "<table border=\"1\" class=\"dataframe\">\n",
       "  <thead>\n",
       "    <tr style=\"text-align: right;\">\n",
       "      <th></th>\n",
       "      <th>first</th>\n",
       "      <th>last</th>\n",
       "      <th>email</th>\n",
       "    </tr>\n",
       "  </thead>\n",
       "  <tbody>\n",
       "    <tr>\n",
       "      <th>0</th>\n",
       "      <td>Lalit</td>\n",
       "      <td>Siraswa</td>\n",
       "      <td>lalitsiraswa@gmail.com</td>\n",
       "    </tr>\n",
       "    <tr>\n",
       "      <th>1</th>\n",
       "      <td>Suraj</td>\n",
       "      <td>Siraswa</td>\n",
       "      <td>surajsiraswa@gmail.com</td>\n",
       "    </tr>\n",
       "    <tr>\n",
       "      <th>2</th>\n",
       "      <td>Ankit</td>\n",
       "      <td>Verma</td>\n",
       "      <td>ankitverma@gmail.com</td>\n",
       "    </tr>\n",
       "    <tr>\n",
       "      <th>3</th>\n",
       "      <td>Vikash</td>\n",
       "      <td>Tawar</td>\n",
       "      <td>vikashtawar@gmail.com</td>\n",
       "    </tr>\n",
       "    <tr>\n",
       "      <th>4</th>\n",
       "      <td>Shohel</td>\n",
       "      <td>Khan</td>\n",
       "      <td>shohelkhan@gmail.com</td>\n",
       "    </tr>\n",
       "  </tbody>\n",
       "</table>\n",
       "</div>"
      ],
      "text/plain": [
       "    first     last                   email\n",
       "0   Lalit  Siraswa  lalitsiraswa@gmail.com\n",
       "1   Suraj  Siraswa  surajsiraswa@gmail.com\n",
       "2   Ankit    Verma    ankitverma@gmail.com\n",
       "3  Vikash    Tawar   vikashtawar@gmail.com\n",
       "4  Shohel     Khan    shohelkhan@gmail.com"
      ]
     },
     "execution_count": 21,
     "metadata": {},
     "output_type": "execute_result"
    }
   ],
   "source": [
    "df.loc[1, [\"last\", \"email\"]] = [\"Siraswa\", \"surajsiraswa@gmail.com\"]\n",
    "df"
   ]
  },
  {
   "cell_type": "code",
   "execution_count": 22,
   "metadata": {},
   "outputs": [
    {
     "data": {
      "text/html": [
       "<div>\n",
       "<style scoped>\n",
       "    .dataframe tbody tr th:only-of-type {\n",
       "        vertical-align: middle;\n",
       "    }\n",
       "\n",
       "    .dataframe tbody tr th {\n",
       "        vertical-align: top;\n",
       "    }\n",
       "\n",
       "    .dataframe thead th {\n",
       "        text-align: right;\n",
       "    }\n",
       "</style>\n",
       "<table border=\"1\" class=\"dataframe\">\n",
       "  <thead>\n",
       "    <tr style=\"text-align: right;\">\n",
       "      <th></th>\n",
       "      <th>first</th>\n",
       "      <th>last</th>\n",
       "      <th>email</th>\n",
       "    </tr>\n",
       "  </thead>\n",
       "  <tbody>\n",
       "    <tr>\n",
       "      <th>0</th>\n",
       "      <td>Lalit</td>\n",
       "      <td>Siraswa</td>\n",
       "      <td>lalitsiraswa@gmail.com</td>\n",
       "    </tr>\n",
       "    <tr>\n",
       "      <th>1</th>\n",
       "      <td>Suraj</td>\n",
       "      <td>Siraswa</td>\n",
       "      <td>surajsiraswa@gmail.com</td>\n",
       "    </tr>\n",
       "    <tr>\n",
       "      <th>2</th>\n",
       "      <td>Ankit</td>\n",
       "      <td>Kumawat</td>\n",
       "      <td>vermaankit@gmail.com</td>\n",
       "    </tr>\n",
       "    <tr>\n",
       "      <th>3</th>\n",
       "      <td>Vikash</td>\n",
       "      <td>Tawar</td>\n",
       "      <td>vikashtawar@gmail.com</td>\n",
       "    </tr>\n",
       "    <tr>\n",
       "      <th>4</th>\n",
       "      <td>Shohel</td>\n",
       "      <td>Khan</td>\n",
       "      <td>shohelkhan@gmail.com</td>\n",
       "    </tr>\n",
       "  </tbody>\n",
       "</table>\n",
       "</div>"
      ],
      "text/plain": [
       "    first     last                   email\n",
       "0   Lalit  Siraswa  lalitsiraswa@gmail.com\n",
       "1   Suraj  Siraswa  surajsiraswa@gmail.com\n",
       "2   Ankit  Kumawat    vermaankit@gmail.com\n",
       "3  Vikash    Tawar   vikashtawar@gmail.com\n",
       "4  Shohel     Khan    shohelkhan@gmail.com"
      ]
     },
     "execution_count": 22,
     "metadata": {},
     "output_type": "execute_result"
    }
   ],
   "source": [
    "df.loc[2, [\"last\", \"email\"]] = [\"Kumawat\", \"vermaankit@gmail.com\"]\n",
    "df"
   ]
  },
  {
   "cell_type": "code",
   "execution_count": 23,
   "metadata": {},
   "outputs": [
    {
     "data": {
      "text/html": [
       "<div>\n",
       "<style scoped>\n",
       "    .dataframe tbody tr th:only-of-type {\n",
       "        vertical-align: middle;\n",
       "    }\n",
       "\n",
       "    .dataframe tbody tr th {\n",
       "        vertical-align: top;\n",
       "    }\n",
       "\n",
       "    .dataframe thead th {\n",
       "        text-align: right;\n",
       "    }\n",
       "</style>\n",
       "<table border=\"1\" class=\"dataframe\">\n",
       "  <thead>\n",
       "    <tr style=\"text-align: right;\">\n",
       "      <th></th>\n",
       "      <th>first</th>\n",
       "      <th>last</th>\n",
       "      <th>email</th>\n",
       "    </tr>\n",
       "  </thead>\n",
       "  <tbody>\n",
       "    <tr>\n",
       "      <th>0</th>\n",
       "      <td>Lalit</td>\n",
       "      <td>Kumawat</td>\n",
       "      <td>lalitkumawat@gmail.com</td>\n",
       "    </tr>\n",
       "    <tr>\n",
       "      <th>1</th>\n",
       "      <td>Suraj</td>\n",
       "      <td>Siraswa</td>\n",
       "      <td>surajsiraswa@gmail.com</td>\n",
       "    </tr>\n",
       "    <tr>\n",
       "      <th>2</th>\n",
       "      <td>Ankit</td>\n",
       "      <td>Kumawat</td>\n",
       "      <td>vermaankit@gmail.com</td>\n",
       "    </tr>\n",
       "    <tr>\n",
       "      <th>3</th>\n",
       "      <td>Vikash</td>\n",
       "      <td>Tawar</td>\n",
       "      <td>vikashtawar@gmail.com</td>\n",
       "    </tr>\n",
       "    <tr>\n",
       "      <th>4</th>\n",
       "      <td>Shohel</td>\n",
       "      <td>Khan</td>\n",
       "      <td>shohelkhan@gmail.com</td>\n",
       "    </tr>\n",
       "  </tbody>\n",
       "</table>\n",
       "</div>"
      ],
      "text/plain": [
       "    first     last                   email\n",
       "0   Lalit  Kumawat  lalitkumawat@gmail.com\n",
       "1   Suraj  Siraswa  surajsiraswa@gmail.com\n",
       "2   Ankit  Kumawat    vermaankit@gmail.com\n",
       "3  Vikash    Tawar   vikashtawar@gmail.com\n",
       "4  Shohel     Khan    shohelkhan@gmail.com"
      ]
     },
     "execution_count": 23,
     "metadata": {},
     "output_type": "execute_result"
    }
   ],
   "source": [
    "df.loc[0, [\"last\", \"email\"]] = ['Kumawat', \"lalitkumawat@gmail.com\"]\n",
    "df"
   ]
  },
  {
   "cell_type": "code",
   "execution_count": 24,
   "metadata": {},
   "outputs": [
    {
     "data": {
      "text/html": [
       "<div>\n",
       "<style scoped>\n",
       "    .dataframe tbody tr th:only-of-type {\n",
       "        vertical-align: middle;\n",
       "    }\n",
       "\n",
       "    .dataframe tbody tr th {\n",
       "        vertical-align: top;\n",
       "    }\n",
       "\n",
       "    .dataframe thead th {\n",
       "        text-align: right;\n",
       "    }\n",
       "</style>\n",
       "<table border=\"1\" class=\"dataframe\">\n",
       "  <thead>\n",
       "    <tr style=\"text-align: right;\">\n",
       "      <th></th>\n",
       "      <th>first</th>\n",
       "      <th>last</th>\n",
       "      <th>email</th>\n",
       "    </tr>\n",
       "  </thead>\n",
       "  <tbody>\n",
       "    <tr>\n",
       "      <th>0</th>\n",
       "      <td>Lalit</td>\n",
       "      <td>Siraswa</td>\n",
       "      <td>lalitsiraswa@gmail.com</td>\n",
       "    </tr>\n",
       "    <tr>\n",
       "      <th>1</th>\n",
       "      <td>Suraj</td>\n",
       "      <td>Dhadeech</td>\n",
       "      <td>dhadeechsuraj@gmail.com</td>\n",
       "    </tr>\n",
       "    <tr>\n",
       "      <th>2</th>\n",
       "      <td>Ankit</td>\n",
       "      <td>Verma</td>\n",
       "      <td>vermaankit@gmail.com</td>\n",
       "    </tr>\n",
       "    <tr>\n",
       "      <th>3</th>\n",
       "      <td>Vikash</td>\n",
       "      <td>Tawar</td>\n",
       "      <td>vikashtawar@gmail.com</td>\n",
       "    </tr>\n",
       "    <tr>\n",
       "      <th>4</th>\n",
       "      <td>Shohel</td>\n",
       "      <td>Khan</td>\n",
       "      <td>shohelkhan@gmail.com</td>\n",
       "    </tr>\n",
       "  </tbody>\n",
       "</table>\n",
       "</div>"
      ],
      "text/plain": [
       "    first      last                    email\n",
       "0   Lalit   Siraswa   lalitsiraswa@gmail.com\n",
       "1   Suraj  Dhadeech  dhadeechsuraj@gmail.com\n",
       "2   Ankit     Verma     vermaankit@gmail.com\n",
       "3  Vikash     Tawar    vikashtawar@gmail.com\n",
       "4  Shohel      Khan     shohelkhan@gmail.com"
      ]
     },
     "execution_count": 24,
     "metadata": {},
     "output_type": "execute_result"
    }
   ],
   "source": [
    "df.loc[0, [\"last\", \"email\"]] = [\"Siraswa\", \"lalitsiraswa@gmail.com\"]\n",
    "df.loc[1, [\"last\", \"email\"]] = [\"Dhadeech\", \"dhadeechsuraj@gmail.com\"]\n",
    "df.loc[2, [\"last\", \"email\"]] = [\"Verma\", \"vermaankit@gmail.com\"]\n",
    "df"
   ]
  },
  {
   "cell_type": "code",
   "execution_count": 25,
   "metadata": {},
   "outputs": [
    {
     "data": {
      "text/html": [
       "<div>\n",
       "<style scoped>\n",
       "    .dataframe tbody tr th:only-of-type {\n",
       "        vertical-align: middle;\n",
       "    }\n",
       "\n",
       "    .dataframe tbody tr th {\n",
       "        vertical-align: top;\n",
       "    }\n",
       "\n",
       "    .dataframe thead th {\n",
       "        text-align: right;\n",
       "    }\n",
       "</style>\n",
       "<table border=\"1\" class=\"dataframe\">\n",
       "  <thead>\n",
       "    <tr style=\"text-align: right;\">\n",
       "      <th></th>\n",
       "      <th>first</th>\n",
       "      <th>last</th>\n",
       "      <th>email</th>\n",
       "    </tr>\n",
       "  </thead>\n",
       "  <tbody>\n",
       "    <tr>\n",
       "      <th>0</th>\n",
       "      <td>Lalit</td>\n",
       "      <td>Kumawat</td>\n",
       "      <td>kumawatlalit@gmail.com</td>\n",
       "    </tr>\n",
       "    <tr>\n",
       "      <th>1</th>\n",
       "      <td>Suraj</td>\n",
       "      <td>Dhadeech</td>\n",
       "      <td>dhadeechsuraj@gmail.com</td>\n",
       "    </tr>\n",
       "    <tr>\n",
       "      <th>2</th>\n",
       "      <td>Ankit</td>\n",
       "      <td>Verma</td>\n",
       "      <td>vermaankit@gmail.com</td>\n",
       "    </tr>\n",
       "    <tr>\n",
       "      <th>3</th>\n",
       "      <td>Vikash</td>\n",
       "      <td>Tawar</td>\n",
       "      <td>vikashtawar@gmail.com</td>\n",
       "    </tr>\n",
       "    <tr>\n",
       "      <th>4</th>\n",
       "      <td>Shohel</td>\n",
       "      <td>Khan</td>\n",
       "      <td>shohelkhan@gmail.com</td>\n",
       "    </tr>\n",
       "  </tbody>\n",
       "</table>\n",
       "</div>"
      ],
      "text/plain": [
       "    first      last                    email\n",
       "0   Lalit   Kumawat   kumawatlalit@gmail.com\n",
       "1   Suraj  Dhadeech  dhadeechsuraj@gmail.com\n",
       "2   Ankit     Verma     vermaankit@gmail.com\n",
       "3  Vikash     Tawar    vikashtawar@gmail.com\n",
       "4  Shohel      Khan     shohelkhan@gmail.com"
      ]
     },
     "execution_count": 25,
     "metadata": {},
     "output_type": "execute_result"
    }
   ],
   "source": [
    "df.at[0, [\"last\", \"email\"]] = [\"Kumawat\", \"kumawatlalit@gmail.com\"]\n",
    "df"
   ]
  },
  {
   "cell_type": "code",
   "execution_count": 26,
   "metadata": {},
   "outputs": [
    {
     "data": {
      "text/html": [
       "<div>\n",
       "<style scoped>\n",
       "    .dataframe tbody tr th:only-of-type {\n",
       "        vertical-align: middle;\n",
       "    }\n",
       "\n",
       "    .dataframe tbody tr th {\n",
       "        vertical-align: top;\n",
       "    }\n",
       "\n",
       "    .dataframe thead th {\n",
       "        text-align: right;\n",
       "    }\n",
       "</style>\n",
       "<table border=\"1\" class=\"dataframe\">\n",
       "  <thead>\n",
       "    <tr style=\"text-align: right;\">\n",
       "      <th></th>\n",
       "      <th>first</th>\n",
       "      <th>last</th>\n",
       "      <th>email</th>\n",
       "    </tr>\n",
       "  </thead>\n",
       "  <tbody>\n",
       "    <tr>\n",
       "      <th>0</th>\n",
       "      <td>Lalit</td>\n",
       "      <td>Kumawat</td>\n",
       "      <td>kumawatlalit@gmail.com</td>\n",
       "    </tr>\n",
       "    <tr>\n",
       "      <th>1</th>\n",
       "      <td>Suraj</td>\n",
       "      <td>Dhadeech</td>\n",
       "      <td>dhadeechsuraj@gmail.com</td>\n",
       "    </tr>\n",
       "    <tr>\n",
       "      <th>2</th>\n",
       "      <td>Ankit</td>\n",
       "      <td>Kumawat</td>\n",
       "      <td>kumawatankit@gmail.com</td>\n",
       "    </tr>\n",
       "    <tr>\n",
       "      <th>3</th>\n",
       "      <td>Vikash</td>\n",
       "      <td>Tawar</td>\n",
       "      <td>vikashtawar@gmail.com</td>\n",
       "    </tr>\n",
       "    <tr>\n",
       "      <th>4</th>\n",
       "      <td>Shohel</td>\n",
       "      <td>Khan</td>\n",
       "      <td>shohelkhan@gmail.com</td>\n",
       "    </tr>\n",
       "  </tbody>\n",
       "</table>\n",
       "</div>"
      ],
      "text/plain": [
       "    first      last                    email\n",
       "0   Lalit   Kumawat   kumawatlalit@gmail.com\n",
       "1   Suraj  Dhadeech  dhadeechsuraj@gmail.com\n",
       "2   Ankit   Kumawat   kumawatankit@gmail.com\n",
       "3  Vikash     Tawar    vikashtawar@gmail.com\n",
       "4  Shohel      Khan     shohelkhan@gmail.com"
      ]
     },
     "execution_count": 26,
     "metadata": {},
     "output_type": "execute_result"
    }
   ],
   "source": [
    "df.at[2, [\"last\", \"email\"]] = [\"Kumawat\", \"kumawatankit@gmail.com\"]\n",
    "df"
   ]
  },
  {
   "cell_type": "code",
   "execution_count": 27,
   "metadata": {},
   "outputs": [
    {
     "data": {
      "text/html": [
       "<div>\n",
       "<style scoped>\n",
       "    .dataframe tbody tr th:only-of-type {\n",
       "        vertical-align: middle;\n",
       "    }\n",
       "\n",
       "    .dataframe tbody tr th {\n",
       "        vertical-align: top;\n",
       "    }\n",
       "\n",
       "    .dataframe thead th {\n",
       "        text-align: right;\n",
       "    }\n",
       "</style>\n",
       "<table border=\"1\" class=\"dataframe\">\n",
       "  <thead>\n",
       "    <tr style=\"text-align: right;\">\n",
       "      <th></th>\n",
       "      <th>first</th>\n",
       "      <th>last</th>\n",
       "      <th>email</th>\n",
       "    </tr>\n",
       "  </thead>\n",
       "  <tbody>\n",
       "    <tr>\n",
       "      <th>0</th>\n",
       "      <td>Lalit</td>\n",
       "      <td>Siraswa</td>\n",
       "      <td>lalitsiraswa@gmail.com</td>\n",
       "    </tr>\n",
       "    <tr>\n",
       "      <th>1</th>\n",
       "      <td>Suraj</td>\n",
       "      <td>Dhadeech</td>\n",
       "      <td>dhadeechsuraj@gmail.com</td>\n",
       "    </tr>\n",
       "    <tr>\n",
       "      <th>2</th>\n",
       "      <td>Ankit</td>\n",
       "      <td>Verma</td>\n",
       "      <td>vermaankit@gmail.com</td>\n",
       "    </tr>\n",
       "    <tr>\n",
       "      <th>3</th>\n",
       "      <td>Vikash</td>\n",
       "      <td>Tanwar</td>\n",
       "      <td>vikashtanwar@gmail.com</td>\n",
       "    </tr>\n",
       "    <tr>\n",
       "      <th>4</th>\n",
       "      <td>Shohel</td>\n",
       "      <td>Khan</td>\n",
       "      <td>shohelkhan@gmail.com</td>\n",
       "    </tr>\n",
       "  </tbody>\n",
       "</table>\n",
       "</div>"
      ],
      "text/plain": [
       "    first      last                    email\n",
       "0   Lalit   Siraswa   lalitsiraswa@gmail.com\n",
       "1   Suraj  Dhadeech  dhadeechsuraj@gmail.com\n",
       "2   Ankit     Verma     vermaankit@gmail.com\n",
       "3  Vikash    Tanwar   vikashtanwar@gmail.com\n",
       "4  Shohel      Khan     shohelkhan@gmail.com"
      ]
     },
     "execution_count": 27,
     "metadata": {},
     "output_type": "execute_result"
    }
   ],
   "source": [
    "df.at[3, [\"last\", \"email\"]] = [\"Tanwar\", \"vikashtanwar@gmail.com\"]\n",
    "df.at[0, [\"last\", \"email\"]] = [\"Siraswa\", \"lalitsiraswa@gmail.com\"]\n",
    "df.at[2, [\"last\", \"email\"]] = [\"Verma\", \"vermaankit@gmail.com\"]\n",
    "df"
   ]
  },
  {
   "cell_type": "code",
   "execution_count": 28,
   "metadata": {},
   "outputs": [
    {
     "name": "stdout",
     "output_type": "stream",
     "text": [
      "   first     last                   email\n",
      "0  Lalit  Siraswa  lalitsiraswa@gmail.com \n",
      "\n",
      "   first     last                   email\n",
      "0  Lalit  Siraswa  lalitsiraswa@gmail.com \n",
      "\n",
      "0    Siraswa\n",
      "Name: last, dtype: object \n",
      "\n",
      "0    Siraswa\n",
      "Name: last, dtype: object \n",
      "\n",
      "0    Lalit\n",
      "Name: first, dtype: object \n",
      "\n"
     ]
    },
    {
     "data": {
      "text/html": [
       "<div>\n",
       "<style scoped>\n",
       "    .dataframe tbody tr th:only-of-type {\n",
       "        vertical-align: middle;\n",
       "    }\n",
       "\n",
       "    .dataframe tbody tr th {\n",
       "        vertical-align: top;\n",
       "    }\n",
       "\n",
       "    .dataframe thead th {\n",
       "        text-align: right;\n",
       "    }\n",
       "</style>\n",
       "<table border=\"1\" class=\"dataframe\">\n",
       "  <thead>\n",
       "    <tr style=\"text-align: right;\">\n",
       "      <th></th>\n",
       "      <th>first</th>\n",
       "      <th>last</th>\n",
       "      <th>email</th>\n",
       "    </tr>\n",
       "  </thead>\n",
       "  <tbody>\n",
       "    <tr>\n",
       "      <th>0</th>\n",
       "      <td>Lalit</td>\n",
       "      <td>Siraswa</td>\n",
       "      <td>lalitsiraswa@gmail.com</td>\n",
       "    </tr>\n",
       "    <tr>\n",
       "      <th>1</th>\n",
       "      <td>Suraj</td>\n",
       "      <td>Dhadeech</td>\n",
       "      <td>dhadeechsuraj@gmail.com</td>\n",
       "    </tr>\n",
       "    <tr>\n",
       "      <th>2</th>\n",
       "      <td>Ankit</td>\n",
       "      <td>Verma</td>\n",
       "      <td>vermaankit@gmail.com</td>\n",
       "    </tr>\n",
       "    <tr>\n",
       "      <th>3</th>\n",
       "      <td>Vikash</td>\n",
       "      <td>Tanwar</td>\n",
       "      <td>vikashtanwar@gmail.com</td>\n",
       "    </tr>\n",
       "    <tr>\n",
       "      <th>4</th>\n",
       "      <td>Shohel</td>\n",
       "      <td>Khan</td>\n",
       "      <td>shohelkhan@gmail.com</td>\n",
       "    </tr>\n",
       "  </tbody>\n",
       "</table>\n",
       "</div>"
      ],
      "text/plain": [
       "    first      last                    email\n",
       "0   Lalit   Siraswa   lalitsiraswa@gmail.com\n",
       "1   Suraj  Dhadeech  dhadeechsuraj@gmail.com\n",
       "2   Ankit     Verma     vermaankit@gmail.com\n",
       "3  Vikash    Tanwar   vikashtanwar@gmail.com\n",
       "4  Shohel      Khan     shohelkhan@gmail.com"
      ]
     },
     "execution_count": 28,
     "metadata": {},
     "output_type": "execute_result"
    }
   ],
   "source": [
    "filt = (df[\"last\"] == \"Siraswa\")\n",
    "print(df[filt], \"\\n\")\n",
    "print(df.loc[filt], \"\\n\")\n",
    "print(df.loc[filt, \"last\"], \"\\n\")\n",
    "print(df.loc[filt][\"last\"], \"\\n\")\n",
    "print(df[filt][\"first\"], \"\\n\")\n",
    "df.loc[filt, \"first\"] = \"Lucky\"\n",
    "# df.loc[filt][\"first\"] = \"Lalit\"\n",
    "df.loc[filt, \"first\"] = \"Lalit\"\n",
    "df"
   ]
  },
  {
   "cell_type": "code",
   "execution_count": 29,
   "metadata": {},
   "outputs": [
    {
     "name": "stdout",
     "output_type": "stream",
     "text": [
      "    first      last                    email\n",
      "0   Lalit   Siraswa   lalitsiraswa@gmail.com\n",
      "1   Suraj  Dhadeech  dhadeechsuraj@gmail.com\n",
      "2   Ankit     Verma     vermaankit@gmail.com\n",
      "3  Vikash    Tanwar   vikashtanwar@gmail.com\n",
      "4  Shohel      Khan     shohelkhan@gmail.com\n"
     ]
    }
   ],
   "source": [
    "print(df)"
   ]
  },
  {
   "cell_type": "code",
   "execution_count": 30,
   "metadata": {},
   "outputs": [
    {
     "name": "stderr",
     "output_type": "stream",
     "text": [
      "C:\\Users\\DeViL-AnGeL\\Anaconda3\\lib\\site-packages\\ipykernel_launcher.py:3: SettingWithCopyWarning: \n",
      "A value is trying to be set on a copy of a slice from a DataFrame.\n",
      "Try using .loc[row_indexer,col_indexer] = value instead\n",
      "\n",
      "See the caveats in the documentation: http://pandas.pydata.org/pandas-docs/stable/indexing.html#indexing-view-versus-copy\n",
      "  This is separate from the ipykernel package so we can avoid doing imports until\n",
      "C:\\Users\\DeViL-AnGeL\\Anaconda3\\lib\\site-packages\\ipykernel_launcher.py:4: SettingWithCopyWarning: \n",
      "A value is trying to be set on a copy of a slice from a DataFrame.\n",
      "Try using .loc[row_indexer,col_indexer] = value instead\n",
      "\n",
      "See the caveats in the documentation: http://pandas.pydata.org/pandas-docs/stable/indexing.html#indexing-view-versus-copy\n",
      "  after removing the cwd from sys.path.\n"
     ]
    },
    {
     "data": {
      "text/html": [
       "<div>\n",
       "<style scoped>\n",
       "    .dataframe tbody tr th:only-of-type {\n",
       "        vertical-align: middle;\n",
       "    }\n",
       "\n",
       "    .dataframe tbody tr th {\n",
       "        vertical-align: top;\n",
       "    }\n",
       "\n",
       "    .dataframe thead th {\n",
       "        text-align: right;\n",
       "    }\n",
       "</style>\n",
       "<table border=\"1\" class=\"dataframe\">\n",
       "  <thead>\n",
       "    <tr style=\"text-align: right;\">\n",
       "      <th></th>\n",
       "      <th>first</th>\n",
       "      <th>last</th>\n",
       "      <th>email</th>\n",
       "    </tr>\n",
       "  </thead>\n",
       "  <tbody>\n",
       "    <tr>\n",
       "      <th>0</th>\n",
       "      <td>Lalit</td>\n",
       "      <td>Siraswa</td>\n",
       "      <td>lalitsiraswa@gmail.com</td>\n",
       "    </tr>\n",
       "    <tr>\n",
       "      <th>1</th>\n",
       "      <td>Suraj</td>\n",
       "      <td>Dhadeech</td>\n",
       "      <td>dhadeechsuraj@gmail.com</td>\n",
       "    </tr>\n",
       "    <tr>\n",
       "      <th>2</th>\n",
       "      <td>Ankit</td>\n",
       "      <td>Verma</td>\n",
       "      <td>vermaankit@gmail.com</td>\n",
       "    </tr>\n",
       "    <tr>\n",
       "      <th>3</th>\n",
       "      <td>Vikash</td>\n",
       "      <td>Tanwar</td>\n",
       "      <td>vikashtanwar@gmail.com</td>\n",
       "    </tr>\n",
       "    <tr>\n",
       "      <th>4</th>\n",
       "      <td>Shohel</td>\n",
       "      <td>Khan</td>\n",
       "      <td>shohelkhan@gmail.com</td>\n",
       "    </tr>\n",
       "  </tbody>\n",
       "</table>\n",
       "</div>"
      ],
      "text/plain": [
       "    first      last                    email\n",
       "0   Lalit   Siraswa   lalitsiraswa@gmail.com\n",
       "1   Suraj  Dhadeech  dhadeechsuraj@gmail.com\n",
       "2   Ankit     Verma     vermaankit@gmail.com\n",
       "3  Vikash    Tanwar   vikashtanwar@gmail.com\n",
       "4  Shohel      Khan     shohelkhan@gmail.com"
      ]
     },
     "execution_count": 30,
     "metadata": {},
     "output_type": "execute_result"
    }
   ],
   "source": [
    "df.loc[2][\"last\"] = \"Sharma\"\n",
    "filt = df[\"last\"] == \"Sharma\"\n",
    "df[filt] [\"last\"] = \"Verma\"\n",
    "df.loc[filt][\"last\"] = \"Verma\"\n",
    "df.loc[filt, \"last\"] = \"Verma\"\n",
    "df"
   ]
  },
  {
   "cell_type": "code",
   "execution_count": 31,
   "metadata": {},
   "outputs": [
    {
     "data": {
      "text/html": [
       "<div>\n",
       "<style scoped>\n",
       "    .dataframe tbody tr th:only-of-type {\n",
       "        vertical-align: middle;\n",
       "    }\n",
       "\n",
       "    .dataframe tbody tr th {\n",
       "        vertical-align: top;\n",
       "    }\n",
       "\n",
       "    .dataframe thead th {\n",
       "        text-align: right;\n",
       "    }\n",
       "</style>\n",
       "<table border=\"1\" class=\"dataframe\">\n",
       "  <thead>\n",
       "    <tr style=\"text-align: right;\">\n",
       "      <th></th>\n",
       "      <th>first</th>\n",
       "      <th>last</th>\n",
       "      <th>email</th>\n",
       "    </tr>\n",
       "  </thead>\n",
       "  <tbody>\n",
       "    <tr>\n",
       "      <th>0</th>\n",
       "      <td>Lalit</td>\n",
       "      <td>Siraswa</td>\n",
       "      <td>lalitsiraswa@gmail.com</td>\n",
       "    </tr>\n",
       "    <tr>\n",
       "      <th>1</th>\n",
       "      <td>Suraj</td>\n",
       "      <td>Dhadeech</td>\n",
       "      <td>dhadeechsuraj@gmail.com</td>\n",
       "    </tr>\n",
       "    <tr>\n",
       "      <th>2</th>\n",
       "      <td>Ankit</td>\n",
       "      <td>Verma</td>\n",
       "      <td>vermaankit@gmail.com</td>\n",
       "    </tr>\n",
       "    <tr>\n",
       "      <th>3</th>\n",
       "      <td>Vikash</td>\n",
       "      <td>Tanwar</td>\n",
       "      <td>vikashtanwar@gmail.com</td>\n",
       "    </tr>\n",
       "    <tr>\n",
       "      <th>4</th>\n",
       "      <td>Shohel</td>\n",
       "      <td>Khan</td>\n",
       "      <td>shohelkhan@gmail.com</td>\n",
       "    </tr>\n",
       "  </tbody>\n",
       "</table>\n",
       "</div>"
      ],
      "text/plain": [
       "    first      last                    email\n",
       "0   Lalit   Siraswa   lalitsiraswa@gmail.com\n",
       "1   Suraj  Dhadeech  dhadeechsuraj@gmail.com\n",
       "2   Ankit     Verma     vermaankit@gmail.com\n",
       "3  Vikash    Tanwar   vikashtanwar@gmail.com\n",
       "4  Shohel      Khan     shohelkhan@gmail.com"
      ]
     },
     "execution_count": 31,
     "metadata": {},
     "output_type": "execute_result"
    }
   ],
   "source": [
    "df"
   ]
  },
  {
   "cell_type": "code",
   "execution_count": 32,
   "metadata": {},
   "outputs": [
    {
     "data": {
      "text/html": [
       "<div>\n",
       "<style scoped>\n",
       "    .dataframe tbody tr th:only-of-type {\n",
       "        vertical-align: middle;\n",
       "    }\n",
       "\n",
       "    .dataframe tbody tr th {\n",
       "        vertical-align: top;\n",
       "    }\n",
       "\n",
       "    .dataframe thead th {\n",
       "        text-align: right;\n",
       "    }\n",
       "</style>\n",
       "<table border=\"1\" class=\"dataframe\">\n",
       "  <thead>\n",
       "    <tr style=\"text-align: right;\">\n",
       "      <th></th>\n",
       "      <th>first</th>\n",
       "      <th>last</th>\n",
       "      <th>email</th>\n",
       "    </tr>\n",
       "  </thead>\n",
       "  <tbody>\n",
       "    <tr>\n",
       "      <th>0</th>\n",
       "      <td>Lalit</td>\n",
       "      <td>Kumawat</td>\n",
       "      <td>lalitsiraswa@gmail.com</td>\n",
       "    </tr>\n",
       "    <tr>\n",
       "      <th>1</th>\n",
       "      <td>Suraj</td>\n",
       "      <td>Sharma</td>\n",
       "      <td>dhadeechsuraj@gmail.com</td>\n",
       "    </tr>\n",
       "    <tr>\n",
       "      <th>2</th>\n",
       "      <td>Ankit</td>\n",
       "      <td>Verma</td>\n",
       "      <td>vermaankit@gmail.com</td>\n",
       "    </tr>\n",
       "    <tr>\n",
       "      <th>3</th>\n",
       "      <td>Vikash</td>\n",
       "      <td>Tanvar</td>\n",
       "      <td>vikashtanwar@gmail.com</td>\n",
       "    </tr>\n",
       "    <tr>\n",
       "      <th>4</th>\n",
       "      <td>Shohel</td>\n",
       "      <td>Khan</td>\n",
       "      <td>shohelkhan@gmail.com</td>\n",
       "    </tr>\n",
       "  </tbody>\n",
       "</table>\n",
       "</div>"
      ],
      "text/plain": [
       "    first     last                    email\n",
       "0   Lalit  Kumawat   lalitsiraswa@gmail.com\n",
       "1   Suraj   Sharma  dhadeechsuraj@gmail.com\n",
       "2   Ankit    Verma     vermaankit@gmail.com\n",
       "3  Vikash   Tanvar   vikashtanwar@gmail.com\n",
       "4  Shohel     Khan     shohelkhan@gmail.com"
      ]
     },
     "execution_count": 32,
     "metadata": {},
     "output_type": "execute_result"
    }
   ],
   "source": [
    "df.at[0 : , \"last\"] = [\"Kumawat\", \"Sharma\", \"Verma\", \"Tanvar\", \"Khan\"]\n",
    "df"
   ]
  },
  {
   "cell_type": "code",
   "execution_count": 33,
   "metadata": {},
   "outputs": [
    {
     "data": {
      "text/html": [
       "<div>\n",
       "<style scoped>\n",
       "    .dataframe tbody tr th:only-of-type {\n",
       "        vertical-align: middle;\n",
       "    }\n",
       "\n",
       "    .dataframe tbody tr th {\n",
       "        vertical-align: top;\n",
       "    }\n",
       "\n",
       "    .dataframe thead th {\n",
       "        text-align: right;\n",
       "    }\n",
       "</style>\n",
       "<table border=\"1\" class=\"dataframe\">\n",
       "  <thead>\n",
       "    <tr style=\"text-align: right;\">\n",
       "      <th></th>\n",
       "      <th>first</th>\n",
       "      <th>last</th>\n",
       "      <th>email</th>\n",
       "    </tr>\n",
       "  </thead>\n",
       "  <tbody>\n",
       "    <tr>\n",
       "      <th>0</th>\n",
       "      <td>Lalit</td>\n",
       "      <td>Siraswa</td>\n",
       "      <td>lalitsiraswa@gmail.com</td>\n",
       "    </tr>\n",
       "    <tr>\n",
       "      <th>1</th>\n",
       "      <td>Suraj</td>\n",
       "      <td>Dhadeech</td>\n",
       "      <td>dhadeechsuraj@gmail.com</td>\n",
       "    </tr>\n",
       "    <tr>\n",
       "      <th>2</th>\n",
       "      <td>Ankit</td>\n",
       "      <td>Verma</td>\n",
       "      <td>vermaankit@gmail.com</td>\n",
       "    </tr>\n",
       "    <tr>\n",
       "      <th>3</th>\n",
       "      <td>Vikash</td>\n",
       "      <td>Tanwar</td>\n",
       "      <td>vikashtanwar@gmail.com</td>\n",
       "    </tr>\n",
       "    <tr>\n",
       "      <th>4</th>\n",
       "      <td>Shohel</td>\n",
       "      <td>Khan</td>\n",
       "      <td>shohelkhan@gmail.com</td>\n",
       "    </tr>\n",
       "  </tbody>\n",
       "</table>\n",
       "</div>"
      ],
      "text/plain": [
       "    first      last                    email\n",
       "0   Lalit   Siraswa   lalitsiraswa@gmail.com\n",
       "1   Suraj  Dhadeech  dhadeechsuraj@gmail.com\n",
       "2   Ankit     Verma     vermaankit@gmail.com\n",
       "3  Vikash    Tanwar   vikashtanwar@gmail.com\n",
       "4  Shohel      Khan     shohelkhan@gmail.com"
      ]
     },
     "execution_count": 33,
     "metadata": {},
     "output_type": "execute_result"
    }
   ],
   "source": [
    "df.loc[0 : , \"last\"] = [\"Siraswa\", \"Dhadeech\", \"Verma\", \"Tanwar\", \"Khan\"]\n",
    "df"
   ]
  },
  {
   "cell_type": "code",
   "execution_count": 34,
   "metadata": {},
   "outputs": [
    {
     "data": {
      "text/html": [
       "<div>\n",
       "<style scoped>\n",
       "    .dataframe tbody tr th:only-of-type {\n",
       "        vertical-align: middle;\n",
       "    }\n",
       "\n",
       "    .dataframe tbody tr th {\n",
       "        vertical-align: top;\n",
       "    }\n",
       "\n",
       "    .dataframe thead th {\n",
       "        text-align: right;\n",
       "    }\n",
       "</style>\n",
       "<table border=\"1\" class=\"dataframe\">\n",
       "  <thead>\n",
       "    <tr style=\"text-align: right;\">\n",
       "      <th></th>\n",
       "      <th>first</th>\n",
       "      <th>last</th>\n",
       "      <th>email</th>\n",
       "    </tr>\n",
       "  </thead>\n",
       "  <tbody>\n",
       "    <tr>\n",
       "      <th>0</th>\n",
       "      <td>Lalit</td>\n",
       "      <td>Siraswa</td>\n",
       "      <td>LALITSIRASWA@GMAIL.COM</td>\n",
       "    </tr>\n",
       "    <tr>\n",
       "      <th>1</th>\n",
       "      <td>Suraj</td>\n",
       "      <td>Dhadeech</td>\n",
       "      <td>DHADEECHSURAJ@GMAIL.COM</td>\n",
       "    </tr>\n",
       "    <tr>\n",
       "      <th>2</th>\n",
       "      <td>Ankit</td>\n",
       "      <td>Verma</td>\n",
       "      <td>VERMAANKIT@GMAIL.COM</td>\n",
       "    </tr>\n",
       "    <tr>\n",
       "      <th>3</th>\n",
       "      <td>Vikash</td>\n",
       "      <td>Tanwar</td>\n",
       "      <td>VIKASHTANWAR@GMAIL.COM</td>\n",
       "    </tr>\n",
       "    <tr>\n",
       "      <th>4</th>\n",
       "      <td>Shohel</td>\n",
       "      <td>Khan</td>\n",
       "      <td>SHOHELKHAN@GMAIL.COM</td>\n",
       "    </tr>\n",
       "  </tbody>\n",
       "</table>\n",
       "</div>"
      ],
      "text/plain": [
       "    first      last                    email\n",
       "0   Lalit   Siraswa   LALITSIRASWA@GMAIL.COM\n",
       "1   Suraj  Dhadeech  DHADEECHSURAJ@GMAIL.COM\n",
       "2   Ankit     Verma     VERMAANKIT@GMAIL.COM\n",
       "3  Vikash    Tanwar   VIKASHTANWAR@GMAIL.COM\n",
       "4  Shohel      Khan     SHOHELKHAN@GMAIL.COM"
      ]
     },
     "execution_count": 34,
     "metadata": {},
     "output_type": "execute_result"
    }
   ],
   "source": [
    "df[\"email\"] = [x.upper() for x in df[\"email\"]]\n",
    "df"
   ]
  },
  {
   "cell_type": "code",
   "execution_count": 35,
   "metadata": {},
   "outputs": [
    {
     "name": "stdout",
     "output_type": "stream",
     "text": [
      "0     LALIT\n",
      "1     SURAJ\n",
      "2     ANKIT\n",
      "3    VIKASH\n",
      "4    SHOHEL\n",
      "Name: first, dtype: object \n",
      "\n",
      "0     siraswa\n",
      "1    dhadeech\n",
      "2       verma\n",
      "3      tanwar\n",
      "4        khan\n",
      "Name: last, dtype: object \n",
      "\n",
      "0     Lalit\n",
      "1     Suraj\n",
      "2     Ankit\n",
      "3    Vikash\n",
      "4    Shohel\n",
      "Name: first, dtype: object \n",
      "\n",
      "0     Siraswa\n",
      "1    Dhadeech\n",
      "2       Verma\n",
      "3      Tanwar\n",
      "4        Khan\n",
      "Name: last, dtype: object \n",
      "\n"
     ]
    }
   ],
   "source": [
    "print(df[\"first\"].str.upper(), \"\\n\")\n",
    "print(df[\"last\"].str.lower(), \"\\n\")\n",
    "print(df[\"first\"].str.title(), \"\\n\")\n",
    "print(df[\"last\"].str.capitalize(), \"\\n\")"
   ]
  },
  {
   "cell_type": "code",
   "execution_count": 36,
   "metadata": {},
   "outputs": [
    {
     "name": "stdout",
     "output_type": "stream",
     "text": [
      "    first      last                    email\n",
      "0   Lalit   Siraswa   LALITSIRASWA@GMAIL.COM\n",
      "1   Suraj  Dhadeech  DHADEECHSURAJ@GMAIL.COM\n",
      "2   Ankit     Verma     VERMAANKIT@GMAIL.COM\n",
      "3  Vikash    Tanwar   VIKASHTANWAR@GMAIL.COM\n",
      "4  Shohel      Khan     SHOHELKHAN@GMAIL.COM \n",
      "\n",
      "        first      last                    email\n",
      "0       Lalit   Siraswa   LALITSIRASWA@GMAIL.COM\n",
      "1       Suraj  Dhadeech  DHADEECHSURAJ@GMAIL.COM\n",
      "2       Ankit     Verma     VERMAANKIT@GMAIL.COM\n",
      "3      Vikash    Tanwar   VIKASHTANWAR@GMAIL.COM\n",
      "4      Shohel      Khan     SHOHELKHAN@GMAIL.COM\n",
      "email     NaN       NaN                      NaN \n",
      "\n"
     ]
    }
   ],
   "source": [
    "print(df, \"\\n\")\n",
    "df.loc[\"email\"] = df[\"email\"].str.lower()\n",
    "print(df, \"\\n\")"
   ]
  },
  {
   "cell_type": "code",
   "execution_count": 37,
   "metadata": {},
   "outputs": [],
   "source": [
    "df[\"email\"] = df[\"email\"].str.upper()"
   ]
  },
  {
   "cell_type": "code",
   "execution_count": 38,
   "metadata": {
    "scrolled": false
   },
   "outputs": [],
   "source": [
    "def update_email(email):\n",
    "    return str(email).upper()"
   ]
  },
  {
   "cell_type": "code",
   "execution_count": 39,
   "metadata": {},
   "outputs": [
    {
     "data": {
      "text/plain": [
       "0         LALITSIRASWA@GMAIL.COM\n",
       "1        DHADEECHSURAJ@GMAIL.COM\n",
       "2           VERMAANKIT@GMAIL.COM\n",
       "3         VIKASHTANWAR@GMAIL.COM\n",
       "4           SHOHELKHAN@GMAIL.COM\n",
       "email                        NAN\n",
       "Name: email, dtype: object"
      ]
     },
     "execution_count": 39,
     "metadata": {},
     "output_type": "execute_result"
    }
   ],
   "source": [
    "df[\"email\"].apply(update_email)"
   ]
  },
  {
   "cell_type": "code",
   "execution_count": 40,
   "metadata": {},
   "outputs": [
    {
     "data": {
      "text/html": [
       "<div>\n",
       "<style scoped>\n",
       "    .dataframe tbody tr th:only-of-type {\n",
       "        vertical-align: middle;\n",
       "    }\n",
       "\n",
       "    .dataframe tbody tr th {\n",
       "        vertical-align: top;\n",
       "    }\n",
       "\n",
       "    .dataframe thead th {\n",
       "        text-align: right;\n",
       "    }\n",
       "</style>\n",
       "<table border=\"1\" class=\"dataframe\">\n",
       "  <thead>\n",
       "    <tr style=\"text-align: right;\">\n",
       "      <th></th>\n",
       "      <th>first</th>\n",
       "      <th>last</th>\n",
       "      <th>email</th>\n",
       "    </tr>\n",
       "  </thead>\n",
       "  <tbody>\n",
       "    <tr>\n",
       "      <th>0</th>\n",
       "      <td>Lalit</td>\n",
       "      <td>Siraswa</td>\n",
       "      <td>LALITSIRASWA@GMAIL.COM</td>\n",
       "    </tr>\n",
       "    <tr>\n",
       "      <th>1</th>\n",
       "      <td>Suraj</td>\n",
       "      <td>Dhadeech</td>\n",
       "      <td>DHADEECHSURAJ@GMAIL.COM</td>\n",
       "    </tr>\n",
       "    <tr>\n",
       "      <th>2</th>\n",
       "      <td>Ankit</td>\n",
       "      <td>Verma</td>\n",
       "      <td>VERMAANKIT@GMAIL.COM</td>\n",
       "    </tr>\n",
       "    <tr>\n",
       "      <th>3</th>\n",
       "      <td>Vikash</td>\n",
       "      <td>Tanwar</td>\n",
       "      <td>VIKASHTANWAR@GMAIL.COM</td>\n",
       "    </tr>\n",
       "    <tr>\n",
       "      <th>4</th>\n",
       "      <td>Shohel</td>\n",
       "      <td>Khan</td>\n",
       "      <td>SHOHELKHAN@GMAIL.COM</td>\n",
       "    </tr>\n",
       "    <tr>\n",
       "      <th>email</th>\n",
       "      <td>NaN</td>\n",
       "      <td>NaN</td>\n",
       "      <td>NaN</td>\n",
       "    </tr>\n",
       "  </tbody>\n",
       "</table>\n",
       "</div>"
      ],
      "text/plain": [
       "        first      last                    email\n",
       "0       Lalit   Siraswa   LALITSIRASWA@GMAIL.COM\n",
       "1       Suraj  Dhadeech  DHADEECHSURAJ@GMAIL.COM\n",
       "2       Ankit     Verma     VERMAANKIT@GMAIL.COM\n",
       "3      Vikash    Tanwar   VIKASHTANWAR@GMAIL.COM\n",
       "4      Shohel      Khan     SHOHELKHAN@GMAIL.COM\n",
       "email     NaN       NaN                      NaN"
      ]
     },
     "execution_count": 40,
     "metadata": {},
     "output_type": "execute_result"
    }
   ],
   "source": [
    "df"
   ]
  },
  {
   "cell_type": "code",
   "execution_count": 41,
   "metadata": {},
   "outputs": [],
   "source": [
    "people = {\n",
    "    \"first\" : [\"Lalit\", \"Suraj\", \"Ankit\", \"Vikash\", \"Shohel\"],\n",
    "    \"last\" : [\"Siraswa\", \"Dhadeech\", \"Verma\", \"Tawar\", \"Khan\"],\n",
    "    \"email\" : [\"lalitsiraswa@gmail.com\", \"surajdhadeech@gmail.com\", \"ankitverma@gmail.com\", \"vikashtawar@gmail.com\", \"shohelkhan@gmail.com\"]\n",
    "}"
   ]
  },
  {
   "cell_type": "code",
   "execution_count": 42,
   "metadata": {},
   "outputs": [
    {
     "data": {
      "text/html": [
       "<div>\n",
       "<style scoped>\n",
       "    .dataframe tbody tr th:only-of-type {\n",
       "        vertical-align: middle;\n",
       "    }\n",
       "\n",
       "    .dataframe tbody tr th {\n",
       "        vertical-align: top;\n",
       "    }\n",
       "\n",
       "    .dataframe thead th {\n",
       "        text-align: right;\n",
       "    }\n",
       "</style>\n",
       "<table border=\"1\" class=\"dataframe\">\n",
       "  <thead>\n",
       "    <tr style=\"text-align: right;\">\n",
       "      <th></th>\n",
       "      <th>first</th>\n",
       "      <th>last</th>\n",
       "      <th>email</th>\n",
       "    </tr>\n",
       "  </thead>\n",
       "  <tbody>\n",
       "    <tr>\n",
       "      <th>0</th>\n",
       "      <td>Lalit</td>\n",
       "      <td>Siraswa</td>\n",
       "      <td>lalitsiraswa@gmail.com</td>\n",
       "    </tr>\n",
       "    <tr>\n",
       "      <th>1</th>\n",
       "      <td>Suraj</td>\n",
       "      <td>Dhadeech</td>\n",
       "      <td>surajdhadeech@gmail.com</td>\n",
       "    </tr>\n",
       "    <tr>\n",
       "      <th>2</th>\n",
       "      <td>Ankit</td>\n",
       "      <td>Verma</td>\n",
       "      <td>ankitverma@gmail.com</td>\n",
       "    </tr>\n",
       "    <tr>\n",
       "      <th>3</th>\n",
       "      <td>Vikash</td>\n",
       "      <td>Tawar</td>\n",
       "      <td>vikashtawar@gmail.com</td>\n",
       "    </tr>\n",
       "    <tr>\n",
       "      <th>4</th>\n",
       "      <td>Shohel</td>\n",
       "      <td>Khan</td>\n",
       "      <td>shohelkhan@gmail.com</td>\n",
       "    </tr>\n",
       "  </tbody>\n",
       "</table>\n",
       "</div>"
      ],
      "text/plain": [
       "    first      last                    email\n",
       "0   Lalit   Siraswa   lalitsiraswa@gmail.com\n",
       "1   Suraj  Dhadeech  surajdhadeech@gmail.com\n",
       "2   Ankit     Verma     ankitverma@gmail.com\n",
       "3  Vikash     Tawar    vikashtawar@gmail.com\n",
       "4  Shohel      Khan     shohelkhan@gmail.com"
      ]
     },
     "execution_count": 42,
     "metadata": {},
     "output_type": "execute_result"
    }
   ],
   "source": [
    "df = pd.DataFrame(data = people)\n",
    "df"
   ]
  },
  {
   "cell_type": "code",
   "execution_count": 43,
   "metadata": {},
   "outputs": [
    {
     "name": "stdout",
     "output_type": "stream",
     "text": [
      "0     LALITSIRASWA@GMAIL.COM\n",
      "1    SURAJDHADEECH@GMAIL.COM\n",
      "2       ANKITVERMA@GMAIL.COM\n",
      "3      VIKASHTAWAR@GMAIL.COM\n",
      "4       SHOHELKHAN@GMAIL.COM\n",
      "Name: email, dtype: object \n",
      "\n",
      "0     Lalitsiraswa@Gmail.Com\n",
      "1    Surajdhadeech@Gmail.Com\n",
      "2       Ankitverma@Gmail.Com\n",
      "3      Vikashtawar@Gmail.Com\n",
      "4       Shohelkhan@Gmail.Com\n",
      "Name: email, dtype: object \n",
      "\n",
      "0     Lalitsiraswa@gmail.com\n",
      "1    Surajdhadeech@gmail.com\n",
      "2       Ankitverma@gmail.com\n",
      "3      Vikashtawar@gmail.com\n",
      "4       Shohelkhan@gmail.com\n",
      "Name: email, dtype: object \n",
      "\n"
     ]
    }
   ],
   "source": [
    "print(df[\"email\"].str.upper(), \"\\n\")\n",
    "print(df[\"email\"].str.title(), \"\\n\")\n",
    "print(df[\"email\"].str.capitalize(), \"\\n\")"
   ]
  },
  {
   "cell_type": "code",
   "execution_count": 44,
   "metadata": {},
   "outputs": [
    {
     "data": {
      "text/html": [
       "<div>\n",
       "<style scoped>\n",
       "    .dataframe tbody tr th:only-of-type {\n",
       "        vertical-align: middle;\n",
       "    }\n",
       "\n",
       "    .dataframe tbody tr th {\n",
       "        vertical-align: top;\n",
       "    }\n",
       "\n",
       "    .dataframe thead th {\n",
       "        text-align: right;\n",
       "    }\n",
       "</style>\n",
       "<table border=\"1\" class=\"dataframe\">\n",
       "  <thead>\n",
       "    <tr style=\"text-align: right;\">\n",
       "      <th></th>\n",
       "      <th>first</th>\n",
       "      <th>last</th>\n",
       "      <th>email</th>\n",
       "    </tr>\n",
       "  </thead>\n",
       "  <tbody>\n",
       "    <tr>\n",
       "      <th>0</th>\n",
       "      <td>Lalit</td>\n",
       "      <td>Siraswa</td>\n",
       "      <td>lalitsiraswa@gmail.com</td>\n",
       "    </tr>\n",
       "    <tr>\n",
       "      <th>1</th>\n",
       "      <td>Suraj</td>\n",
       "      <td>Dhadeech</td>\n",
       "      <td>surajdhadeech@gmail.com</td>\n",
       "    </tr>\n",
       "    <tr>\n",
       "      <th>2</th>\n",
       "      <td>Ankit</td>\n",
       "      <td>Verma</td>\n",
       "      <td>ankitverma@gmail.com</td>\n",
       "    </tr>\n",
       "    <tr>\n",
       "      <th>3</th>\n",
       "      <td>Vikash</td>\n",
       "      <td>Tawar</td>\n",
       "      <td>vikashtawar@gmail.com</td>\n",
       "    </tr>\n",
       "    <tr>\n",
       "      <th>4</th>\n",
       "      <td>Shohel</td>\n",
       "      <td>Khan</td>\n",
       "      <td>shohelkhan@gmail.com</td>\n",
       "    </tr>\n",
       "  </tbody>\n",
       "</table>\n",
       "</div>"
      ],
      "text/plain": [
       "    first      last                    email\n",
       "0   Lalit   Siraswa   lalitsiraswa@gmail.com\n",
       "1   Suraj  Dhadeech  surajdhadeech@gmail.com\n",
       "2   Ankit     Verma     ankitverma@gmail.com\n",
       "3  Vikash     Tawar    vikashtawar@gmail.com\n",
       "4  Shohel      Khan     shohelkhan@gmail.com"
      ]
     },
     "execution_count": 44,
     "metadata": {},
     "output_type": "execute_result"
    }
   ],
   "source": [
    "df"
   ]
  },
  {
   "cell_type": "code",
   "execution_count": 45,
   "metadata": {},
   "outputs": [],
   "source": [
    "# print(df[\"first\"].apply(lambda name : name.upper()), \"\\n\")\n",
    "# print(df[\"last\"].apply(lambda lastname : lastname.lower()), \"\\n\")\n",
    "# print(df[\"last\"].apply(lambda lastname : lastname.title()), \"\\n\")\n",
    "# print(df[\"email\"].apply(lambda email : email.upper()), \"\\n\")"
   ]
  },
  {
   "cell_type": "code",
   "execution_count": 46,
   "metadata": {},
   "outputs": [],
   "source": [
    "# print(df.sort_values(\"first\"), \"\\n\")\n",
    "# print(df.sort_values(\"last\"), \"\\n\")"
   ]
  },
  {
   "cell_type": "code",
   "execution_count": 47,
   "metadata": {},
   "outputs": [
    {
     "name": "stdout",
     "output_type": "stream",
     "text": [
      "Vikash \n",
      "\n",
      "Ankit \n",
      "\n"
     ]
    }
   ],
   "source": [
    "print(df[\"first\"].max(), \"\\n\")\n",
    "print(df[\"first\"].min(), \"\\n\")"
   ]
  },
  {
   "cell_type": "code",
   "execution_count": 48,
   "metadata": {},
   "outputs": [
    {
     "name": "stdout",
     "output_type": "stream",
     "text": [
      "first    5\n",
      "last     5\n",
      "email    5\n",
      "dtype: int64 \n",
      "\n",
      "0    3\n",
      "1    3\n",
      "2    3\n",
      "3    3\n",
      "4    3\n",
      "dtype: int64 \n",
      "\n"
     ]
    }
   ],
   "source": [
    "print(df.apply(len), \"\\n\")\n",
    "print(df.apply(len, axis = 1), \"\\n\")"
   ]
  },
  {
   "cell_type": "code",
   "execution_count": 49,
   "metadata": {},
   "outputs": [
    {
     "name": "stdout",
     "output_type": "stream",
     "text": [
      "first                   Ankit\n",
      "last                 Dhadeech\n",
      "email    ankitverma@gmail.com\n",
      "dtype: object \n",
      "\n",
      "first                   Vikash\n",
      "last                     Verma\n",
      "email    vikashtawar@gmail.com\n",
      "dtype: object \n",
      "\n"
     ]
    }
   ],
   "source": [
    "print(df.apply(pd.Series.min), \"\\n\")\n",
    "print(df.apply(pd.Series.max), \"\\n\")"
   ]
  },
  {
   "cell_type": "code",
   "execution_count": 50,
   "metadata": {},
   "outputs": [
    {
     "name": "stdout",
     "output_type": "stream",
     "text": [
      "first                   Ankit\n",
      "last                 Dhadeech\n",
      "email    ankitverma@gmail.com\n",
      "dtype: object \n",
      "\n",
      "first                   Vikash\n",
      "last                     Verma\n",
      "email    vikashtawar@gmail.com\n",
      "dtype: object \n",
      "\n"
     ]
    }
   ],
   "source": [
    "print(df.apply(lambda x : x.min()), \"\\n\")\n",
    "print(df.apply(lambda x : x.max()), \"\\n\")"
   ]
  },
  {
   "cell_type": "code",
   "execution_count": 51,
   "metadata": {},
   "outputs": [
    {
     "data": {
      "text/html": [
       "<div>\n",
       "<style scoped>\n",
       "    .dataframe tbody tr th:only-of-type {\n",
       "        vertical-align: middle;\n",
       "    }\n",
       "\n",
       "    .dataframe tbody tr th {\n",
       "        vertical-align: top;\n",
       "    }\n",
       "\n",
       "    .dataframe thead th {\n",
       "        text-align: right;\n",
       "    }\n",
       "</style>\n",
       "<table border=\"1\" class=\"dataframe\">\n",
       "  <thead>\n",
       "    <tr style=\"text-align: right;\">\n",
       "      <th></th>\n",
       "      <th>first</th>\n",
       "      <th>last</th>\n",
       "      <th>email</th>\n",
       "    </tr>\n",
       "  </thead>\n",
       "  <tbody>\n",
       "    <tr>\n",
       "      <th>0</th>\n",
       "      <td>Lalit</td>\n",
       "      <td>Siraswa</td>\n",
       "      <td>lalitsiraswa@gmail.com</td>\n",
       "    </tr>\n",
       "    <tr>\n",
       "      <th>1</th>\n",
       "      <td>Suraj</td>\n",
       "      <td>Dhadeech</td>\n",
       "      <td>surajdhadeech@gmail.com</td>\n",
       "    </tr>\n",
       "    <tr>\n",
       "      <th>2</th>\n",
       "      <td>Ankit</td>\n",
       "      <td>Verma</td>\n",
       "      <td>ankitverma@gmail.com</td>\n",
       "    </tr>\n",
       "    <tr>\n",
       "      <th>3</th>\n",
       "      <td>Vikash</td>\n",
       "      <td>Tawar</td>\n",
       "      <td>vikashtawar@gmail.com</td>\n",
       "    </tr>\n",
       "    <tr>\n",
       "      <th>4</th>\n",
       "      <td>Shohel</td>\n",
       "      <td>Khan</td>\n",
       "      <td>shohelkhan@gmail.com</td>\n",
       "    </tr>\n",
       "  </tbody>\n",
       "</table>\n",
       "</div>"
      ],
      "text/plain": [
       "    first      last                    email\n",
       "0   Lalit   Siraswa   lalitsiraswa@gmail.com\n",
       "1   Suraj  Dhadeech  surajdhadeech@gmail.com\n",
       "2   Ankit     Verma     ankitverma@gmail.com\n",
       "3  Vikash     Tawar    vikashtawar@gmail.com\n",
       "4  Shohel      Khan     shohelkhan@gmail.com"
      ]
     },
     "execution_count": 51,
     "metadata": {},
     "output_type": "execute_result"
    }
   ],
   "source": [
    "df"
   ]
  },
  {
   "cell_type": "code",
   "execution_count": 52,
   "metadata": {},
   "outputs": [
    {
     "data": {
      "text/html": [
       "<div>\n",
       "<style scoped>\n",
       "    .dataframe tbody tr th:only-of-type {\n",
       "        vertical-align: middle;\n",
       "    }\n",
       "\n",
       "    .dataframe tbody tr th {\n",
       "        vertical-align: top;\n",
       "    }\n",
       "\n",
       "    .dataframe thead th {\n",
       "        text-align: right;\n",
       "    }\n",
       "</style>\n",
       "<table border=\"1\" class=\"dataframe\">\n",
       "  <thead>\n",
       "    <tr style=\"text-align: right;\">\n",
       "      <th></th>\n",
       "      <th>first</th>\n",
       "      <th>last</th>\n",
       "      <th>email</th>\n",
       "    </tr>\n",
       "  </thead>\n",
       "  <tbody>\n",
       "    <tr>\n",
       "      <th>0</th>\n",
       "      <td>5</td>\n",
       "      <td>7</td>\n",
       "      <td>22</td>\n",
       "    </tr>\n",
       "    <tr>\n",
       "      <th>1</th>\n",
       "      <td>5</td>\n",
       "      <td>8</td>\n",
       "      <td>23</td>\n",
       "    </tr>\n",
       "    <tr>\n",
       "      <th>2</th>\n",
       "      <td>5</td>\n",
       "      <td>5</td>\n",
       "      <td>20</td>\n",
       "    </tr>\n",
       "    <tr>\n",
       "      <th>3</th>\n",
       "      <td>6</td>\n",
       "      <td>5</td>\n",
       "      <td>21</td>\n",
       "    </tr>\n",
       "    <tr>\n",
       "      <th>4</th>\n",
       "      <td>6</td>\n",
       "      <td>4</td>\n",
       "      <td>20</td>\n",
       "    </tr>\n",
       "  </tbody>\n",
       "</table>\n",
       "</div>"
      ],
      "text/plain": [
       "   first  last  email\n",
       "0      5     7     22\n",
       "1      5     8     23\n",
       "2      5     5     20\n",
       "3      6     5     21\n",
       "4      6     4     20"
      ]
     },
     "execution_count": 52,
     "metadata": {},
     "output_type": "execute_result"
    }
   ],
   "source": [
    "# applymap()\n",
    "df.applymap(len)"
   ]
  },
  {
   "cell_type": "code",
   "execution_count": 53,
   "metadata": {},
   "outputs": [],
   "source": [
    "# df[\"first\"].apply(len)\n",
    "# df.apply(len)"
   ]
  },
  {
   "cell_type": "code",
   "execution_count": 54,
   "metadata": {},
   "outputs": [
    {
     "name": "stdout",
     "output_type": "stream",
     "text": [
      "  first last email\n",
      "0     t    w     w\n",
      "1     u    h     u\n",
      "2     t    r     v\n",
      "3     s    w     w\n",
      "4     o    n     s \n",
      "\n"
     ]
    }
   ],
   "source": [
    "print(df.applymap(max), \"\\n\")"
   ]
  },
  {
   "cell_type": "code",
   "execution_count": 55,
   "metadata": {},
   "outputs": [],
   "source": [
    "# df[\"first\"].applymap(len)"
   ]
  },
  {
   "cell_type": "code",
   "execution_count": 56,
   "metadata": {},
   "outputs": [
    {
     "data": {
      "text/html": [
       "<div>\n",
       "<style scoped>\n",
       "    .dataframe tbody tr th:only-of-type {\n",
       "        vertical-align: middle;\n",
       "    }\n",
       "\n",
       "    .dataframe tbody tr th {\n",
       "        vertical-align: top;\n",
       "    }\n",
       "\n",
       "    .dataframe thead th {\n",
       "        text-align: right;\n",
       "    }\n",
       "</style>\n",
       "<table border=\"1\" class=\"dataframe\">\n",
       "  <thead>\n",
       "    <tr style=\"text-align: right;\">\n",
       "      <th></th>\n",
       "      <th>first</th>\n",
       "      <th>last</th>\n",
       "      <th>email</th>\n",
       "    </tr>\n",
       "  </thead>\n",
       "  <tbody>\n",
       "    <tr>\n",
       "      <th>0</th>\n",
       "      <td>lalit</td>\n",
       "      <td>siraswa</td>\n",
       "      <td>lalitsiraswa@gmail.com</td>\n",
       "    </tr>\n",
       "    <tr>\n",
       "      <th>1</th>\n",
       "      <td>suraj</td>\n",
       "      <td>dhadeech</td>\n",
       "      <td>surajdhadeech@gmail.com</td>\n",
       "    </tr>\n",
       "    <tr>\n",
       "      <th>2</th>\n",
       "      <td>ankit</td>\n",
       "      <td>verma</td>\n",
       "      <td>ankitverma@gmail.com</td>\n",
       "    </tr>\n",
       "    <tr>\n",
       "      <th>3</th>\n",
       "      <td>vikash</td>\n",
       "      <td>tawar</td>\n",
       "      <td>vikashtawar@gmail.com</td>\n",
       "    </tr>\n",
       "    <tr>\n",
       "      <th>4</th>\n",
       "      <td>shohel</td>\n",
       "      <td>khan</td>\n",
       "      <td>shohelkhan@gmail.com</td>\n",
       "    </tr>\n",
       "  </tbody>\n",
       "</table>\n",
       "</div>"
      ],
      "text/plain": [
       "    first      last                    email\n",
       "0   lalit   siraswa   lalitsiraswa@gmail.com\n",
       "1   suraj  dhadeech  surajdhadeech@gmail.com\n",
       "2   ankit     verma     ankitverma@gmail.com\n",
       "3  vikash     tawar    vikashtawar@gmail.com\n",
       "4  shohel      khan     shohelkhan@gmail.com"
      ]
     },
     "execution_count": 56,
     "metadata": {},
     "output_type": "execute_result"
    }
   ],
   "source": [
    "df.applymap(str.lower)"
   ]
  },
  {
   "cell_type": "code",
   "execution_count": 57,
   "metadata": {},
   "outputs": [
    {
     "data": {
      "text/html": [
       "<div>\n",
       "<style scoped>\n",
       "    .dataframe tbody tr th:only-of-type {\n",
       "        vertical-align: middle;\n",
       "    }\n",
       "\n",
       "    .dataframe tbody tr th {\n",
       "        vertical-align: top;\n",
       "    }\n",
       "\n",
       "    .dataframe thead th {\n",
       "        text-align: right;\n",
       "    }\n",
       "</style>\n",
       "<table border=\"1\" class=\"dataframe\">\n",
       "  <thead>\n",
       "    <tr style=\"text-align: right;\">\n",
       "      <th></th>\n",
       "      <th>first</th>\n",
       "      <th>last</th>\n",
       "      <th>email</th>\n",
       "    </tr>\n",
       "  </thead>\n",
       "  <tbody>\n",
       "    <tr>\n",
       "      <th>0</th>\n",
       "      <td>Lalit</td>\n",
       "      <td>Siraswa</td>\n",
       "      <td>lalitsiraswa@gmail.com</td>\n",
       "    </tr>\n",
       "    <tr>\n",
       "      <th>1</th>\n",
       "      <td>Suraj</td>\n",
       "      <td>Dhadeech</td>\n",
       "      <td>surajdhadeech@gmail.com</td>\n",
       "    </tr>\n",
       "    <tr>\n",
       "      <th>2</th>\n",
       "      <td>Ankit</td>\n",
       "      <td>Verma</td>\n",
       "      <td>ankitverma@gmail.com</td>\n",
       "    </tr>\n",
       "    <tr>\n",
       "      <th>3</th>\n",
       "      <td>Vikash</td>\n",
       "      <td>Tawar</td>\n",
       "      <td>vikashtawar@gmail.com</td>\n",
       "    </tr>\n",
       "    <tr>\n",
       "      <th>4</th>\n",
       "      <td>Shohel</td>\n",
       "      <td>Khan</td>\n",
       "      <td>shohelkhan@gmail.com</td>\n",
       "    </tr>\n",
       "  </tbody>\n",
       "</table>\n",
       "</div>"
      ],
      "text/plain": [
       "    first      last                    email\n",
       "0   Lalit   Siraswa   lalitsiraswa@gmail.com\n",
       "1   Suraj  Dhadeech  surajdhadeech@gmail.com\n",
       "2   Ankit     Verma     ankitverma@gmail.com\n",
       "3  Vikash     Tawar    vikashtawar@gmail.com\n",
       "4  Shohel      Khan     shohelkhan@gmail.com"
      ]
     },
     "execution_count": 57,
     "metadata": {},
     "output_type": "execute_result"
    }
   ],
   "source": [
    "df[\"first\"].apply(str.title)\n",
    "df[\"last\"].apply(str.title)\n",
    "df"
   ]
  },
  {
   "cell_type": "code",
   "execution_count": 58,
   "metadata": {},
   "outputs": [
    {
     "data": {
      "text/plain": [
       "0     Suraj\n",
       "1     Lalit\n",
       "2    Vikash\n",
       "3    Shohel\n",
       "4       NaN\n",
       "Name: first, dtype: object"
      ]
     },
     "execution_count": 58,
     "metadata": {},
     "output_type": "execute_result"
    }
   ],
   "source": [
    "#map\n",
    "df[\"first\"].map({\"Lalit\" : \"Suraj\", \"Suraj\" : \"Lalit\", \"Ankit\" : \"Vikash\", \"Vikash\" : \"Shohel\"})"
   ]
  },
  {
   "cell_type": "code",
   "execution_count": 59,
   "metadata": {},
   "outputs": [
    {
     "data": {
      "text/html": [
       "<div>\n",
       "<style scoped>\n",
       "    .dataframe tbody tr th:only-of-type {\n",
       "        vertical-align: middle;\n",
       "    }\n",
       "\n",
       "    .dataframe tbody tr th {\n",
       "        vertical-align: top;\n",
       "    }\n",
       "\n",
       "    .dataframe thead th {\n",
       "        text-align: right;\n",
       "    }\n",
       "</style>\n",
       "<table border=\"1\" class=\"dataframe\">\n",
       "  <thead>\n",
       "    <tr style=\"text-align: right;\">\n",
       "      <th></th>\n",
       "      <th>first</th>\n",
       "      <th>last</th>\n",
       "      <th>email</th>\n",
       "    </tr>\n",
       "  </thead>\n",
       "  <tbody>\n",
       "    <tr>\n",
       "      <th>0</th>\n",
       "      <td>Lalit</td>\n",
       "      <td>Siraswa</td>\n",
       "      <td>lalitsiraswa@gmail.com</td>\n",
       "    </tr>\n",
       "    <tr>\n",
       "      <th>1</th>\n",
       "      <td>Suraj</td>\n",
       "      <td>Dhadeech</td>\n",
       "      <td>surajdhadeech@gmail.com</td>\n",
       "    </tr>\n",
       "    <tr>\n",
       "      <th>2</th>\n",
       "      <td>Ankit</td>\n",
       "      <td>Verma</td>\n",
       "      <td>ankitverma@gmail.com</td>\n",
       "    </tr>\n",
       "    <tr>\n",
       "      <th>3</th>\n",
       "      <td>Vikash</td>\n",
       "      <td>Tawar</td>\n",
       "      <td>vikashtawar@gmail.com</td>\n",
       "    </tr>\n",
       "    <tr>\n",
       "      <th>4</th>\n",
       "      <td>Shohel</td>\n",
       "      <td>Khan</td>\n",
       "      <td>shohelkhan@gmail.com</td>\n",
       "    </tr>\n",
       "  </tbody>\n",
       "</table>\n",
       "</div>"
      ],
      "text/plain": [
       "    first      last                    email\n",
       "0   Lalit   Siraswa   lalitsiraswa@gmail.com\n",
       "1   Suraj  Dhadeech  surajdhadeech@gmail.com\n",
       "2   Ankit     Verma     ankitverma@gmail.com\n",
       "3  Vikash     Tawar    vikashtawar@gmail.com\n",
       "4  Shohel      Khan     shohelkhan@gmail.com"
      ]
     },
     "execution_count": 59,
     "metadata": {},
     "output_type": "execute_result"
    }
   ],
   "source": [
    "df"
   ]
  },
  {
   "cell_type": "code",
   "execution_count": 60,
   "metadata": {},
   "outputs": [
    {
     "data": {
      "text/html": [
       "<div>\n",
       "<style scoped>\n",
       "    .dataframe tbody tr th:only-of-type {\n",
       "        vertical-align: middle;\n",
       "    }\n",
       "\n",
       "    .dataframe tbody tr th {\n",
       "        vertical-align: top;\n",
       "    }\n",
       "\n",
       "    .dataframe thead th {\n",
       "        text-align: right;\n",
       "    }\n",
       "</style>\n",
       "<table border=\"1\" class=\"dataframe\">\n",
       "  <thead>\n",
       "    <tr style=\"text-align: right;\">\n",
       "      <th></th>\n",
       "      <th>first</th>\n",
       "      <th>last</th>\n",
       "      <th>email</th>\n",
       "    </tr>\n",
       "  </thead>\n",
       "  <tbody>\n",
       "    <tr>\n",
       "      <th>0</th>\n",
       "      <td>Lalit</td>\n",
       "      <td>Siraswa</td>\n",
       "      <td>lalitsiraswa@gmail.com</td>\n",
       "    </tr>\n",
       "    <tr>\n",
       "      <th>1</th>\n",
       "      <td>Suraj</td>\n",
       "      <td>Dhadeech</td>\n",
       "      <td>surajdhadeech@gmail.com</td>\n",
       "    </tr>\n",
       "    <tr>\n",
       "      <th>2</th>\n",
       "      <td>Ankit</td>\n",
       "      <td>Verma</td>\n",
       "      <td>ankitverma@gmail.com</td>\n",
       "    </tr>\n",
       "    <tr>\n",
       "      <th>3</th>\n",
       "      <td>Vikash</td>\n",
       "      <td>Tawar</td>\n",
       "      <td>vikashtawar@gmail.com</td>\n",
       "    </tr>\n",
       "    <tr>\n",
       "      <th>4</th>\n",
       "      <td>Shohel</td>\n",
       "      <td>Khan</td>\n",
       "      <td>shohelkhan@gmail.com</td>\n",
       "    </tr>\n",
       "  </tbody>\n",
       "</table>\n",
       "</div>"
      ],
      "text/plain": [
       "    first      last                    email\n",
       "0   Lalit   Siraswa   lalitsiraswa@gmail.com\n",
       "1   Suraj  Dhadeech  surajdhadeech@gmail.com\n",
       "2   Ankit     Verma     ankitverma@gmail.com\n",
       "3  Vikash     Tawar    vikashtawar@gmail.com\n",
       "4  Shohel      Khan     shohelkhan@gmail.com"
      ]
     },
     "execution_count": 60,
     "metadata": {},
     "output_type": "execute_result"
    }
   ],
   "source": [
    "df"
   ]
  },
  {
   "cell_type": "code",
   "execution_count": 61,
   "metadata": {
    "scrolled": false
   },
   "outputs": [
    {
     "name": "stdout",
     "output_type": "stream",
     "text": [
      "Index(['first_name', 'last_name', 'email_id'], dtype='object') \n",
      "\n",
      "first_name \n",
      "\n",
      "last_name \n",
      "\n",
      "email_id \n",
      "\n"
     ]
    }
   ],
   "source": [
    "df.columns = [\"first_name\", \"last_name\", \"email_id\"]\n",
    "print(df.columns, \"\\n\")\n",
    "print(df.columns[0], \"\\n\")\n",
    "print(df.columns[1], \"\\n\")\n",
    "print(df.columns[2], \"\\n\")\n",
    "# print(df.columns[3], \"\\n\")"
   ]
  },
  {
   "cell_type": "code",
   "execution_count": 62,
   "metadata": {},
   "outputs": [
    {
     "name": "stdout",
     "output_type": "stream",
     "text": [
      "  first_name last_name                 email_id\n",
      "0      Lalit   Siraswa   lalitsiraswa@gmail.com\n",
      "1      Suraj  Dhadeech  surajdhadeech@gmail.com\n",
      "2      Ankit     Verma     ankitverma@gmail.com\n",
      "3     Vikash     Tawar    vikashtawar@gmail.com\n",
      "4     Shohel      Khan     shohelkhan@gmail.com \n",
      "\n",
      "first_name    5\n",
      "last_name     5\n",
      "email_id      5\n",
      "dtype: int64 \n",
      "\n",
      "0    5\n",
      "1    5\n",
      "2    5\n",
      "3    6\n",
      "4    6\n",
      "Name: first_name, dtype: int64 \n",
      "\n",
      "   first_name  last_name  email_id\n",
      "0           5          7        22\n",
      "1           5          8        23\n",
      "2           5          5        20\n",
      "3           6          5        21\n",
      "4           6          4        20 \n",
      "\n"
     ]
    }
   ],
   "source": [
    "print(df, \"\\n\")\n",
    "print(df.apply(len), \"\\n\")\n",
    "print(df[\"first_name\"].apply(len), \"\\n\")\n",
    "print(df.applymap(len), \"\\n\")"
   ]
  },
  {
   "cell_type": "code",
   "execution_count": 63,
   "metadata": {},
   "outputs": [
    {
     "name": "stdout",
     "output_type": "stream",
     "text": [
      "  first_name last_name                 email_id\n",
      "0      Lalit   Siraswa   lalitsiraswa@gmail.com\n",
      "1      Suraj  Dhadeech  surajdhadeech@gmail.com\n",
      "2      Ankit     Verma     ankitverma@gmail.com\n",
      "3     Vikash     Tawar    vikashtawar@gmail.com\n",
      "4     Shohel      Khan     shohelkhan@gmail.com \n",
      "\n"
     ]
    }
   ],
   "source": [
    "print(df, \"\\n\")"
   ]
  },
  {
   "cell_type": "code",
   "execution_count": 64,
   "metadata": {},
   "outputs": [],
   "source": [
    "df.rename(columns = {\"first_name\" : \"first\", \"last_name\" : \"last\", \"email_id\" : \"email\"}, inplace = True)"
   ]
  },
  {
   "cell_type": "code",
   "execution_count": 65,
   "metadata": {},
   "outputs": [
    {
     "data": {
      "text/html": [
       "<div>\n",
       "<style scoped>\n",
       "    .dataframe tbody tr th:only-of-type {\n",
       "        vertical-align: middle;\n",
       "    }\n",
       "\n",
       "    .dataframe tbody tr th {\n",
       "        vertical-align: top;\n",
       "    }\n",
       "\n",
       "    .dataframe thead th {\n",
       "        text-align: right;\n",
       "    }\n",
       "</style>\n",
       "<table border=\"1\" class=\"dataframe\">\n",
       "  <thead>\n",
       "    <tr style=\"text-align: right;\">\n",
       "      <th></th>\n",
       "      <th>first</th>\n",
       "      <th>last</th>\n",
       "      <th>email</th>\n",
       "    </tr>\n",
       "  </thead>\n",
       "  <tbody>\n",
       "    <tr>\n",
       "      <th>0</th>\n",
       "      <td>Lalit</td>\n",
       "      <td>Siraswa</td>\n",
       "      <td>lalitsiraswa@gmail.com</td>\n",
       "    </tr>\n",
       "    <tr>\n",
       "      <th>1</th>\n",
       "      <td>Suraj</td>\n",
       "      <td>Dhadeech</td>\n",
       "      <td>surajdhadeech@gmail.com</td>\n",
       "    </tr>\n",
       "    <tr>\n",
       "      <th>2</th>\n",
       "      <td>Ankit</td>\n",
       "      <td>Verma</td>\n",
       "      <td>ankitverma@gmail.com</td>\n",
       "    </tr>\n",
       "    <tr>\n",
       "      <th>3</th>\n",
       "      <td>Vikash</td>\n",
       "      <td>Tawar</td>\n",
       "      <td>vikashtawar@gmail.com</td>\n",
       "    </tr>\n",
       "    <tr>\n",
       "      <th>4</th>\n",
       "      <td>Shohel</td>\n",
       "      <td>Khan</td>\n",
       "      <td>shohelkhan@gmail.com</td>\n",
       "    </tr>\n",
       "  </tbody>\n",
       "</table>\n",
       "</div>"
      ],
      "text/plain": [
       "    first      last                    email\n",
       "0   Lalit   Siraswa   lalitsiraswa@gmail.com\n",
       "1   Suraj  Dhadeech  surajdhadeech@gmail.com\n",
       "2   Ankit     Verma     ankitverma@gmail.com\n",
       "3  Vikash     Tawar    vikashtawar@gmail.com\n",
       "4  Shohel      Khan     shohelkhan@gmail.com"
      ]
     },
     "execution_count": 65,
     "metadata": {},
     "output_type": "execute_result"
    }
   ],
   "source": [
    "df"
   ]
  },
  {
   "cell_type": "code",
   "execution_count": 66,
   "metadata": {},
   "outputs": [],
   "source": [
    "people = {\n",
    "    \"first\" : [\"Lalit\", \"Suraj\", \"Ankit\", \"Vikash\", \"Shohel\"],\n",
    "    \"last\" : [\"Siraswa\", \"Dhadeech\", \"Verma\", \"Tawar\", \"Khan\"],\n",
    "    \"email\" : [\"lalitsiraswa@gmail.com\", \"surajdhadeech@gmail.com\", \"ankitverma@gmail.com\", \"vikashtawar@gmail.com\", \"shohelkhan@gmail.com\"]\n",
    "}"
   ]
  },
  {
   "cell_type": "code",
   "execution_count": 67,
   "metadata": {},
   "outputs": [
    {
     "data": {
      "text/html": [
       "<div>\n",
       "<style scoped>\n",
       "    .dataframe tbody tr th:only-of-type {\n",
       "        vertical-align: middle;\n",
       "    }\n",
       "\n",
       "    .dataframe tbody tr th {\n",
       "        vertical-align: top;\n",
       "    }\n",
       "\n",
       "    .dataframe thead th {\n",
       "        text-align: right;\n",
       "    }\n",
       "</style>\n",
       "<table border=\"1\" class=\"dataframe\">\n",
       "  <thead>\n",
       "    <tr style=\"text-align: right;\">\n",
       "      <th></th>\n",
       "      <th>first</th>\n",
       "      <th>last</th>\n",
       "      <th>email</th>\n",
       "    </tr>\n",
       "  </thead>\n",
       "  <tbody>\n",
       "    <tr>\n",
       "      <th>0</th>\n",
       "      <td>Lalit</td>\n",
       "      <td>Siraswa</td>\n",
       "      <td>lalitsiraswa@gmail.com</td>\n",
       "    </tr>\n",
       "    <tr>\n",
       "      <th>1</th>\n",
       "      <td>Suraj</td>\n",
       "      <td>Dhadeech</td>\n",
       "      <td>surajdhadeech@gmail.com</td>\n",
       "    </tr>\n",
       "    <tr>\n",
       "      <th>2</th>\n",
       "      <td>Ankit</td>\n",
       "      <td>Verma</td>\n",
       "      <td>ankitverma@gmail.com</td>\n",
       "    </tr>\n",
       "    <tr>\n",
       "      <th>3</th>\n",
       "      <td>Vikash</td>\n",
       "      <td>Tawar</td>\n",
       "      <td>vikashtawar@gmail.com</td>\n",
       "    </tr>\n",
       "    <tr>\n",
       "      <th>4</th>\n",
       "      <td>Shohel</td>\n",
       "      <td>Khan</td>\n",
       "      <td>shohelkhan@gmail.com</td>\n",
       "    </tr>\n",
       "  </tbody>\n",
       "</table>\n",
       "</div>"
      ],
      "text/plain": [
       "    first      last                    email\n",
       "0   Lalit   Siraswa   lalitsiraswa@gmail.com\n",
       "1   Suraj  Dhadeech  surajdhadeech@gmail.com\n",
       "2   Ankit     Verma     ankitverma@gmail.com\n",
       "3  Vikash     Tawar    vikashtawar@gmail.com\n",
       "4  Shohel      Khan     shohelkhan@gmail.com"
      ]
     },
     "execution_count": 67,
     "metadata": {},
     "output_type": "execute_result"
    }
   ],
   "source": [
    "df = pd.DataFrame(data = people)\n",
    "df"
   ]
  },
  {
   "cell_type": "code",
   "execution_count": 68,
   "metadata": {},
   "outputs": [
    {
     "data": {
      "text/plain": [
       "0    lucky\n",
       "1     Sonu\n",
       "2    Bunty\n",
       "3      NaN\n",
       "4      NaN\n",
       "Name: first, dtype: object"
      ]
     },
     "execution_count": 68,
     "metadata": {},
     "output_type": "execute_result"
    }
   ],
   "source": [
    "df[\"first\"].map({\"Lalit\" : \"lucky\", \"Suraj\" : \"Sonu\", \"Ankit\" : \"Bunty\"})"
   ]
  },
  {
   "cell_type": "code",
   "execution_count": 69,
   "metadata": {},
   "outputs": [
    {
     "data": {
      "text/plain": [
       "0     Lucky\n",
       "1      Sonu\n",
       "2     Bunty\n",
       "3    Vikash\n",
       "4    Shohel\n",
       "Name: first, dtype: object"
      ]
     },
     "execution_count": 69,
     "metadata": {},
     "output_type": "execute_result"
    }
   ],
   "source": [
    "df[\"first\"].replace({\"Lalit\" : \"Lucky\", \"Suraj\" : \"Sonu\", \"Ankit\" : \"Bunty\"})"
   ]
  },
  {
   "cell_type": "code",
   "execution_count": 70,
   "metadata": {},
   "outputs": [
    {
     "data": {
      "text/html": [
       "<div>\n",
       "<style scoped>\n",
       "    .dataframe tbody tr th:only-of-type {\n",
       "        vertical-align: middle;\n",
       "    }\n",
       "\n",
       "    .dataframe tbody tr th {\n",
       "        vertical-align: top;\n",
       "    }\n",
       "\n",
       "    .dataframe thead th {\n",
       "        text-align: right;\n",
       "    }\n",
       "</style>\n",
       "<table border=\"1\" class=\"dataframe\">\n",
       "  <thead>\n",
       "    <tr style=\"text-align: right;\">\n",
       "      <th></th>\n",
       "      <th>first</th>\n",
       "      <th>last</th>\n",
       "      <th>email</th>\n",
       "    </tr>\n",
       "  </thead>\n",
       "  <tbody>\n",
       "    <tr>\n",
       "      <th>0</th>\n",
       "      <td>Lalit</td>\n",
       "      <td>Siraswa</td>\n",
       "      <td>lalitsiraswa@gmail.com</td>\n",
       "    </tr>\n",
       "    <tr>\n",
       "      <th>1</th>\n",
       "      <td>Suraj</td>\n",
       "      <td>Dhadeech</td>\n",
       "      <td>surajdhadeech@gmail.com</td>\n",
       "    </tr>\n",
       "    <tr>\n",
       "      <th>2</th>\n",
       "      <td>Ankit</td>\n",
       "      <td>Verma</td>\n",
       "      <td>ankitverma@gmail.com</td>\n",
       "    </tr>\n",
       "    <tr>\n",
       "      <th>3</th>\n",
       "      <td>Vikash</td>\n",
       "      <td>Tawar</td>\n",
       "      <td>vikashtawar@gmail.com</td>\n",
       "    </tr>\n",
       "    <tr>\n",
       "      <th>4</th>\n",
       "      <td>Shohel</td>\n",
       "      <td>Khan</td>\n",
       "      <td>shohelkhan@gmail.com</td>\n",
       "    </tr>\n",
       "  </tbody>\n",
       "</table>\n",
       "</div>"
      ],
      "text/plain": [
       "    first      last                    email\n",
       "0   Lalit   Siraswa   lalitsiraswa@gmail.com\n",
       "1   Suraj  Dhadeech  surajdhadeech@gmail.com\n",
       "2   Ankit     Verma     ankitverma@gmail.com\n",
       "3  Vikash     Tawar    vikashtawar@gmail.com\n",
       "4  Shohel      Khan     shohelkhan@gmail.com"
      ]
     },
     "execution_count": 70,
     "metadata": {},
     "output_type": "execute_result"
    }
   ],
   "source": [
    "df"
   ]
  },
  {
   "cell_type": "code",
   "execution_count": 102,
   "metadata": {},
   "outputs": [
    {
     "data": {
      "text/plain": [
       "array([[ 10,  20,  30,  40],\n",
       "       [ 50,  60,  70,  80],\n",
       "       [ 90, 100, 110, 120],\n",
       "       [130, 140, 150, 160],\n",
       "       [170, 180, 190, 200]])"
      ]
     },
     "execution_count": 102,
     "metadata": {},
     "output_type": "execute_result"
    }
   ],
   "source": [
    "import numpy as np\n",
    "array = np.arange(10, 210, 10).reshape(5, 4)\n",
    "array"
   ]
  },
  {
   "cell_type": "code",
   "execution_count": 112,
   "metadata": {},
   "outputs": [
    {
     "data": {
      "text/plain": [
       "array([ 10,  60, 110, 160, 200])"
      ]
     },
     "execution_count": 112,
     "metadata": {},
     "output_type": "execute_result"
    }
   ],
   "source": [
    "array[[0, 1, 2, 3, 4], [0, 1, 2, 3, 3]]"
   ]
  },
  {
   "cell_type": "code",
   "execution_count": 116,
   "metadata": {},
   "outputs": [
    {
     "data": {
      "text/plain": [
       "array([[ 10,  20,  30,  40],\n",
       "       [ 90, 100, 110, 120],\n",
       "       [170, 180, 190, 200]])"
      ]
     },
     "execution_count": 116,
     "metadata": {},
     "output_type": "execute_result"
    }
   ],
   "source": [
    "array[[0, 2, 4], 0 : 4]"
   ]
  },
  {
   "cell_type": "code",
   "execution_count": 119,
   "metadata": {},
   "outputs": [
    {
     "data": {
      "text/plain": [
       "array([ 10,  60, 110, 160])"
      ]
     },
     "execution_count": 119,
     "metadata": {},
     "output_type": "execute_result"
    }
   ],
   "source": [
    "array[[0, 1, 2, 3], [0, 1, 2, 3]]"
   ]
  },
  {
   "cell_type": "code",
   "execution_count": 120,
   "metadata": {},
   "outputs": [
    {
     "data": {
      "text/plain": [
       "array([[ 0,  1,  2],\n",
       "       [ 3,  4,  5],\n",
       "       [ 6,  7,  8],\n",
       "       [ 9, 10, 11]])"
      ]
     },
     "execution_count": 120,
     "metadata": {},
     "output_type": "execute_result"
    }
   ],
   "source": [
    "x = np.array([[0, 1, 2], [3, 4, 5], [6, 7, 8], [9, 10, 11]])\n",
    "x"
   ]
  },
  {
   "cell_type": "code",
   "execution_count": 121,
   "metadata": {},
   "outputs": [
    {
     "data": {
      "text/plain": [
       "array([[0, 2]])"
      ]
     },
     "execution_count": 121,
     "metadata": {},
     "output_type": "execute_result"
    }
   ],
   "source": [
    "x[[[0, 0]], [[0, 2]]]"
   ]
  },
  {
   "cell_type": "code",
   "execution_count": 122,
   "metadata": {},
   "outputs": [
    {
     "data": {
      "text/plain": [
       "array([[ 0,  2],\n",
       "       [ 3,  5],\n",
       "       [ 6,  8],\n",
       "       [ 9, 11]])"
      ]
     },
     "execution_count": 122,
     "metadata": {},
     "output_type": "execute_result"
    }
   ],
   "source": [
    "x[[[0, 0], [1, 1], [2, 2], [3, 3]], [[0, 2], [0, 2], [0, 2], [0, 2]]]"
   ]
  },
  {
   "cell_type": "code",
   "execution_count": null,
   "metadata": {},
   "outputs": [],
   "source": []
  }
 ],
 "metadata": {
  "kernelspec": {
   "display_name": "Python 3",
   "language": "python",
   "name": "python3"
  },
  "language_info": {
   "codemirror_mode": {
    "name": "ipython",
    "version": 3
   },
   "file_extension": ".py",
   "mimetype": "text/x-python",
   "name": "python",
   "nbconvert_exporter": "python",
   "pygments_lexer": "ipython3",
   "version": "3.7.1"
  }
 },
 "nbformat": 4,
 "nbformat_minor": 2
}
