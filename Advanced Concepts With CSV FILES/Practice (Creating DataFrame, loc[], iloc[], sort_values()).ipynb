{
 "cells": [
  {
   "cell_type": "code",
   "execution_count": 1,
   "metadata": {},
   "outputs": [],
   "source": [
    "import pandas as pd"
   ]
  },
  {
   "cell_type": "code",
   "execution_count": 2,
   "metadata": {},
   "outputs": [],
   "source": [
    "people = {\n",
    "    \"first\" : [\"Lalit\", \"Suraj\", \"Ankit\", \"Vikash\", \"Shohel\"],\n",
    "    \"last\" : [\"Siraswa\", \"Dhadeech\", \"Verma\", \"Tawar\", \"Khan\"],\n",
    "    \"email\" : [\"lalitsiraswa@gmail.com\", \"surajdhadeech@gmail.com\", \"ankitverma@gmail.com\", \"vikashtawar@gmail.com\", \"shohelkhan@gmail.com\"]\n",
    "}"
   ]
  },
  {
   "cell_type": "code",
   "execution_count": 3,
   "metadata": {},
   "outputs": [
    {
     "name": "stdout",
     "output_type": "stream",
     "text": [
      "['Lalit', 'Suraj', 'Ankit', 'Vikash', 'Shohel']\n",
      "['Siraswa', 'Dhadeech', 'Verma', 'Tawar', 'Khan']\n",
      "['lalitsiraswa@gmail.com', 'surajdhadeech@gmail.com', 'ankitverma@gmail.com', 'vikashtawar@gmail.com', 'shohelkhan@gmail.com']\n"
     ]
    }
   ],
   "source": [
    "print(people[\"first\"])\n",
    "print(people[\"last\"])\n",
    "print(people[\"email\"])"
   ]
  },
  {
   "cell_type": "code",
   "execution_count": 4,
   "metadata": {},
   "outputs": [
    {
     "data": {
      "text/html": [
       "<div>\n",
       "<style scoped>\n",
       "    .dataframe tbody tr th:only-of-type {\n",
       "        vertical-align: middle;\n",
       "    }\n",
       "\n",
       "    .dataframe tbody tr th {\n",
       "        vertical-align: top;\n",
       "    }\n",
       "\n",
       "    .dataframe thead th {\n",
       "        text-align: right;\n",
       "    }\n",
       "</style>\n",
       "<table border=\"1\" class=\"dataframe\">\n",
       "  <thead>\n",
       "    <tr style=\"text-align: right;\">\n",
       "      <th></th>\n",
       "      <th>first</th>\n",
       "      <th>last</th>\n",
       "      <th>email</th>\n",
       "    </tr>\n",
       "  </thead>\n",
       "  <tbody>\n",
       "    <tr>\n",
       "      <th>0</th>\n",
       "      <td>Lalit</td>\n",
       "      <td>Siraswa</td>\n",
       "      <td>lalitsiraswa@gmail.com</td>\n",
       "    </tr>\n",
       "    <tr>\n",
       "      <th>1</th>\n",
       "      <td>Suraj</td>\n",
       "      <td>Dhadeech</td>\n",
       "      <td>surajdhadeech@gmail.com</td>\n",
       "    </tr>\n",
       "    <tr>\n",
       "      <th>2</th>\n",
       "      <td>Ankit</td>\n",
       "      <td>Verma</td>\n",
       "      <td>ankitverma@gmail.com</td>\n",
       "    </tr>\n",
       "    <tr>\n",
       "      <th>3</th>\n",
       "      <td>Vikash</td>\n",
       "      <td>Tawar</td>\n",
       "      <td>vikashtawar@gmail.com</td>\n",
       "    </tr>\n",
       "    <tr>\n",
       "      <th>4</th>\n",
       "      <td>Shohel</td>\n",
       "      <td>Khan</td>\n",
       "      <td>shohelkhan@gmail.com</td>\n",
       "    </tr>\n",
       "  </tbody>\n",
       "</table>\n",
       "</div>"
      ],
      "text/plain": [
       "    first      last                    email\n",
       "0   Lalit   Siraswa   lalitsiraswa@gmail.com\n",
       "1   Suraj  Dhadeech  surajdhadeech@gmail.com\n",
       "2   Ankit     Verma     ankitverma@gmail.com\n",
       "3  Vikash     Tawar    vikashtawar@gmail.com\n",
       "4  Shohel      Khan     shohelkhan@gmail.com"
      ]
     },
     "execution_count": 4,
     "metadata": {},
     "output_type": "execute_result"
    }
   ],
   "source": [
    "df = pd.DataFrame(data = people)\n",
    "df"
   ]
  },
  {
   "cell_type": "code",
   "execution_count": 5,
   "metadata": {},
   "outputs": [
    {
     "name": "stdout",
     "output_type": "stream",
     "text": [
      "0     Lalit\n",
      "1     Suraj\n",
      "2     Ankit\n",
      "3    Vikash\n",
      "4    Shohel\n",
      "Name: first, dtype: object \n",
      "\n",
      "0     Siraswa\n",
      "1    Dhadeech\n",
      "2       Verma\n",
      "3       Tawar\n",
      "4        Khan\n",
      "Name: last, dtype: object \n",
      "\n",
      "0     lalitsiraswa@gmail.com\n",
      "1    surajdhadeech@gmail.com\n",
      "2       ankitverma@gmail.com\n",
      "3      vikashtawar@gmail.com\n",
      "4       shohelkhan@gmail.com\n",
      "Name: email, dtype: object \n",
      "\n"
     ]
    }
   ],
   "source": [
    "print(df[\"first\"], \"\\n\")\n",
    "print(df[\"last\"], \"\\n\")\n",
    "print(df[\"email\"], \"\\n\")"
   ]
  },
  {
   "cell_type": "code",
   "execution_count": 6,
   "metadata": {},
   "outputs": [
    {
     "name": "stdout",
     "output_type": "stream",
     "text": [
      "Ankit \n",
      "\n",
      "Verma \n",
      "\n",
      "ankitverma@gmail.com \n",
      "\n"
     ]
    }
   ],
   "source": [
    "print(df.loc[2][\"first\"], \"\\n\")\n",
    "print(df.loc[2][\"last\"], \"\\n\")\n",
    "print(df.loc[2][\"email\"], \"\\n\")"
   ]
  },
  {
   "cell_type": "code",
   "execution_count": 7,
   "metadata": {},
   "outputs": [
    {
     "data": {
      "text/html": [
       "<div>\n",
       "<style scoped>\n",
       "    .dataframe tbody tr th:only-of-type {\n",
       "        vertical-align: middle;\n",
       "    }\n",
       "\n",
       "    .dataframe tbody tr th {\n",
       "        vertical-align: top;\n",
       "    }\n",
       "\n",
       "    .dataframe thead th {\n",
       "        text-align: right;\n",
       "    }\n",
       "</style>\n",
       "<table border=\"1\" class=\"dataframe\">\n",
       "  <thead>\n",
       "    <tr style=\"text-align: right;\">\n",
       "      <th></th>\n",
       "      <th>first</th>\n",
       "      <th>last</th>\n",
       "      <th>email</th>\n",
       "    </tr>\n",
       "  </thead>\n",
       "  <tbody>\n",
       "    <tr>\n",
       "      <th>0</th>\n",
       "      <td>Lalit</td>\n",
       "      <td>Siraswa</td>\n",
       "      <td>lalitsiraswa@gmail.com</td>\n",
       "    </tr>\n",
       "    <tr>\n",
       "      <th>1</th>\n",
       "      <td>Suraj</td>\n",
       "      <td>Dhadeech</td>\n",
       "      <td>surajdhadeech@gmail.com</td>\n",
       "    </tr>\n",
       "    <tr>\n",
       "      <th>2</th>\n",
       "      <td>Ankit</td>\n",
       "      <td>Verma</td>\n",
       "      <td>ankitverma@gmail.com</td>\n",
       "    </tr>\n",
       "    <tr>\n",
       "      <th>3</th>\n",
       "      <td>Vikash</td>\n",
       "      <td>Tawar</td>\n",
       "      <td>vikashtawar@gmail.com</td>\n",
       "    </tr>\n",
       "    <tr>\n",
       "      <th>4</th>\n",
       "      <td>Shohel</td>\n",
       "      <td>Khan</td>\n",
       "      <td>shohelkhan@gmail.com</td>\n",
       "    </tr>\n",
       "  </tbody>\n",
       "</table>\n",
       "</div>"
      ],
      "text/plain": [
       "    first      last                    email\n",
       "0   Lalit   Siraswa   lalitsiraswa@gmail.com\n",
       "1   Suraj  Dhadeech  surajdhadeech@gmail.com\n",
       "2   Ankit     Verma     ankitverma@gmail.com\n",
       "3  Vikash     Tawar    vikashtawar@gmail.com\n",
       "4  Shohel      Khan     shohelkhan@gmail.com"
      ]
     },
     "execution_count": 7,
     "metadata": {},
     "output_type": "execute_result"
    }
   ],
   "source": [
    "df"
   ]
  },
  {
   "cell_type": "code",
   "execution_count": 8,
   "metadata": {},
   "outputs": [
    {
     "name": "stdout",
     "output_type": "stream",
     "text": [
      "    first   last                  email\n",
      "2   Ankit  Verma   ankitverma@gmail.com\n",
      "3  Vikash  Tawar  vikashtawar@gmail.com\n",
      "4  Shohel   Khan   shohelkhan@gmail.com\n"
     ]
    }
   ],
   "source": [
    "print(df.loc[2 : ])"
   ]
  },
  {
   "cell_type": "code",
   "execution_count": 9,
   "metadata": {},
   "outputs": [
    {
     "name": "stdout",
     "output_type": "stream",
     "text": [
      "1     Suraj\n",
      "2     Ankit\n",
      "3    Vikash\n",
      "Name: first, dtype: object\n"
     ]
    }
   ],
   "source": [
    "print(df.loc[1 : 3][\"first\"])"
   ]
  },
  {
   "cell_type": "code",
   "execution_count": 10,
   "metadata": {},
   "outputs": [
    {
     "name": "stdout",
     "output_type": "stream",
     "text": [
      "0     Lalit\n",
      "1     Suraj\n",
      "2     Ankit\n",
      "3    Vikash\n",
      "4    Shohel\n",
      "Name: first, dtype: object \n",
      "\n",
      "0     Siraswa\n",
      "1    Dhadeech\n",
      "2       Verma\n",
      "3       Tawar\n",
      "4        Khan\n",
      "Name: last, dtype: object \n",
      "\n",
      "0     lalitsiraswa@gmail.com\n",
      "1    surajdhadeech@gmail.com\n",
      "2       ankitverma@gmail.com\n",
      "3      vikashtawar@gmail.com\n",
      "4       shohelkhan@gmail.com\n",
      "Name: email, dtype: object \n",
      "\n",
      "<class 'pandas.core.series.Series'> \n",
      "\n",
      "<class 'pandas.core.series.Series'> \n",
      "\n",
      "<class 'pandas.core.series.Series'> \n",
      "\n"
     ]
    }
   ],
   "source": [
    "print(df[\"first\"], \"\\n\")\n",
    "print(df[\"last\"], \"\\n\")\n",
    "print(df[\"email\"], \"\\n\")\n",
    "\n",
    "print(type(df[\"first\"]), \"\\n\")\n",
    "print(type(df[\"last\"]), \"\\n\")\n",
    "print(type(df[\"email\"]), \"\\n\")"
   ]
  },
  {
   "cell_type": "code",
   "execution_count": 11,
   "metadata": {},
   "outputs": [
    {
     "name": "stdout",
     "output_type": "stream",
     "text": [
      "    first                    email\n",
      "0   Lalit   lalitsiraswa@gmail.com\n",
      "1   Suraj  surajdhadeech@gmail.com\n",
      "2   Ankit     ankitverma@gmail.com\n",
      "3  Vikash    vikashtawar@gmail.com\n",
      "4  Shohel     shohelkhan@gmail.com\n"
     ]
    }
   ],
   "source": [
    "print(df[[\"first\", \"email\"]])"
   ]
  },
  {
   "cell_type": "code",
   "execution_count": 12,
   "metadata": {},
   "outputs": [
    {
     "name": "stdout",
     "output_type": "stream",
     "text": [
      "RangeIndex(start=0, stop=5, step=1) \n",
      "\n",
      "Index(['first', 'last', 'email'], dtype='object') \n",
      "\n"
     ]
    }
   ],
   "source": [
    "print(df.index, \"\\n\")\n",
    "print(df.columns, \"\\n\")"
   ]
  },
  {
   "cell_type": "code",
   "execution_count": 13,
   "metadata": {},
   "outputs": [
    {
     "data": {
      "text/html": [
       "<div>\n",
       "<style scoped>\n",
       "    .dataframe tbody tr th:only-of-type {\n",
       "        vertical-align: middle;\n",
       "    }\n",
       "\n",
       "    .dataframe tbody tr th {\n",
       "        vertical-align: top;\n",
       "    }\n",
       "\n",
       "    .dataframe thead th {\n",
       "        text-align: right;\n",
       "    }\n",
       "</style>\n",
       "<table border=\"1\" class=\"dataframe\">\n",
       "  <thead>\n",
       "    <tr style=\"text-align: right;\">\n",
       "      <th></th>\n",
       "      <th>first</th>\n",
       "      <th>last</th>\n",
       "      <th>email</th>\n",
       "    </tr>\n",
       "  </thead>\n",
       "  <tbody>\n",
       "    <tr>\n",
       "      <th>0</th>\n",
       "      <td>Lalit</td>\n",
       "      <td>Siraswa</td>\n",
       "      <td>lalitsiraswa@gmail.com</td>\n",
       "    </tr>\n",
       "    <tr>\n",
       "      <th>1</th>\n",
       "      <td>Suraj</td>\n",
       "      <td>Dhadeech</td>\n",
       "      <td>surajdhadeech@gmail.com</td>\n",
       "    </tr>\n",
       "    <tr>\n",
       "      <th>2</th>\n",
       "      <td>Ankit</td>\n",
       "      <td>Verma</td>\n",
       "      <td>ankitverma@gmail.com</td>\n",
       "    </tr>\n",
       "    <tr>\n",
       "      <th>3</th>\n",
       "      <td>Vikash</td>\n",
       "      <td>Tawar</td>\n",
       "      <td>vikashtawar@gmail.com</td>\n",
       "    </tr>\n",
       "    <tr>\n",
       "      <th>4</th>\n",
       "      <td>Shohel</td>\n",
       "      <td>Khan</td>\n",
       "      <td>shohelkhan@gmail.com</td>\n",
       "    </tr>\n",
       "  </tbody>\n",
       "</table>\n",
       "</div>"
      ],
      "text/plain": [
       "    first      last                    email\n",
       "0   Lalit   Siraswa   lalitsiraswa@gmail.com\n",
       "1   Suraj  Dhadeech  surajdhadeech@gmail.com\n",
       "2   Ankit     Verma     ankitverma@gmail.com\n",
       "3  Vikash     Tawar    vikashtawar@gmail.com\n",
       "4  Shohel      Khan     shohelkhan@gmail.com"
      ]
     },
     "execution_count": 13,
     "metadata": {},
     "output_type": "execute_result"
    }
   ],
   "source": [
    "df"
   ]
  },
  {
   "cell_type": "code",
   "execution_count": 14,
   "metadata": {},
   "outputs": [
    {
     "name": "stdout",
     "output_type": "stream",
     "text": [
      "first                     Lalit\n",
      "last                    Siraswa\n",
      "email    lalitsiraswa@gmail.com\n",
      "Name: 0, dtype: object \n",
      "\n",
      "<class 'pandas.core.series.Series'> \n",
      "\n",
      "first                   Vikash\n",
      "last                     Tawar\n",
      "email    vikashtawar@gmail.com\n",
      "Name: 3, dtype: object \n",
      "\n",
      "first                  Shohel\n",
      "last                     Khan\n",
      "email    shohelkhan@gmail.com\n",
      "Name: 4, dtype: object \n",
      "\n"
     ]
    }
   ],
   "source": [
    "print(df.loc[0], \"\\n\")\n",
    "print(type(df.loc[1]), \"\\n\")\n",
    "print(df.loc[3], \"\\n\")\n",
    "print(df.loc[4], \"\\n\")"
   ]
  },
  {
   "cell_type": "code",
   "execution_count": 15,
   "metadata": {},
   "outputs": [
    {
     "data": {
      "text/html": [
       "<div>\n",
       "<style scoped>\n",
       "    .dataframe tbody tr th:only-of-type {\n",
       "        vertical-align: middle;\n",
       "    }\n",
       "\n",
       "    .dataframe tbody tr th {\n",
       "        vertical-align: top;\n",
       "    }\n",
       "\n",
       "    .dataframe thead th {\n",
       "        text-align: right;\n",
       "    }\n",
       "</style>\n",
       "<table border=\"1\" class=\"dataframe\">\n",
       "  <thead>\n",
       "    <tr style=\"text-align: right;\">\n",
       "      <th></th>\n",
       "      <th>first</th>\n",
       "      <th>last</th>\n",
       "      <th>email</th>\n",
       "    </tr>\n",
       "  </thead>\n",
       "  <tbody>\n",
       "    <tr>\n",
       "      <th>0</th>\n",
       "      <td>Lalit</td>\n",
       "      <td>Siraswa</td>\n",
       "      <td>lalitsiraswa@gmail.com</td>\n",
       "    </tr>\n",
       "    <tr>\n",
       "      <th>1</th>\n",
       "      <td>Suraj</td>\n",
       "      <td>Dhadeech</td>\n",
       "      <td>surajdhadeech@gmail.com</td>\n",
       "    </tr>\n",
       "    <tr>\n",
       "      <th>2</th>\n",
       "      <td>Ankit</td>\n",
       "      <td>Verma</td>\n",
       "      <td>ankitverma@gmail.com</td>\n",
       "    </tr>\n",
       "    <tr>\n",
       "      <th>3</th>\n",
       "      <td>Vikash</td>\n",
       "      <td>Tawar</td>\n",
       "      <td>vikashtawar@gmail.com</td>\n",
       "    </tr>\n",
       "    <tr>\n",
       "      <th>4</th>\n",
       "      <td>Shohel</td>\n",
       "      <td>Khan</td>\n",
       "      <td>shohelkhan@gmail.com</td>\n",
       "    </tr>\n",
       "  </tbody>\n",
       "</table>\n",
       "</div>"
      ],
      "text/plain": [
       "    first      last                    email\n",
       "0   Lalit   Siraswa   lalitsiraswa@gmail.com\n",
       "1   Suraj  Dhadeech  surajdhadeech@gmail.com\n",
       "2   Ankit     Verma     ankitverma@gmail.com\n",
       "3  Vikash     Tawar    vikashtawar@gmail.com\n",
       "4  Shohel      Khan     shohelkhan@gmail.com"
      ]
     },
     "execution_count": 15,
     "metadata": {},
     "output_type": "execute_result"
    }
   ],
   "source": [
    "df"
   ]
  },
  {
   "cell_type": "code",
   "execution_count": 16,
   "metadata": {},
   "outputs": [
    {
     "name": "stdout",
     "output_type": "stream",
     "text": [
      "<class 'pandas.core.series.Series'> \n",
      "\n",
      "first                     Lalit\n",
      "last                    Siraswa\n",
      "email    lalitsiraswa@gmail.com\n",
      "Name: 0, dtype: object \n",
      "\n",
      "first                      Suraj\n",
      "last                    Dhadeech\n",
      "email    surajdhadeech@gmail.com\n",
      "Name: 1, dtype: object \n",
      "\n",
      "first                   Ankit\n",
      "last                    Verma\n",
      "email    ankitverma@gmail.com\n",
      "Name: 2, dtype: object \n",
      "\n",
      "first                   Vikash\n",
      "last                     Tawar\n",
      "email    vikashtawar@gmail.com\n",
      "Name: 3, dtype: object \n",
      "\n",
      "first                  Shohel\n",
      "last                     Khan\n",
      "email    shohelkhan@gmail.com\n",
      "Name: 4, dtype: object \n",
      "\n"
     ]
    }
   ],
   "source": [
    "print(type(df.iloc[0]), \"\\n\")\n",
    "print(df.iloc[0], \"\\n\")\n",
    "print(df.iloc[1], \"\\n\")\n",
    "print(df.iloc[2], \"\\n\")\n",
    "print(df.iloc[3], \"\\n\")\n",
    "print(df.iloc[4], \"\\n\")"
   ]
  },
  {
   "cell_type": "code",
   "execution_count": 17,
   "metadata": {},
   "outputs": [
    {
     "data": {
      "text/html": [
       "<div>\n",
       "<style scoped>\n",
       "    .dataframe tbody tr th:only-of-type {\n",
       "        vertical-align: middle;\n",
       "    }\n",
       "\n",
       "    .dataframe tbody tr th {\n",
       "        vertical-align: top;\n",
       "    }\n",
       "\n",
       "    .dataframe thead th {\n",
       "        text-align: right;\n",
       "    }\n",
       "</style>\n",
       "<table border=\"1\" class=\"dataframe\">\n",
       "  <thead>\n",
       "    <tr style=\"text-align: right;\">\n",
       "      <th></th>\n",
       "      <th>first</th>\n",
       "      <th>last</th>\n",
       "      <th>email</th>\n",
       "    </tr>\n",
       "  </thead>\n",
       "  <tbody>\n",
       "    <tr>\n",
       "      <th>0</th>\n",
       "      <td>Lalit</td>\n",
       "      <td>Siraswa</td>\n",
       "      <td>lalitsiraswa@gmail.com</td>\n",
       "    </tr>\n",
       "    <tr>\n",
       "      <th>1</th>\n",
       "      <td>Suraj</td>\n",
       "      <td>Dhadeech</td>\n",
       "      <td>surajdhadeech@gmail.com</td>\n",
       "    </tr>\n",
       "    <tr>\n",
       "      <th>2</th>\n",
       "      <td>Ankit</td>\n",
       "      <td>Verma</td>\n",
       "      <td>ankitverma@gmail.com</td>\n",
       "    </tr>\n",
       "    <tr>\n",
       "      <th>3</th>\n",
       "      <td>Vikash</td>\n",
       "      <td>Tawar</td>\n",
       "      <td>vikashtawar@gmail.com</td>\n",
       "    </tr>\n",
       "    <tr>\n",
       "      <th>4</th>\n",
       "      <td>Shohel</td>\n",
       "      <td>Khan</td>\n",
       "      <td>shohelkhan@gmail.com</td>\n",
       "    </tr>\n",
       "  </tbody>\n",
       "</table>\n",
       "</div>"
      ],
      "text/plain": [
       "    first      last                    email\n",
       "0   Lalit   Siraswa   lalitsiraswa@gmail.com\n",
       "1   Suraj  Dhadeech  surajdhadeech@gmail.com\n",
       "2   Ankit     Verma     ankitverma@gmail.com\n",
       "3  Vikash     Tawar    vikashtawar@gmail.com\n",
       "4  Shohel      Khan     shohelkhan@gmail.com"
      ]
     },
     "execution_count": 17,
     "metadata": {},
     "output_type": "execute_result"
    }
   ],
   "source": [
    "df"
   ]
  },
  {
   "cell_type": "code",
   "execution_count": 18,
   "metadata": {},
   "outputs": [
    {
     "name": "stdout",
     "output_type": "stream",
     "text": [
      "   first     last                   email\n",
      "0  Lalit  Siraswa  lalitsiraswa@gmail.com\n",
      "2  Ankit    Verma    ankitverma@gmail.com\n"
     ]
    }
   ],
   "source": [
    "print(df.iloc[[0, 2]])"
   ]
  },
  {
   "cell_type": "code",
   "execution_count": 19,
   "metadata": {},
   "outputs": [
    {
     "data": {
      "text/html": [
       "<div>\n",
       "<style scoped>\n",
       "    .dataframe tbody tr th:only-of-type {\n",
       "        vertical-align: middle;\n",
       "    }\n",
       "\n",
       "    .dataframe tbody tr th {\n",
       "        vertical-align: top;\n",
       "    }\n",
       "\n",
       "    .dataframe thead th {\n",
       "        text-align: right;\n",
       "    }\n",
       "</style>\n",
       "<table border=\"1\" class=\"dataframe\">\n",
       "  <thead>\n",
       "    <tr style=\"text-align: right;\">\n",
       "      <th></th>\n",
       "      <th>first</th>\n",
       "      <th>last</th>\n",
       "      <th>email</th>\n",
       "    </tr>\n",
       "  </thead>\n",
       "  <tbody>\n",
       "    <tr>\n",
       "      <th>0</th>\n",
       "      <td>Lalit</td>\n",
       "      <td>Siraswa</td>\n",
       "      <td>lalitsiraswa@gmail.com</td>\n",
       "    </tr>\n",
       "    <tr>\n",
       "      <th>1</th>\n",
       "      <td>Suraj</td>\n",
       "      <td>Dhadeech</td>\n",
       "      <td>surajdhadeech@gmail.com</td>\n",
       "    </tr>\n",
       "    <tr>\n",
       "      <th>2</th>\n",
       "      <td>Ankit</td>\n",
       "      <td>Verma</td>\n",
       "      <td>ankitverma@gmail.com</td>\n",
       "    </tr>\n",
       "    <tr>\n",
       "      <th>3</th>\n",
       "      <td>Vikash</td>\n",
       "      <td>Tawar</td>\n",
       "      <td>vikashtawar@gmail.com</td>\n",
       "    </tr>\n",
       "    <tr>\n",
       "      <th>4</th>\n",
       "      <td>Shohel</td>\n",
       "      <td>Khan</td>\n",
       "      <td>shohelkhan@gmail.com</td>\n",
       "    </tr>\n",
       "  </tbody>\n",
       "</table>\n",
       "</div>"
      ],
      "text/plain": [
       "    first      last                    email\n",
       "0   Lalit   Siraswa   lalitsiraswa@gmail.com\n",
       "1   Suraj  Dhadeech  surajdhadeech@gmail.com\n",
       "2   Ankit     Verma     ankitverma@gmail.com\n",
       "3  Vikash     Tawar    vikashtawar@gmail.com\n",
       "4  Shohel      Khan     shohelkhan@gmail.com"
      ]
     },
     "execution_count": 19,
     "metadata": {},
     "output_type": "execute_result"
    }
   ],
   "source": [
    "df"
   ]
  },
  {
   "cell_type": "code",
   "execution_count": 20,
   "metadata": {},
   "outputs": [
    {
     "name": "stdout",
     "output_type": "stream",
     "text": [
      "first                     Lalit\n",
      "last                    Siraswa\n",
      "email    lalitsiraswa@gmail.com\n",
      "Name: 0, dtype: object \n",
      "\n",
      "0     Lalit\n",
      "1     Suraj\n",
      "2     Ankit\n",
      "3    Vikash\n",
      "4    Shohel\n",
      "Name: first, dtype: object \n",
      "\n"
     ]
    }
   ],
   "source": [
    "print(df.iloc[0], \"\\n\")\n",
    "print(df[\"first\"], \"\\n\")"
   ]
  },
  {
   "cell_type": "code",
   "execution_count": 21,
   "metadata": {},
   "outputs": [
    {
     "data": {
      "text/html": [
       "<div>\n",
       "<style scoped>\n",
       "    .dataframe tbody tr th:only-of-type {\n",
       "        vertical-align: middle;\n",
       "    }\n",
       "\n",
       "    .dataframe tbody tr th {\n",
       "        vertical-align: top;\n",
       "    }\n",
       "\n",
       "    .dataframe thead th {\n",
       "        text-align: right;\n",
       "    }\n",
       "</style>\n",
       "<table border=\"1\" class=\"dataframe\">\n",
       "  <thead>\n",
       "    <tr style=\"text-align: right;\">\n",
       "      <th></th>\n",
       "      <th>first</th>\n",
       "      <th>last</th>\n",
       "      <th>email</th>\n",
       "    </tr>\n",
       "  </thead>\n",
       "  <tbody>\n",
       "    <tr>\n",
       "      <th>0</th>\n",
       "      <td>Lalit</td>\n",
       "      <td>Siraswa</td>\n",
       "      <td>lalitsiraswa@gmail.com</td>\n",
       "    </tr>\n",
       "    <tr>\n",
       "      <th>1</th>\n",
       "      <td>Suraj</td>\n",
       "      <td>Dhadeech</td>\n",
       "      <td>surajdhadeech@gmail.com</td>\n",
       "    </tr>\n",
       "    <tr>\n",
       "      <th>2</th>\n",
       "      <td>Ankit</td>\n",
       "      <td>Verma</td>\n",
       "      <td>ankitverma@gmail.com</td>\n",
       "    </tr>\n",
       "    <tr>\n",
       "      <th>3</th>\n",
       "      <td>Vikash</td>\n",
       "      <td>Tawar</td>\n",
       "      <td>vikashtawar@gmail.com</td>\n",
       "    </tr>\n",
       "    <tr>\n",
       "      <th>4</th>\n",
       "      <td>Shohel</td>\n",
       "      <td>Khan</td>\n",
       "      <td>shohelkhan@gmail.com</td>\n",
       "    </tr>\n",
       "  </tbody>\n",
       "</table>\n",
       "</div>"
      ],
      "text/plain": [
       "    first      last                    email\n",
       "0   Lalit   Siraswa   lalitsiraswa@gmail.com\n",
       "1   Suraj  Dhadeech  surajdhadeech@gmail.com\n",
       "2   Ankit     Verma     ankitverma@gmail.com\n",
       "3  Vikash     Tawar    vikashtawar@gmail.com\n",
       "4  Shohel      Khan     shohelkhan@gmail.com"
      ]
     },
     "execution_count": 21,
     "metadata": {},
     "output_type": "execute_result"
    }
   ],
   "source": [
    "df"
   ]
  },
  {
   "cell_type": "code",
   "execution_count": 22,
   "metadata": {},
   "outputs": [
    {
     "name": "stdout",
     "output_type": "stream",
     "text": [
      "first                     Lalit\n",
      "last                    Siraswa\n",
      "email    lalitsiraswa@gmail.com\n",
      "Name: 0, dtype: object \n",
      "\n",
      "lalitsiraswa@gmail.com \n",
      "\n"
     ]
    }
   ],
   "source": [
    "print(df.loc[0], \"\\n\")\n",
    "print(df.loc[0][\"email\"], \"\\n\")"
   ]
  },
  {
   "cell_type": "code",
   "execution_count": 23,
   "metadata": {},
   "outputs": [
    {
     "name": "stdout",
     "output_type": "stream",
     "text": [
      "0     lalitsiraswa@gmail.com\n",
      "1    surajdhadeech@gmail.com\n",
      "Name: email, dtype: object \n",
      "\n",
      "0     lalitsiraswa@gmail.com\n",
      "1    surajdhadeech@gmail.com\n",
      "Name: email, dtype: object \n",
      "\n"
     ]
    }
   ],
   "source": [
    "print(df.iloc[[0, 1], 2], \"\\n\")\n",
    "print(df.iloc[[0, 1]][\"email\"], \"\\n\")"
   ]
  },
  {
   "cell_type": "code",
   "execution_count": 24,
   "metadata": {},
   "outputs": [
    {
     "data": {
      "text/html": [
       "<div>\n",
       "<style scoped>\n",
       "    .dataframe tbody tr th:only-of-type {\n",
       "        vertical-align: middle;\n",
       "    }\n",
       "\n",
       "    .dataframe tbody tr th {\n",
       "        vertical-align: top;\n",
       "    }\n",
       "\n",
       "    .dataframe thead th {\n",
       "        text-align: right;\n",
       "    }\n",
       "</style>\n",
       "<table border=\"1\" class=\"dataframe\">\n",
       "  <thead>\n",
       "    <tr style=\"text-align: right;\">\n",
       "      <th></th>\n",
       "      <th>first</th>\n",
       "      <th>last</th>\n",
       "      <th>email</th>\n",
       "    </tr>\n",
       "  </thead>\n",
       "  <tbody>\n",
       "    <tr>\n",
       "      <th>0</th>\n",
       "      <td>Lalit</td>\n",
       "      <td>Siraswa</td>\n",
       "      <td>lalitsiraswa@gmail.com</td>\n",
       "    </tr>\n",
       "    <tr>\n",
       "      <th>1</th>\n",
       "      <td>Suraj</td>\n",
       "      <td>Dhadeech</td>\n",
       "      <td>surajdhadeech@gmail.com</td>\n",
       "    </tr>\n",
       "    <tr>\n",
       "      <th>2</th>\n",
       "      <td>Ankit</td>\n",
       "      <td>Verma</td>\n",
       "      <td>ankitverma@gmail.com</td>\n",
       "    </tr>\n",
       "    <tr>\n",
       "      <th>3</th>\n",
       "      <td>Vikash</td>\n",
       "      <td>Tawar</td>\n",
       "      <td>vikashtawar@gmail.com</td>\n",
       "    </tr>\n",
       "    <tr>\n",
       "      <th>4</th>\n",
       "      <td>Shohel</td>\n",
       "      <td>Khan</td>\n",
       "      <td>shohelkhan@gmail.com</td>\n",
       "    </tr>\n",
       "  </tbody>\n",
       "</table>\n",
       "</div>"
      ],
      "text/plain": [
       "    first      last                    email\n",
       "0   Lalit   Siraswa   lalitsiraswa@gmail.com\n",
       "1   Suraj  Dhadeech  surajdhadeech@gmail.com\n",
       "2   Ankit     Verma     ankitverma@gmail.com\n",
       "3  Vikash     Tawar    vikashtawar@gmail.com\n",
       "4  Shohel      Khan     shohelkhan@gmail.com"
      ]
     },
     "execution_count": 24,
     "metadata": {},
     "output_type": "execute_result"
    }
   ],
   "source": [
    "df"
   ]
  },
  {
   "cell_type": "code",
   "execution_count": 25,
   "metadata": {},
   "outputs": [
    {
     "name": "stdout",
     "output_type": "stream",
     "text": [
      "Lalit \n",
      "\n",
      "Suraj \n",
      "\n",
      "Ankit \n",
      "\n",
      "Vikash \n",
      "\n",
      "Shohel \n",
      "\n"
     ]
    }
   ],
   "source": [
    "print(df.iloc[0, 0], \"\\n\")\n",
    "print(df.iloc[1, 0], \"\\n\")\n",
    "print(df.iloc[2, 0], \"\\n\")\n",
    "print(df.iloc[3, 0], \"\\n\")\n",
    "print(df.iloc[4, 0], \"\\n\")"
   ]
  },
  {
   "cell_type": "code",
   "execution_count": 26,
   "metadata": {},
   "outputs": [
    {
     "data": {
      "text/html": [
       "<div>\n",
       "<style scoped>\n",
       "    .dataframe tbody tr th:only-of-type {\n",
       "        vertical-align: middle;\n",
       "    }\n",
       "\n",
       "    .dataframe tbody tr th {\n",
       "        vertical-align: top;\n",
       "    }\n",
       "\n",
       "    .dataframe thead th {\n",
       "        text-align: right;\n",
       "    }\n",
       "</style>\n",
       "<table border=\"1\" class=\"dataframe\">\n",
       "  <thead>\n",
       "    <tr style=\"text-align: right;\">\n",
       "      <th></th>\n",
       "      <th>first</th>\n",
       "      <th>last</th>\n",
       "      <th>email</th>\n",
       "    </tr>\n",
       "  </thead>\n",
       "  <tbody>\n",
       "    <tr>\n",
       "      <th>0</th>\n",
       "      <td>Lalit</td>\n",
       "      <td>Siraswa</td>\n",
       "      <td>lalitsiraswa@gmail.com</td>\n",
       "    </tr>\n",
       "    <tr>\n",
       "      <th>1</th>\n",
       "      <td>Suraj</td>\n",
       "      <td>Dhadeech</td>\n",
       "      <td>surajdhadeech@gmail.com</td>\n",
       "    </tr>\n",
       "    <tr>\n",
       "      <th>2</th>\n",
       "      <td>Ankit</td>\n",
       "      <td>Verma</td>\n",
       "      <td>ankitverma@gmail.com</td>\n",
       "    </tr>\n",
       "    <tr>\n",
       "      <th>3</th>\n",
       "      <td>Vikash</td>\n",
       "      <td>Tawar</td>\n",
       "      <td>vikashtawar@gmail.com</td>\n",
       "    </tr>\n",
       "    <tr>\n",
       "      <th>4</th>\n",
       "      <td>Shohel</td>\n",
       "      <td>Khan</td>\n",
       "      <td>shohelkhan@gmail.com</td>\n",
       "    </tr>\n",
       "  </tbody>\n",
       "</table>\n",
       "</div>"
      ],
      "text/plain": [
       "    first      last                    email\n",
       "0   Lalit   Siraswa   lalitsiraswa@gmail.com\n",
       "1   Suraj  Dhadeech  surajdhadeech@gmail.com\n",
       "2   Ankit     Verma     ankitverma@gmail.com\n",
       "3  Vikash     Tawar    vikashtawar@gmail.com\n",
       "4  Shohel      Khan     shohelkhan@gmail.com"
      ]
     },
     "execution_count": 26,
     "metadata": {},
     "output_type": "execute_result"
    }
   ],
   "source": [
    "df"
   ]
  },
  {
   "cell_type": "code",
   "execution_count": 27,
   "metadata": {},
   "outputs": [
    {
     "name": "stdout",
     "output_type": "stream",
     "text": [
      "0     Lalit\n",
      "1     Suraj\n",
      "2     Ankit\n",
      "3    Vikash\n",
      "4    Shohel\n",
      "Name: first, dtype: object \n",
      "\n",
      "0     lalitsiraswa@gmail.com\n",
      "1    surajdhadeech@gmail.com\n",
      "2       ankitverma@gmail.com\n",
      "3      vikashtawar@gmail.com\n",
      "4       shohelkhan@gmail.com\n",
      "Name: email, dtype: object \n",
      "\n",
      "    first                    email\n",
      "0   Lalit   lalitsiraswa@gmail.com\n",
      "1   Suraj  surajdhadeech@gmail.com\n",
      "2   Ankit     ankitverma@gmail.com\n",
      "3  Vikash    vikashtawar@gmail.com\n",
      "4  Shohel     shohelkhan@gmail.com \n",
      "\n"
     ]
    }
   ],
   "source": [
    "print(df.iloc[0 : , 0], \"\\n\")\n",
    "print(df.iloc[0 : , 2], \"\\n\")\n",
    "print(df.iloc[0 : , [0, 2]], \"\\n\")"
   ]
  },
  {
   "cell_type": "code",
   "execution_count": 28,
   "metadata": {},
   "outputs": [
    {
     "data": {
      "text/html": [
       "<div>\n",
       "<style scoped>\n",
       "    .dataframe tbody tr th:only-of-type {\n",
       "        vertical-align: middle;\n",
       "    }\n",
       "\n",
       "    .dataframe tbody tr th {\n",
       "        vertical-align: top;\n",
       "    }\n",
       "\n",
       "    .dataframe thead th {\n",
       "        text-align: right;\n",
       "    }\n",
       "</style>\n",
       "<table border=\"1\" class=\"dataframe\">\n",
       "  <thead>\n",
       "    <tr style=\"text-align: right;\">\n",
       "      <th></th>\n",
       "      <th>first</th>\n",
       "      <th>last</th>\n",
       "      <th>email</th>\n",
       "    </tr>\n",
       "  </thead>\n",
       "  <tbody>\n",
       "    <tr>\n",
       "      <th>a</th>\n",
       "      <td>Lalit</td>\n",
       "      <td>Siraswa</td>\n",
       "      <td>lalitsiraswa@gmail.com</td>\n",
       "    </tr>\n",
       "    <tr>\n",
       "      <th>b</th>\n",
       "      <td>Suraj</td>\n",
       "      <td>Dhadeech</td>\n",
       "      <td>surajdhadeech@gmail.com</td>\n",
       "    </tr>\n",
       "    <tr>\n",
       "      <th>c</th>\n",
       "      <td>Ankit</td>\n",
       "      <td>Verma</td>\n",
       "      <td>ankitverma@gmail.com</td>\n",
       "    </tr>\n",
       "    <tr>\n",
       "      <th>d</th>\n",
       "      <td>Vikash</td>\n",
       "      <td>Tawar</td>\n",
       "      <td>vikashtawar@gmail.com</td>\n",
       "    </tr>\n",
       "    <tr>\n",
       "      <th>e</th>\n",
       "      <td>Shohel</td>\n",
       "      <td>Khan</td>\n",
       "      <td>shohelkhan@gmail.com</td>\n",
       "    </tr>\n",
       "  </tbody>\n",
       "</table>\n",
       "</div>"
      ],
      "text/plain": [
       "    first      last                    email\n",
       "a   Lalit   Siraswa   lalitsiraswa@gmail.com\n",
       "b   Suraj  Dhadeech  surajdhadeech@gmail.com\n",
       "c   Ankit     Verma     ankitverma@gmail.com\n",
       "d  Vikash     Tawar    vikashtawar@gmail.com\n",
       "e  Shohel      Khan     shohelkhan@gmail.com"
      ]
     },
     "execution_count": 28,
     "metadata": {},
     "output_type": "execute_result"
    }
   ],
   "source": [
    "df = pd.DataFrame(data = people, index = ['a', 'b', 'c', 'd', 'e'])\n",
    "df"
   ]
  },
  {
   "cell_type": "code",
   "execution_count": 29,
   "metadata": {},
   "outputs": [
    {
     "name": "stdout",
     "output_type": "stream",
     "text": [
      "Lalit\n",
      "Lalit \n",
      "\n"
     ]
    }
   ],
   "source": [
    "print(df.loc['a', \"first\"])\n",
    "print(df.loc['a'][0], \"\\n\")"
   ]
  },
  {
   "cell_type": "code",
   "execution_count": 30,
   "metadata": {},
   "outputs": [
    {
     "data": {
      "text/html": [
       "<div>\n",
       "<style scoped>\n",
       "    .dataframe tbody tr th:only-of-type {\n",
       "        vertical-align: middle;\n",
       "    }\n",
       "\n",
       "    .dataframe tbody tr th {\n",
       "        vertical-align: top;\n",
       "    }\n",
       "\n",
       "    .dataframe thead th {\n",
       "        text-align: right;\n",
       "    }\n",
       "</style>\n",
       "<table border=\"1\" class=\"dataframe\">\n",
       "  <thead>\n",
       "    <tr style=\"text-align: right;\">\n",
       "      <th></th>\n",
       "      <th>first</th>\n",
       "      <th>last</th>\n",
       "      <th>email</th>\n",
       "    </tr>\n",
       "  </thead>\n",
       "  <tbody>\n",
       "    <tr>\n",
       "      <th>a</th>\n",
       "      <td>Lalit</td>\n",
       "      <td>Siraswa</td>\n",
       "      <td>lalitsiraswa@gmail.com</td>\n",
       "    </tr>\n",
       "    <tr>\n",
       "      <th>b</th>\n",
       "      <td>Suraj</td>\n",
       "      <td>Dhadeech</td>\n",
       "      <td>surajdhadeech@gmail.com</td>\n",
       "    </tr>\n",
       "    <tr>\n",
       "      <th>c</th>\n",
       "      <td>Ankit</td>\n",
       "      <td>Verma</td>\n",
       "      <td>ankitverma@gmail.com</td>\n",
       "    </tr>\n",
       "    <tr>\n",
       "      <th>d</th>\n",
       "      <td>Vikash</td>\n",
       "      <td>Tawar</td>\n",
       "      <td>vikashtawar@gmail.com</td>\n",
       "    </tr>\n",
       "    <tr>\n",
       "      <th>e</th>\n",
       "      <td>Shohel</td>\n",
       "      <td>Khan</td>\n",
       "      <td>shohelkhan@gmail.com</td>\n",
       "    </tr>\n",
       "  </tbody>\n",
       "</table>\n",
       "</div>"
      ],
      "text/plain": [
       "    first      last                    email\n",
       "a   Lalit   Siraswa   lalitsiraswa@gmail.com\n",
       "b   Suraj  Dhadeech  surajdhadeech@gmail.com\n",
       "c   Ankit     Verma     ankitverma@gmail.com\n",
       "d  Vikash     Tawar    vikashtawar@gmail.com\n",
       "e  Shohel      Khan     shohelkhan@gmail.com"
      ]
     },
     "execution_count": 30,
     "metadata": {},
     "output_type": "execute_result"
    }
   ],
   "source": [
    "df"
   ]
  },
  {
   "cell_type": "code",
   "execution_count": 31,
   "metadata": {},
   "outputs": [
    {
     "name": "stdout",
     "output_type": "stream",
     "text": [
      "    first                    email\n",
      "a   Lalit   lalitsiraswa@gmail.com\n",
      "b   Suraj  surajdhadeech@gmail.com\n",
      "c   Ankit     ankitverma@gmail.com\n",
      "d  Vikash    vikashtawar@gmail.com\n",
      "e  Shohel     shohelkhan@gmail.com\n"
     ]
    }
   ],
   "source": [
    "print(df.loc[\"a\" :, [\"first\", \"email\"]])"
   ]
  },
  {
   "cell_type": "code",
   "execution_count": 32,
   "metadata": {},
   "outputs": [
    {
     "name": "stdout",
     "output_type": "stream",
     "text": [
      "Siraswa \n",
      "\n",
      "Siraswa\n"
     ]
    }
   ],
   "source": [
    "print(df.iloc[0][\"last\"], \"\\n\")\n",
    "print(df.iloc[0, 1])"
   ]
  },
  {
   "cell_type": "code",
   "execution_count": 33,
   "metadata": {},
   "outputs": [],
   "source": [
    "people = {\n",
    "    \"first\" : [\"Lalit\", \"Suraj\", \"Ankit\", \"Vikash\", \"Shohel\"],\n",
    "    \"last\" : [\"Siraswa\", \"Dhadeech\", \"Verma\", \"Tawar\", \"Khan\"],\n",
    "    \"email\" : [\"lalitsiraswa@gmail.com\", \"surajdhadeech@gmail.com\", \"ankitverma@gmail.com\", \"vikashtawar@gmail.com\", \"shohelkhan@gmail.com\"]\n",
    "}"
   ]
  },
  {
   "cell_type": "code",
   "execution_count": 34,
   "metadata": {},
   "outputs": [
    {
     "data": {
      "text/html": [
       "<div>\n",
       "<style scoped>\n",
       "    .dataframe tbody tr th:only-of-type {\n",
       "        vertical-align: middle;\n",
       "    }\n",
       "\n",
       "    .dataframe tbody tr th {\n",
       "        vertical-align: top;\n",
       "    }\n",
       "\n",
       "    .dataframe thead th {\n",
       "        text-align: right;\n",
       "    }\n",
       "</style>\n",
       "<table border=\"1\" class=\"dataframe\">\n",
       "  <thead>\n",
       "    <tr style=\"text-align: right;\">\n",
       "      <th></th>\n",
       "      <th>first</th>\n",
       "      <th>last</th>\n",
       "    </tr>\n",
       "    <tr>\n",
       "      <th>email</th>\n",
       "      <th></th>\n",
       "      <th></th>\n",
       "    </tr>\n",
       "  </thead>\n",
       "  <tbody>\n",
       "    <tr>\n",
       "      <th>lalitsiraswa@gmail.com</th>\n",
       "      <td>Lalit</td>\n",
       "      <td>Siraswa</td>\n",
       "    </tr>\n",
       "    <tr>\n",
       "      <th>surajdhadeech@gmail.com</th>\n",
       "      <td>Suraj</td>\n",
       "      <td>Dhadeech</td>\n",
       "    </tr>\n",
       "    <tr>\n",
       "      <th>ankitverma@gmail.com</th>\n",
       "      <td>Ankit</td>\n",
       "      <td>Verma</td>\n",
       "    </tr>\n",
       "    <tr>\n",
       "      <th>vikashtawar@gmail.com</th>\n",
       "      <td>Vikash</td>\n",
       "      <td>Tawar</td>\n",
       "    </tr>\n",
       "    <tr>\n",
       "      <th>shohelkhan@gmail.com</th>\n",
       "      <td>Shohel</td>\n",
       "      <td>Khan</td>\n",
       "    </tr>\n",
       "  </tbody>\n",
       "</table>\n",
       "</div>"
      ],
      "text/plain": [
       "                          first      last\n",
       "email                                    \n",
       "lalitsiraswa@gmail.com    Lalit   Siraswa\n",
       "surajdhadeech@gmail.com   Suraj  Dhadeech\n",
       "ankitverma@gmail.com      Ankit     Verma\n",
       "vikashtawar@gmail.com    Vikash     Tawar\n",
       "shohelkhan@gmail.com     Shohel      Khan"
      ]
     },
     "execution_count": 34,
     "metadata": {},
     "output_type": "execute_result"
    }
   ],
   "source": [
    "df = pd.DataFrame(data = people, index = people[\"email\"])\n",
    "# df.set_index(\"email\")\n",
    "df.set_index(\"email\", inplace = True)\n",
    "df"
   ]
  },
  {
   "cell_type": "code",
   "execution_count": 35,
   "metadata": {},
   "outputs": [
    {
     "name": "stdout",
     "output_type": "stream",
     "text": [
      "Index(['lalitsiraswa@gmail.com', 'surajdhadeech@gmail.com',\n",
      "       'ankitverma@gmail.com', 'vikashtawar@gmail.com',\n",
      "       'shohelkhan@gmail.com'],\n",
      "      dtype='object', name='email') \n",
      "\n",
      "Index(['first', 'last'], dtype='object') \n",
      "\n"
     ]
    }
   ],
   "source": [
    "print(df.index, \"\\n\")\n",
    "print(df.columns, \"\\n\")"
   ]
  },
  {
   "cell_type": "code",
   "execution_count": 36,
   "metadata": {},
   "outputs": [
    {
     "name": "stdout",
     "output_type": "stream",
     "text": [
      "first      Lalit\n",
      "last     Siraswa\n",
      "Name: lalitsiraswa@gmail.com, dtype: object \n",
      "\n",
      "first       Suraj\n",
      "last     Dhadeech\n",
      "Name: surajdhadeech@gmail.com, dtype: object \n",
      "\n",
      "first    Ankit\n",
      "last     Verma\n",
      "Name: ankitverma@gmail.com, dtype: object \n",
      "\n",
      "Lalit \n",
      "\n",
      "Suraj \n",
      "\n"
     ]
    }
   ],
   "source": [
    "print(df.loc['lalitsiraswa@gmail.com'], \"\\n\")\n",
    "print(df.loc[\"surajdhadeech@gmail.com\"], \"\\n\")\n",
    "print(df.loc[\"ankitverma@gmail.com\"], \"\\n\")\n",
    "print(df.loc[\"lalitsiraswa@gmail.com\", \"first\"], \"\\n\")\n",
    "print(df.loc[\"surajdhadeech@gmail.com\"][0], \"\\n\")"
   ]
  },
  {
   "cell_type": "code",
   "execution_count": 37,
   "metadata": {},
   "outputs": [
    {
     "name": "stdout",
     "output_type": "stream",
     "text": [
      "first      Lalit\n",
      "last     Siraswa\n",
      "Name: lalitsiraswa@gmail.com, dtype: object \n",
      "\n",
      "Suraj \n",
      "\n",
      "Ankit\n"
     ]
    }
   ],
   "source": [
    "print(df.iloc[0], \"\\n\")\n",
    "print(df.iloc[1, 0], \"\\n\")\n",
    "print(df.iloc[2][\"first\"])"
   ]
  },
  {
   "cell_type": "code",
   "execution_count": 38,
   "metadata": {},
   "outputs": [
    {
     "data": {
      "text/html": [
       "<div>\n",
       "<style scoped>\n",
       "    .dataframe tbody tr th:only-of-type {\n",
       "        vertical-align: middle;\n",
       "    }\n",
       "\n",
       "    .dataframe tbody tr th {\n",
       "        vertical-align: top;\n",
       "    }\n",
       "\n",
       "    .dataframe thead th {\n",
       "        text-align: right;\n",
       "    }\n",
       "</style>\n",
       "<table border=\"1\" class=\"dataframe\">\n",
       "  <thead>\n",
       "    <tr style=\"text-align: right;\">\n",
       "      <th></th>\n",
       "      <th>email</th>\n",
       "      <th>first</th>\n",
       "      <th>last</th>\n",
       "    </tr>\n",
       "  </thead>\n",
       "  <tbody>\n",
       "    <tr>\n",
       "      <th>0</th>\n",
       "      <td>lalitsiraswa@gmail.com</td>\n",
       "      <td>Lalit</td>\n",
       "      <td>Siraswa</td>\n",
       "    </tr>\n",
       "    <tr>\n",
       "      <th>1</th>\n",
       "      <td>surajdhadeech@gmail.com</td>\n",
       "      <td>Suraj</td>\n",
       "      <td>Dhadeech</td>\n",
       "    </tr>\n",
       "    <tr>\n",
       "      <th>2</th>\n",
       "      <td>ankitverma@gmail.com</td>\n",
       "      <td>Ankit</td>\n",
       "      <td>Verma</td>\n",
       "    </tr>\n",
       "    <tr>\n",
       "      <th>3</th>\n",
       "      <td>vikashtawar@gmail.com</td>\n",
       "      <td>Vikash</td>\n",
       "      <td>Tawar</td>\n",
       "    </tr>\n",
       "    <tr>\n",
       "      <th>4</th>\n",
       "      <td>shohelkhan@gmail.com</td>\n",
       "      <td>Shohel</td>\n",
       "      <td>Khan</td>\n",
       "    </tr>\n",
       "  </tbody>\n",
       "</table>\n",
       "</div>"
      ],
      "text/plain": [
       "                     email   first      last\n",
       "0   lalitsiraswa@gmail.com   Lalit   Siraswa\n",
       "1  surajdhadeech@gmail.com   Suraj  Dhadeech\n",
       "2     ankitverma@gmail.com   Ankit     Verma\n",
       "3    vikashtawar@gmail.com  Vikash     Tawar\n",
       "4     shohelkhan@gmail.com  Shohel      Khan"
      ]
     },
     "execution_count": 38,
     "metadata": {},
     "output_type": "execute_result"
    }
   ],
   "source": [
    "df.reset_index(inplace = True)\n",
    "df"
   ]
  },
  {
   "cell_type": "code",
   "execution_count": 39,
   "metadata": {},
   "outputs": [
    {
     "data": {
      "text/html": [
       "<div>\n",
       "<style scoped>\n",
       "    .dataframe tbody tr th:only-of-type {\n",
       "        vertical-align: middle;\n",
       "    }\n",
       "\n",
       "    .dataframe tbody tr th {\n",
       "        vertical-align: top;\n",
       "    }\n",
       "\n",
       "    .dataframe thead th {\n",
       "        text-align: right;\n",
       "    }\n",
       "</style>\n",
       "<table border=\"1\" class=\"dataframe\">\n",
       "  <thead>\n",
       "    <tr style=\"text-align: right;\">\n",
       "      <th></th>\n",
       "      <th>email</th>\n",
       "      <th>first</th>\n",
       "      <th>last</th>\n",
       "    </tr>\n",
       "  </thead>\n",
       "  <tbody>\n",
       "    <tr>\n",
       "      <th>2</th>\n",
       "      <td>ankitverma@gmail.com</td>\n",
       "      <td>Ankit</td>\n",
       "      <td>Verma</td>\n",
       "    </tr>\n",
       "    <tr>\n",
       "      <th>0</th>\n",
       "      <td>lalitsiraswa@gmail.com</td>\n",
       "      <td>Lalit</td>\n",
       "      <td>Siraswa</td>\n",
       "    </tr>\n",
       "    <tr>\n",
       "      <th>4</th>\n",
       "      <td>shohelkhan@gmail.com</td>\n",
       "      <td>Shohel</td>\n",
       "      <td>Khan</td>\n",
       "    </tr>\n",
       "    <tr>\n",
       "      <th>1</th>\n",
       "      <td>surajdhadeech@gmail.com</td>\n",
       "      <td>Suraj</td>\n",
       "      <td>Dhadeech</td>\n",
       "    </tr>\n",
       "    <tr>\n",
       "      <th>3</th>\n",
       "      <td>vikashtawar@gmail.com</td>\n",
       "      <td>Vikash</td>\n",
       "      <td>Tawar</td>\n",
       "    </tr>\n",
       "  </tbody>\n",
       "</table>\n",
       "</div>"
      ],
      "text/plain": [
       "                     email   first      last\n",
       "2     ankitverma@gmail.com   Ankit     Verma\n",
       "0   lalitsiraswa@gmail.com   Lalit   Siraswa\n",
       "4     shohelkhan@gmail.com  Shohel      Khan\n",
       "1  surajdhadeech@gmail.com   Suraj  Dhadeech\n",
       "3    vikashtawar@gmail.com  Vikash     Tawar"
      ]
     },
     "execution_count": 39,
     "metadata": {},
     "output_type": "execute_result"
    }
   ],
   "source": [
    "df.sort_values(\"first\", inplace = True)\n",
    "df"
   ]
  },
  {
   "cell_type": "code",
   "execution_count": 40,
   "metadata": {},
   "outputs": [],
   "source": [
    "# df.sort_values(\"first\", ascending = False)"
   ]
  },
  {
   "cell_type": "code",
   "execution_count": 41,
   "metadata": {},
   "outputs": [],
   "source": [
    "# df.sort_index(ascending = False)"
   ]
  },
  {
   "cell_type": "code",
   "execution_count": 42,
   "metadata": {},
   "outputs": [],
   "source": [
    "people = {\n",
    "    \"first\" : [\"Lalit\", \"Suraj\", \"Ankit\", \"Vikash\", \"Shohel\"],\n",
    "    \"last\" : [\"Siraswa\", \"Siraswa\", \"Verma\", \"Tawar\", \"Khan\"],\n",
    "    \"email\" : [\"lalitsiraswa@gmail.com\", \"surajdhadeech@gmail.com\", \"ankitverma@gmail.com\", \"vikashtawar@gmail.com\", \"shohelkhan@gmail.com\"]\n",
    "}"
   ]
  },
  {
   "cell_type": "code",
   "execution_count": 43,
   "metadata": {},
   "outputs": [
    {
     "data": {
      "text/html": [
       "<div>\n",
       "<style scoped>\n",
       "    .dataframe tbody tr th:only-of-type {\n",
       "        vertical-align: middle;\n",
       "    }\n",
       "\n",
       "    .dataframe tbody tr th {\n",
       "        vertical-align: top;\n",
       "    }\n",
       "\n",
       "    .dataframe thead th {\n",
       "        text-align: right;\n",
       "    }\n",
       "</style>\n",
       "<table border=\"1\" class=\"dataframe\">\n",
       "  <thead>\n",
       "    <tr style=\"text-align: right;\">\n",
       "      <th></th>\n",
       "      <th>first</th>\n",
       "      <th>last</th>\n",
       "      <th>email</th>\n",
       "    </tr>\n",
       "  </thead>\n",
       "  <tbody>\n",
       "    <tr>\n",
       "      <th>0</th>\n",
       "      <td>Lalit</td>\n",
       "      <td>Siraswa</td>\n",
       "      <td>lalitsiraswa@gmail.com</td>\n",
       "    </tr>\n",
       "    <tr>\n",
       "      <th>1</th>\n",
       "      <td>Suraj</td>\n",
       "      <td>Siraswa</td>\n",
       "      <td>surajdhadeech@gmail.com</td>\n",
       "    </tr>\n",
       "    <tr>\n",
       "      <th>2</th>\n",
       "      <td>Ankit</td>\n",
       "      <td>Verma</td>\n",
       "      <td>ankitverma@gmail.com</td>\n",
       "    </tr>\n",
       "    <tr>\n",
       "      <th>3</th>\n",
       "      <td>Vikash</td>\n",
       "      <td>Tawar</td>\n",
       "      <td>vikashtawar@gmail.com</td>\n",
       "    </tr>\n",
       "    <tr>\n",
       "      <th>4</th>\n",
       "      <td>Shohel</td>\n",
       "      <td>Khan</td>\n",
       "      <td>shohelkhan@gmail.com</td>\n",
       "    </tr>\n",
       "  </tbody>\n",
       "</table>\n",
       "</div>"
      ],
      "text/plain": [
       "    first     last                    email\n",
       "0   Lalit  Siraswa   lalitsiraswa@gmail.com\n",
       "1   Suraj  Siraswa  surajdhadeech@gmail.com\n",
       "2   Ankit    Verma     ankitverma@gmail.com\n",
       "3  Vikash    Tawar    vikashtawar@gmail.com\n",
       "4  Shohel     Khan     shohelkhan@gmail.com"
      ]
     },
     "execution_count": 43,
     "metadata": {},
     "output_type": "execute_result"
    }
   ],
   "source": [
    "df = pd.DataFrame(data = people)\n",
    "df"
   ]
  },
  {
   "cell_type": "code",
   "execution_count": 44,
   "metadata": {},
   "outputs": [
    {
     "name": "stdout",
     "output_type": "stream",
     "text": [
      "0     True\n",
      "1     True\n",
      "2    False\n",
      "3    False\n",
      "4    False\n",
      "Name: last, dtype: bool \n",
      "\n",
      "   first     last                    email\n",
      "0  Lalit  Siraswa   lalitsiraswa@gmail.com\n",
      "1  Suraj  Siraswa  surajdhadeech@gmail.com\n"
     ]
    }
   ],
   "source": [
    "print(df[\"last\"] == \"Siraswa\", \"\\n\")\n",
    "print(df[df[\"last\"] == \"Siraswa\"])"
   ]
  },
  {
   "cell_type": "code",
   "execution_count": 45,
   "metadata": {},
   "outputs": [
    {
     "name": "stdout",
     "output_type": "stream",
     "text": [
      "<class 'pandas.core.series.Series'> \n",
      "\n",
      "0    False\n",
      "1    False\n",
      "2     True\n",
      "3    False\n",
      "4    False\n",
      "Name: last, dtype: bool \n",
      "\n",
      "   first   last                 email\n",
      "2  Ankit  Verma  ankitverma@gmail.com \n",
      "\n",
      "   first   last                 email\n",
      "2  Ankit  Verma  ankitverma@gmail.com\n"
     ]
    }
   ],
   "source": [
    "filt = df[\"last\"] == \"Verma\"\n",
    "print(type(filt), \"\\n\")\n",
    "print(filt, \"\\n\")\n",
    "print(df[filt], \"\\n\")\n",
    "print(df.get(filt))"
   ]
  },
  {
   "cell_type": "code",
   "execution_count": 46,
   "metadata": {},
   "outputs": [
    {
     "name": "stdout",
     "output_type": "stream",
     "text": [
      "0     True\n",
      "1     True\n",
      "2    False\n",
      "3    False\n",
      "4    False\n",
      "Name: last, dtype: bool \n",
      "\n",
      "   first     last                    email\n",
      "0  Lalit  Siraswa   lalitsiraswa@gmail.com\n",
      "1  Suraj  Siraswa  surajdhadeech@gmail.com \n",
      "\n",
      "   first     last                    email\n",
      "0  Lalit  Siraswa   lalitsiraswa@gmail.com\n",
      "1  Suraj  Siraswa  surajdhadeech@gmail.com \n",
      "\n"
     ]
    }
   ],
   "source": [
    "filt = (df[\"last\"] == \"Siraswa\")\n",
    "print(filt, \"\\n\")\n",
    "print(df[filt], \"\\n\")\n",
    "print(df.get(filt), \"\\n\")"
   ]
  },
  {
   "cell_type": "code",
   "execution_count": 51,
   "metadata": {},
   "outputs": [
    {
     "name": "stdout",
     "output_type": "stream",
     "text": [
      "   first     last                    email\n",
      "0  Lalit  Siraswa   lalitsiraswa@gmail.com\n",
      "1  Suraj  Siraswa  surajdhadeech@gmail.com \n",
      "\n",
      "0    Lalit\n",
      "1    Suraj\n",
      "Name: first, dtype: object \n",
      "\n",
      "0    Lalit\n",
      "1    Suraj\n",
      "Name: first, dtype: object\n"
     ]
    }
   ],
   "source": [
    "print(df.loc[filt], \"\\n\")\n",
    "print(df.loc[filt][\"first\"], \"\\n\")\n",
    "print(df.loc[filt, \"first\"])"
   ]
  },
  {
   "cell_type": "code",
   "execution_count": 52,
   "metadata": {},
   "outputs": [
    {
     "data": {
      "text/html": [
       "<div>\n",
       "<style scoped>\n",
       "    .dataframe tbody tr th:only-of-type {\n",
       "        vertical-align: middle;\n",
       "    }\n",
       "\n",
       "    .dataframe tbody tr th {\n",
       "        vertical-align: top;\n",
       "    }\n",
       "\n",
       "    .dataframe thead th {\n",
       "        text-align: right;\n",
       "    }\n",
       "</style>\n",
       "<table border=\"1\" class=\"dataframe\">\n",
       "  <thead>\n",
       "    <tr style=\"text-align: right;\">\n",
       "      <th></th>\n",
       "      <th>first</th>\n",
       "      <th>last</th>\n",
       "      <th>email</th>\n",
       "    </tr>\n",
       "  </thead>\n",
       "  <tbody>\n",
       "    <tr>\n",
       "      <th>0</th>\n",
       "      <td>Lalit</td>\n",
       "      <td>Siraswa</td>\n",
       "      <td>lalitsiraswa@gmail.com</td>\n",
       "    </tr>\n",
       "    <tr>\n",
       "      <th>1</th>\n",
       "      <td>Suraj</td>\n",
       "      <td>Siraswa</td>\n",
       "      <td>surajdhadeech@gmail.com</td>\n",
       "    </tr>\n",
       "    <tr>\n",
       "      <th>2</th>\n",
       "      <td>Ankit</td>\n",
       "      <td>Verma</td>\n",
       "      <td>ankitverma@gmail.com</td>\n",
       "    </tr>\n",
       "    <tr>\n",
       "      <th>3</th>\n",
       "      <td>Vikash</td>\n",
       "      <td>Tawar</td>\n",
       "      <td>vikashtawar@gmail.com</td>\n",
       "    </tr>\n",
       "    <tr>\n",
       "      <th>4</th>\n",
       "      <td>Shohel</td>\n",
       "      <td>Khan</td>\n",
       "      <td>shohelkhan@gmail.com</td>\n",
       "    </tr>\n",
       "  </tbody>\n",
       "</table>\n",
       "</div>"
      ],
      "text/plain": [
       "    first     last                    email\n",
       "0   Lalit  Siraswa   lalitsiraswa@gmail.com\n",
       "1   Suraj  Siraswa  surajdhadeech@gmail.com\n",
       "2   Ankit    Verma     ankitverma@gmail.com\n",
       "3  Vikash    Tawar    vikashtawar@gmail.com\n",
       "4  Shohel     Khan     shohelkhan@gmail.com"
      ]
     },
     "execution_count": 52,
     "metadata": {},
     "output_type": "execute_result"
    }
   ],
   "source": [
    "df"
   ]
  },
  {
   "cell_type": "code",
   "execution_count": 62,
   "metadata": {},
   "outputs": [
    {
     "name": "stdout",
     "output_type": "stream",
     "text": [
      "Lalit \n",
      "\n",
      "Lalit \n",
      "\n",
      "Lalit \n",
      "\n",
      "Lalit \n",
      "\n",
      "Lalit \n",
      "\n",
      "Lalit \n",
      "\n"
     ]
    }
   ],
   "source": [
    "print(df.loc[0, \"first\"], \"\\n\")\n",
    "print(df.loc[0][\"first\"], \"\\n\")\n",
    "print(df.loc[0][0], \"\\n\")\n",
    "print(df.iloc[0, 0], \"\\n\")\n",
    "print(df.iloc[0][0], \"\\n\")\n",
    "print(df.iloc[0][\"first\"], \"\\n\")"
   ]
  },
  {
   "cell_type": "code",
   "execution_count": 63,
   "metadata": {},
   "outputs": [
    {
     "data": {
      "text/html": [
       "<div>\n",
       "<style scoped>\n",
       "    .dataframe tbody tr th:only-of-type {\n",
       "        vertical-align: middle;\n",
       "    }\n",
       "\n",
       "    .dataframe tbody tr th {\n",
       "        vertical-align: top;\n",
       "    }\n",
       "\n",
       "    .dataframe thead th {\n",
       "        text-align: right;\n",
       "    }\n",
       "</style>\n",
       "<table border=\"1\" class=\"dataframe\">\n",
       "  <thead>\n",
       "    <tr style=\"text-align: right;\">\n",
       "      <th></th>\n",
       "      <th>first</th>\n",
       "      <th>last</th>\n",
       "      <th>email</th>\n",
       "    </tr>\n",
       "  </thead>\n",
       "  <tbody>\n",
       "    <tr>\n",
       "      <th>0</th>\n",
       "      <td>Lalit</td>\n",
       "      <td>Siraswa</td>\n",
       "      <td>lalitsiraswa@gmail.com</td>\n",
       "    </tr>\n",
       "    <tr>\n",
       "      <th>1</th>\n",
       "      <td>Suraj</td>\n",
       "      <td>Siraswa</td>\n",
       "      <td>surajdhadeech@gmail.com</td>\n",
       "    </tr>\n",
       "    <tr>\n",
       "      <th>2</th>\n",
       "      <td>Ankit</td>\n",
       "      <td>Verma</td>\n",
       "      <td>ankitverma@gmail.com</td>\n",
       "    </tr>\n",
       "    <tr>\n",
       "      <th>3</th>\n",
       "      <td>Vikash</td>\n",
       "      <td>Tawar</td>\n",
       "      <td>vikashtawar@gmail.com</td>\n",
       "    </tr>\n",
       "    <tr>\n",
       "      <th>4</th>\n",
       "      <td>Shohel</td>\n",
       "      <td>Khan</td>\n",
       "      <td>shohelkhan@gmail.com</td>\n",
       "    </tr>\n",
       "  </tbody>\n",
       "</table>\n",
       "</div>"
      ],
      "text/plain": [
       "    first     last                    email\n",
       "0   Lalit  Siraswa   lalitsiraswa@gmail.com\n",
       "1   Suraj  Siraswa  surajdhadeech@gmail.com\n",
       "2   Ankit    Verma     ankitverma@gmail.com\n",
       "3  Vikash    Tawar    vikashtawar@gmail.com\n",
       "4  Shohel     Khan     shohelkhan@gmail.com"
      ]
     },
     "execution_count": 63,
     "metadata": {},
     "output_type": "execute_result"
    }
   ],
   "source": [
    "df"
   ]
  },
  {
   "cell_type": "code",
   "execution_count": 73,
   "metadata": {},
   "outputs": [
    {
     "name": "stdout",
     "output_type": "stream",
     "text": [
      "0     True\n",
      "1     True\n",
      "2    False\n",
      "3    False\n",
      "4    False\n",
      "Name: last, dtype: bool \n",
      "\n",
      "<class 'pandas.core.series.Series'> \n",
      "\n",
      "   first     last                    email\n",
      "0  Lalit  Siraswa   lalitsiraswa@gmail.com\n",
      "1  Suraj  Siraswa  surajdhadeech@gmail.com \n",
      "\n",
      "0    Lalit\n",
      "1    Suraj\n",
      "Name: first, dtype: object \n",
      "\n"
     ]
    }
   ],
   "source": [
    "filt = df[\"last\"] == \"Siraswa\"\n",
    "print(filt, \"\\n\")\n",
    "print(type(filt), \"\\n\")\n",
    "print(df.loc[filt], \"\\n\")\n",
    "print(df.loc[filt, \"first\"], \"\\n\")"
   ]
  },
  {
   "cell_type": "code",
   "execution_count": 81,
   "metadata": {},
   "outputs": [
    {
     "name": "stdout",
     "output_type": "stream",
     "text": [
      "0    False\n",
      "1     True\n",
      "2    False\n",
      "3    False\n",
      "4    False\n",
      "dtype: bool \n",
      "\n",
      "   first     last                    email\n",
      "1  Suraj  Siraswa  surajdhadeech@gmail.com \n",
      "\n",
      "   first     last                    email\n",
      "1  Suraj  Siraswa  surajdhadeech@gmail.com \n",
      "\n",
      "1    Suraj\n",
      "Name: first, dtype: object \n",
      "\n",
      "1    Suraj\n",
      "Name: first, dtype: object \n",
      "\n"
     ]
    }
   ],
   "source": [
    "filt = (df[\"last\"] == \"Siraswa\") & (df[\"first\"] == \"Suraj\")\n",
    "print(filt, \"\\n\")\n",
    "print(df[filt], \"\\n\")\n",
    "print(df.loc[filt], \"\\n\")\n",
    "print(df.loc[filt, \"first\"], \"\\n\")\n",
    "print(df.loc[filt][\"first\"], \"\\n\")"
   ]
  },
  {
   "cell_type": "code",
   "execution_count": 89,
   "metadata": {},
   "outputs": [
    {
     "name": "stdout",
     "output_type": "stream",
     "text": [
      "0     True\n",
      "1     True\n",
      "2    False\n",
      "3    False\n",
      "4    False\n",
      "dtype: bool \n",
      "\n",
      "   first     last                    email\n",
      "0  Lalit  Siraswa   lalitsiraswa@gmail.com\n",
      "1  Suraj  Siraswa  surajdhadeech@gmail.com \n",
      "\n",
      "   first     last                    email\n",
      "0  Lalit  Siraswa   lalitsiraswa@gmail.com\n",
      "1  Suraj  Siraswa  surajdhadeech@gmail.com \n",
      "\n",
      "0     lalitsiraswa@gmail.com\n",
      "1    surajdhadeech@gmail.com\n",
      "Name: email, dtype: object \n",
      "\n",
      "0     lalitsiraswa@gmail.com\n",
      "1    surajdhadeech@gmail.com\n",
      "Name: email, dtype: object \n",
      "\n"
     ]
    }
   ],
   "source": [
    "filt = (df[\"first\"] == \"Lalit\") | (df[\"last\"] == \"Siraswa\")\n",
    "print(filt, \"\\n\")\n",
    "print(df[filt], \"\\n\")\n",
    "print(df.loc[filt], \"\\n\")\n",
    "print(df.loc[filt, \"email\"], \"\\n\")\n",
    "print(df.loc[filt][\"email\"], \"\\n\")"
   ]
  },
  {
   "cell_type": "code",
   "execution_count": 102,
   "metadata": {},
   "outputs": [
    {
     "name": "stdout",
     "output_type": "stream",
     "text": [
      "    first   last                  email\n",
      "2   Ankit  Verma   ankitverma@gmail.com\n",
      "3  Vikash  Tawar  vikashtawar@gmail.com\n",
      "4  Shohel   Khan   shohelkhan@gmail.com \n",
      "\n",
      "    first   last                  email\n",
      "2   Ankit  Verma   ankitverma@gmail.com\n",
      "3  Vikash  Tawar  vikashtawar@gmail.com\n",
      "4  Shohel   Khan   shohelkhan@gmail.com \n",
      "\n"
     ]
    }
   ],
   "source": [
    "filt = (df[\"last\"] == \"Siraswa\")\n",
    "print(df.loc[~filt], \"\\n\")\n",
    "print(df[~filt], \"\\n\")"
   ]
  },
  {
   "cell_type": "code",
   "execution_count": null,
   "metadata": {},
   "outputs": [],
   "source": []
  }
 ],
 "metadata": {
  "kernelspec": {
   "display_name": "Python 3",
   "language": "python",
   "name": "python3"
  },
  "language_info": {
   "codemirror_mode": {
    "name": "ipython",
    "version": 3
   },
   "file_extension": ".py",
   "mimetype": "text/x-python",
   "name": "python",
   "nbconvert_exporter": "python",
   "pygments_lexer": "ipython3",
   "version": "3.7.1"
  }
 },
 "nbformat": 4,
 "nbformat_minor": 2
}
