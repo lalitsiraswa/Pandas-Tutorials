{
 "cells": [
  {
   "cell_type": "code",
   "execution_count": 1,
   "metadata": {},
   "outputs": [],
   "source": [
    "import numpy as np\n",
    "import pandas as pd"
   ]
  },
  {
   "cell_type": "code",
   "execution_count": 11,
   "metadata": {},
   "outputs": [
    {
     "name": "stdout",
     "output_type": "stream",
     "text": [
      "    a  b\n",
      "p1  1  5\n",
      "p2  2  6\n",
      "p3  3  7 \n",
      "\n",
      "    e  d\n",
      "p1  3  2\n",
      "p2  4  3\n",
      "p3  5  6\n"
     ]
    }
   ],
   "source": [
    "x1 = {'a' : [1, 2, 3], 'b' : [5, 6, 7]}\n",
    "y1 = {'e' : [3, 4, 5], 'd' : [2, 3, 6]}\n",
    "\n",
    "x = pd.DataFrame(data = x1, index = ['p1', 'p2', 'p3'])\n",
    "y = pd.DataFrame(data = y1, index = ['p1', 'p2', 'p3'])\n",
    "print(x, \"\\n\")\n",
    "print(y)"
   ]
  },
  {
   "cell_type": "code",
   "execution_count": 12,
   "metadata": {},
   "outputs": [
    {
     "data": {
      "text/html": [
       "<div>\n",
       "<style scoped>\n",
       "    .dataframe tbody tr th:only-of-type {\n",
       "        vertical-align: middle;\n",
       "    }\n",
       "\n",
       "    .dataframe tbody tr th {\n",
       "        vertical-align: top;\n",
       "    }\n",
       "\n",
       "    .dataframe thead th {\n",
       "        text-align: right;\n",
       "    }\n",
       "</style>\n",
       "<table border=\"1\" class=\"dataframe\">\n",
       "  <thead>\n",
       "    <tr style=\"text-align: right;\">\n",
       "      <th></th>\n",
       "      <th>a</th>\n",
       "      <th>b</th>\n",
       "      <th>e</th>\n",
       "      <th>d</th>\n",
       "    </tr>\n",
       "  </thead>\n",
       "  <tbody>\n",
       "    <tr>\n",
       "      <th>p1</th>\n",
       "      <td>1</td>\n",
       "      <td>5</td>\n",
       "      <td>3</td>\n",
       "      <td>2</td>\n",
       "    </tr>\n",
       "    <tr>\n",
       "      <th>p2</th>\n",
       "      <td>2</td>\n",
       "      <td>6</td>\n",
       "      <td>4</td>\n",
       "      <td>3</td>\n",
       "    </tr>\n",
       "    <tr>\n",
       "      <th>p3</th>\n",
       "      <td>3</td>\n",
       "      <td>7</td>\n",
       "      <td>5</td>\n",
       "      <td>6</td>\n",
       "    </tr>\n",
       "  </tbody>\n",
       "</table>\n",
       "</div>"
      ],
      "text/plain": [
       "    a  b  e  d\n",
       "p1  1  5  3  2\n",
       "p2  2  6  4  3\n",
       "p3  3  7  5  6"
      ]
     },
     "execution_count": 12,
     "metadata": {},
     "output_type": "execute_result"
    }
   ],
   "source": [
    "x.join(y)"
   ]
  },
  {
   "cell_type": "code",
   "execution_count": 19,
   "metadata": {},
   "outputs": [
    {
     "name": "stdout",
     "output_type": "stream",
     "text": [
      "    a  b  e  d\n",
      "p1  1  5  3  2\n",
      "p2  2  6  4  3\n",
      "p3  3  7  5  6 \n",
      "\n",
      "    a  b  e  d\n",
      "p1  1  5  3  2\n",
      "p2  2  6  4  3\n",
      "p3  3  7  5  6 \n",
      "\n",
      "    a  b  e  d\n",
      "p1  1  5  3  2\n",
      "p2  2  6  4  3\n",
      "p3  3  7  5  6 \n",
      "\n",
      "    a  b  e  d\n",
      "p1  1  5  3  2\n",
      "p2  2  6  4  3\n",
      "p3  3  7  5  6 \n",
      "\n"
     ]
    }
   ],
   "source": [
    "print(x.join(other = y, how = \"left\"), \"\\n\")\n",
    "print(x.join(other = y, how = \"right\"), \"\\n\")\n",
    "print(x.join(other = y, how = \"inner\"), \"\\n\")\n",
    "print(x.join(other = y, how = \"outer\"), \"\\n\")"
   ]
  },
  {
   "cell_type": "code",
   "execution_count": 28,
   "metadata": {},
   "outputs": [
    {
     "name": "stdout",
     "output_type": "stream",
     "text": [
      "    a  b   c\n",
      "p1  1  5   8\n",
      "p2  2  6   9\n",
      "p3  3  7  10 \n",
      "\n",
      "    e  d  f\n",
      "p4  3  2  0\n",
      "p5  4  3  4\n",
      "p6  5  6  7\n"
     ]
    }
   ],
   "source": [
    "x1 = {'a' : [1, 2, 3], 'b' : [5, 6, 7], 'c' : [8, 9, 10]}\n",
    "y1 = {'e' : [3, 4, 5], 'd' : [2, 3, 6], 'f' : [0, 4, 7]}\n",
    "\n",
    "x = pd.DataFrame(data = x1, index = ['p1', 'p2', 'p3'])\n",
    "y = pd.DataFrame(data = y1, index = ['p4', 'p5', 'p6'])\n",
    "print(x, \"\\n\") \n",
    "print(y)"
   ]
  },
  {
   "cell_type": "code",
   "execution_count": 36,
   "metadata": {},
   "outputs": [
    {
     "name": "stdout",
     "output_type": "stream",
     "text": [
      "      a    b     c    e    d    f\n",
      "p1  1.0  5.0   8.0  NaN  NaN  NaN\n",
      "p2  2.0  6.0   9.0  NaN  NaN  NaN\n",
      "p3  3.0  7.0  10.0  NaN  NaN  NaN\n",
      "p4  NaN  NaN   NaN  3.0  2.0  0.0\n",
      "p5  NaN  NaN   NaN  4.0  3.0  4.0\n",
      "p6  NaN  NaN   NaN  5.0  6.0  7.0 \n",
      "\n",
      "    a  b   c   e   d   f\n",
      "p1  1  5   8 NaN NaN NaN\n",
      "p2  2  6   9 NaN NaN NaN\n",
      "p3  3  7  10 NaN NaN NaN \n",
      "\n",
      "     a   b   c  e  d  f\n",
      "p4 NaN NaN NaN  3  2  0\n",
      "p5 NaN NaN NaN  4  3  4\n",
      "p6 NaN NaN NaN  5  6  7 \n",
      "\n",
      "Empty DataFrame\n",
      "Columns: [a, b, c, e, d, f]\n",
      "Index: [] \n",
      "\n"
     ]
    }
   ],
   "source": [
    "print(x.join(other = y, how = \"outer\"), \"\\n\")\n",
    "\n",
    "print(x.join(other = y, how = \"left\"), \"\\n\")\n",
    "\n",
    "print(x.join(other = y, how = \"right\"), \"\\n\")\n",
    "\n",
    "print(x.join(other = y, how = \"inner\"), \"\\n\")"
   ]
  },
  {
   "cell_type": "code",
   "execution_count": null,
   "metadata": {},
   "outputs": [],
   "source": []
  }
 ],
 "metadata": {
  "kernelspec": {
   "display_name": "Python 3",
   "language": "python",
   "name": "python3"
  },
  "language_info": {
   "codemirror_mode": {
    "name": "ipython",
    "version": 3
   },
   "file_extension": ".py",
   "mimetype": "text/x-python",
   "name": "python",
   "nbconvert_exporter": "python",
   "pygments_lexer": "ipython3",
   "version": "3.7.1"
  }
 },
 "nbformat": 4,
 "nbformat_minor": 2
}
