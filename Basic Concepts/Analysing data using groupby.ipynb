{
 "cells": [
  {
   "cell_type": "code",
   "execution_count": 2,
   "metadata": {},
   "outputs": [],
   "source": [
    "import numpy as np\n",
    "import pandas as pd"
   ]
  },
  {
   "cell_type": "code",
   "execution_count": 3,
   "metadata": {},
   "outputs": [],
   "source": [
    "p = {\"items\" : [\"apple\", \"apple\", \"orange\", \"orange\", \"guns\", \"guns\", \"guns\"], \"days\" : [\"mon\", \"tue\", \"wen\", \"thu\", \"fri\", \"sat\", \"sun\"], \"sales\" : [100, 80, 200, 100, 5, 10, 5]}"
   ]
  },
  {
   "cell_type": "code",
   "execution_count": 4,
   "metadata": {},
   "outputs": [
    {
     "data": {
      "text/plain": [
       "{'items': ['apple', 'apple', 'orange', 'orange', 'guns', 'guns', 'guns'],\n",
       " 'days': ['mon', 'tue', 'wen', 'thu', 'fri', 'sat', 'sun'],\n",
       " 'sales': [100, 80, 200, 100, 5, 10, 5]}"
      ]
     },
     "execution_count": 4,
     "metadata": {},
     "output_type": "execute_result"
    }
   ],
   "source": [
    "p"
   ]
  },
  {
   "cell_type": "code",
   "execution_count": 5,
   "metadata": {},
   "outputs": [
    {
     "data": {
      "text/html": [
       "<div>\n",
       "<style scoped>\n",
       "    .dataframe tbody tr th:only-of-type {\n",
       "        vertical-align: middle;\n",
       "    }\n",
       "\n",
       "    .dataframe tbody tr th {\n",
       "        vertical-align: top;\n",
       "    }\n",
       "\n",
       "    .dataframe thead th {\n",
       "        text-align: right;\n",
       "    }\n",
       "</style>\n",
       "<table border=\"1\" class=\"dataframe\">\n",
       "  <thead>\n",
       "    <tr style=\"text-align: right;\">\n",
       "      <th></th>\n",
       "      <th>items</th>\n",
       "      <th>days</th>\n",
       "      <th>sales</th>\n",
       "    </tr>\n",
       "  </thead>\n",
       "  <tbody>\n",
       "    <tr>\n",
       "      <th>0</th>\n",
       "      <td>apple</td>\n",
       "      <td>mon</td>\n",
       "      <td>100</td>\n",
       "    </tr>\n",
       "    <tr>\n",
       "      <th>1</th>\n",
       "      <td>apple</td>\n",
       "      <td>tue</td>\n",
       "      <td>80</td>\n",
       "    </tr>\n",
       "    <tr>\n",
       "      <th>2</th>\n",
       "      <td>orange</td>\n",
       "      <td>wen</td>\n",
       "      <td>200</td>\n",
       "    </tr>\n",
       "    <tr>\n",
       "      <th>3</th>\n",
       "      <td>orange</td>\n",
       "      <td>thu</td>\n",
       "      <td>100</td>\n",
       "    </tr>\n",
       "    <tr>\n",
       "      <th>4</th>\n",
       "      <td>guns</td>\n",
       "      <td>fri</td>\n",
       "      <td>5</td>\n",
       "    </tr>\n",
       "    <tr>\n",
       "      <th>5</th>\n",
       "      <td>guns</td>\n",
       "      <td>sat</td>\n",
       "      <td>10</td>\n",
       "    </tr>\n",
       "    <tr>\n",
       "      <th>6</th>\n",
       "      <td>guns</td>\n",
       "      <td>sun</td>\n",
       "      <td>5</td>\n",
       "    </tr>\n",
       "  </tbody>\n",
       "</table>\n",
       "</div>"
      ],
      "text/plain": [
       "    items days  sales\n",
       "0   apple  mon    100\n",
       "1   apple  tue     80\n",
       "2  orange  wen    200\n",
       "3  orange  thu    100\n",
       "4    guns  fri      5\n",
       "5    guns  sat     10\n",
       "6    guns  sun      5"
      ]
     },
     "execution_count": 5,
     "metadata": {},
     "output_type": "execute_result"
    }
   ],
   "source": [
    "df = pd.DataFrame(data = p)\n",
    "df"
   ]
  },
  {
   "cell_type": "code",
   "execution_count": 6,
   "metadata": {},
   "outputs": [
    {
     "name": "stdout",
     "output_type": "stream",
     "text": [
      "('apple',    items days  sales\n",
      "0  apple  mon    100\n",
      "1  apple  tue     80) \n",
      "\n",
      "('guns',   items days  sales\n",
      "4  guns  fri      5\n",
      "5  guns  sat     10\n",
      "6  guns  sun      5) \n",
      "\n",
      "('orange',     items days  sales\n",
      "2  orange  wen    200\n",
      "3  orange  thu    100) \n",
      "\n",
      "---------------\n",
      "('fri',   items days  sales\n",
      "4  guns  fri      5)\n",
      "\n",
      "('mon',    items days  sales\n",
      "0  apple  mon    100)\n",
      "\n",
      "('sat',   items days  sales\n",
      "5  guns  sat     10)\n",
      "\n",
      "('sun',   items days  sales\n",
      "6  guns  sun      5)\n",
      "\n",
      "('thu',     items days  sales\n",
      "3  orange  thu    100)\n",
      "\n",
      "('tue',    items days  sales\n",
      "1  apple  tue     80)\n",
      "\n",
      "('wen',     items days  sales\n",
      "2  orange  wen    200)\n",
      "\n",
      "---------------\n",
      "(5,   items days  sales\n",
      "4  guns  fri      5\n",
      "6  guns  sun      5)\n",
      "\n",
      "(10,   items days  sales\n",
      "5  guns  sat     10)\n",
      "\n",
      "(80,    items days  sales\n",
      "1  apple  tue     80)\n",
      "\n",
      "(100,     items days  sales\n",
      "0   apple  mon    100\n",
      "3  orange  thu    100)\n",
      "\n",
      "(200,     items days  sales\n",
      "2  orange  wen    200)\n",
      "\n"
     ]
    }
   ],
   "source": [
    "x = df.groupby(\"items\")\n",
    "for i in x:\n",
    "    print(i, \"\\n\")\n",
    "print(\"---------------\")    \n",
    "x = df.groupby(\"days\")\n",
    "for i in x:\n",
    "    print(i, end = \"\\n\\n\")\n",
    "print(\"---------------\")    \n",
    "x = df.groupby(\"sales\")\n",
    "for i in x:\n",
    "    print(i, end = \"\\n\\n\")"
   ]
  },
  {
   "cell_type": "code",
   "execution_count": 41,
   "metadata": {},
   "outputs": [
    {
     "name": "stdout",
     "output_type": "stream",
     "text": [
      "    items days  sales\n",
      "0   apple  mon    100\n",
      "1   apple  tue     80\n",
      "2  orange  wen    200\n",
      "3  orange  thu    100\n",
      "4    guns  fri      5\n",
      "5    guns  sat     10\n",
      "6    guns  sun      5\n",
      "             sales\n",
      "items             \n",
      "apple    90.000000\n",
      "guns      6.666667\n",
      "orange  150.000000 \n",
      "\n",
      "       days  sales\n",
      "items             \n",
      "apple   tue    100\n",
      "guns    sun     10\n",
      "orange  wen    200 \n",
      "\n",
      "       days  sales\n",
      "items             \n",
      "apple   mon     80\n",
      "guns    fri      5\n",
      "orange  thu    100 \n",
      "\n",
      "        sales\n",
      "items        \n",
      "apple     180\n",
      "guns       20\n",
      "orange    300 \n",
      "\n",
      "        days  sales\n",
      "items              \n",
      "apple      2      2\n",
      "guns       3      3\n",
      "orange     2      2 \n",
      "\n",
      "       sales                                                          \n",
      "       count        mean        std    min    25%    50%    75%    max\n",
      "items                                                                 \n",
      "apple    2.0   90.000000  14.142136   80.0   85.0   90.0   95.0  100.0\n",
      "guns     3.0    6.666667   2.886751    5.0    5.0    5.0    7.5   10.0\n",
      "orange   2.0  150.000000  70.710678  100.0  125.0  150.0  175.0  200.0 \n",
      "\n"
     ]
    }
   ],
   "source": [
    "x = df.groupby(\"items\")\n",
    "print(df)\n",
    "print(x.mean(), \"\\n\")\n",
    "print(x.max(), \"\\n\")\n",
    "print(x.min(), \"\\n\")\n",
    "print(x.sum(), \"\\n\")\n",
    "print(x.count(), \"\\n\")\n",
    "print(x.describe(), \"\\n\")"
   ]
  },
  {
   "cell_type": "code",
   "execution_count": 64,
   "metadata": {},
   "outputs": [
    {
     "name": "stdout",
     "output_type": "stream",
     "text": [
      "items             apple       guns      orange\n",
      "sales count    2.000000   3.000000    2.000000\n",
      "      mean    90.000000   6.666667  150.000000\n",
      "      std     14.142136   2.886751   70.710678\n",
      "      min     80.000000   5.000000  100.000000\n",
      "      25%     85.000000   5.000000  125.000000\n",
      "      50%     90.000000   5.000000  150.000000\n",
      "      75%     95.000000   7.500000  175.000000\n",
      "      max    100.000000  10.000000  200.000000 \n",
      "\n",
      "items             apple       guns      orange\n",
      "sales count    2.000000   3.000000    2.000000\n",
      "      mean    90.000000   6.666667  150.000000\n",
      "      std     14.142136   2.886751   70.710678\n",
      "      min     80.000000   5.000000  100.000000\n",
      "      25%     85.000000   5.000000  125.000000\n",
      "      50%     90.000000   5.000000  150.000000\n",
      "      75%     95.000000   7.500000  175.000000\n",
      "      max    100.000000  10.000000  200.000000\n"
     ]
    }
   ],
   "source": [
    "print(x.describe().T, '\\n')\n",
    "print(x.describe().transpose())"
   ]
  },
  {
   "cell_type": "code",
   "execution_count": null,
   "metadata": {},
   "outputs": [],
   "source": []
  }
 ],
 "metadata": {
  "kernelspec": {
   "display_name": "Python 3",
   "language": "python",
   "name": "python3"
  },
  "language_info": {
   "codemirror_mode": {
    "name": "ipython",
    "version": 3
   },
   "file_extension": ".py",
   "mimetype": "text/x-python",
   "name": "python",
   "nbconvert_exporter": "python",
   "pygments_lexer": "ipython3",
   "version": "3.7.1"
  }
 },
 "nbformat": 4,
 "nbformat_minor": 2
}
