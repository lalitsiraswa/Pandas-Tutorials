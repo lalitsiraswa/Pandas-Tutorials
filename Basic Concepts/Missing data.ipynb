{
 "cells": [
  {
   "cell_type": "code",
   "execution_count": 2,
   "metadata": {},
   "outputs": [],
   "source": [
    "import numpy as np\n",
    "import pandas as pd"
   ]
  },
  {
   "cell_type": "code",
   "execution_count": 3,
   "metadata": {},
   "outputs": [
    {
     "name": "stdout",
     "output_type": "stream",
     "text": [
      "{'a': [1, 2, 3, 4, 5], 'b': [6, 7, 8, 9, nan], 'c': [0, 1, 2, nan, nan], 'd': [3, 4, nan, nan, nan], 'e': [5, nan, nan, nan, nan]}\n"
     ]
    },
    {
     "data": {
      "text/html": [
       "<div>\n",
       "<style scoped>\n",
       "    .dataframe tbody tr th:only-of-type {\n",
       "        vertical-align: middle;\n",
       "    }\n",
       "\n",
       "    .dataframe tbody tr th {\n",
       "        vertical-align: top;\n",
       "    }\n",
       "\n",
       "    .dataframe thead th {\n",
       "        text-align: right;\n",
       "    }\n",
       "</style>\n",
       "<table border=\"1\" class=\"dataframe\">\n",
       "  <thead>\n",
       "    <tr style=\"text-align: right;\">\n",
       "      <th></th>\n",
       "      <th>a</th>\n",
       "      <th>b</th>\n",
       "      <th>c</th>\n",
       "      <th>d</th>\n",
       "      <th>e</th>\n",
       "    </tr>\n",
       "  </thead>\n",
       "  <tbody>\n",
       "    <tr>\n",
       "      <th>0</th>\n",
       "      <td>1</td>\n",
       "      <td>6.0</td>\n",
       "      <td>0.0</td>\n",
       "      <td>3.0</td>\n",
       "      <td>5.0</td>\n",
       "    </tr>\n",
       "    <tr>\n",
       "      <th>1</th>\n",
       "      <td>2</td>\n",
       "      <td>7.0</td>\n",
       "      <td>1.0</td>\n",
       "      <td>4.0</td>\n",
       "      <td>NaN</td>\n",
       "    </tr>\n",
       "    <tr>\n",
       "      <th>2</th>\n",
       "      <td>3</td>\n",
       "      <td>8.0</td>\n",
       "      <td>2.0</td>\n",
       "      <td>NaN</td>\n",
       "      <td>NaN</td>\n",
       "    </tr>\n",
       "    <tr>\n",
       "      <th>3</th>\n",
       "      <td>4</td>\n",
       "      <td>9.0</td>\n",
       "      <td>NaN</td>\n",
       "      <td>NaN</td>\n",
       "      <td>NaN</td>\n",
       "    </tr>\n",
       "    <tr>\n",
       "      <th>4</th>\n",
       "      <td>5</td>\n",
       "      <td>NaN</td>\n",
       "      <td>NaN</td>\n",
       "      <td>NaN</td>\n",
       "      <td>NaN</td>\n",
       "    </tr>\n",
       "  </tbody>\n",
       "</table>\n",
       "</div>"
      ],
      "text/plain": [
       "   a    b    c    d    e\n",
       "0  1  6.0  0.0  3.0  5.0\n",
       "1  2  7.0  1.0  4.0  NaN\n",
       "2  3  8.0  2.0  NaN  NaN\n",
       "3  4  9.0  NaN  NaN  NaN\n",
       "4  5  NaN  NaN  NaN  NaN"
      ]
     },
     "execution_count": 3,
     "metadata": {},
     "output_type": "execute_result"
    }
   ],
   "source": [
    "d = {'a' : [1, 2, 3, 4, 5], 'b' : [6, 7, 8, 9, np.nan], 'c' : [0, 1, 2, np.nan, np.nan], 'd' : [3, 4, np.nan, np.nan, np.nan], 'e': [5, np.nan, np.nan, np.nan, np.nan]}\n",
    "print(d)\n",
    "df = pd.DataFrame(data = d)\n",
    "df"
   ]
  },
  {
   "cell_type": "code",
   "execution_count": 4,
   "metadata": {},
   "outputs": [
    {
     "name": "stdout",
     "output_type": "stream",
     "text": [
      "   a    b    c    d    e\n",
      "0  1  6.0  0.0  3.0  5.0 \n",
      "\n",
      "   a\n",
      "0  1\n",
      "1  2\n",
      "2  3\n",
      "3  4\n",
      "4  5\n"
     ]
    }
   ],
   "source": [
    "print(df.dropna(axis=0), \"\\n\")\n",
    "print(df.dropna(axis=1))"
   ]
  },
  {
   "cell_type": "code",
   "execution_count": 5,
   "metadata": {},
   "outputs": [
    {
     "name": "stdout",
     "output_type": "stream",
     "text": [
      "   a    b    c    d    e\n",
      "0  1  6.0  0.0  3.0  5.0 \n",
      "\n",
      "Empty DataFrame\n",
      "Columns: [a, b, c, d, e]\n",
      "Index: [] \n",
      "\n",
      "   a    b    c    d    e\n",
      "0  1  6.0  0.0  3.0  5.0 \n",
      "\n",
      "   a    b    c    d    e\n",
      "0  1  6.0  0.0  3.0  5.0\n",
      "1  2  7.0  1.0  4.0  NaN \n",
      "\n",
      "   a    b    c    d    e\n",
      "0  1  6.0  0.0  3.0  5.0\n",
      "1  2  7.0  1.0  4.0  NaN\n",
      "2  3  8.0  2.0  NaN  NaN \n",
      "\n",
      "   a    b    c    d    e\n",
      "0  1  6.0  0.0  3.0  5.0\n",
      "1  2  7.0  1.0  4.0  NaN\n",
      "2  3  8.0  2.0  NaN  NaN\n",
      "3  4  9.0  NaN  NaN  NaN \n",
      "\n",
      "   a    b    c    d    e\n",
      "0  1  6.0  0.0  3.0  5.0\n",
      "1  2  7.0  1.0  4.0  NaN\n",
      "2  3  8.0  2.0  NaN  NaN\n",
      "3  4  9.0  NaN  NaN  NaN\n",
      "4  5  NaN  NaN  NaN  NaN \n",
      "\n"
     ]
    }
   ],
   "source": [
    "print(df.dropna(axis = 0, thresh = None), \"\\n\")\n",
    "print(df.dropna(axis = 0, thresh = 6), \"\\n\")\n",
    "print(df.dropna(axis = 0, thresh = 5), \"\\n\")\n",
    "print(df.dropna(axis = 0, thresh = 4), \"\\n\")\n",
    "print(df.dropna(axis = 0, thresh = 3), \"\\n\")\n",
    "print(df.dropna(axis = 0, thresh = 2), \"\\n\")\n",
    "print(df.dropna(axis = 0, thresh = 1), \"\\n\")\n",
    "# print(df.dropna(axis = 0, thresh = 0), \"\\n\")"
   ]
  },
  {
   "cell_type": "code",
   "execution_count": 6,
   "metadata": {},
   "outputs": [
    {
     "name": "stdout",
     "output_type": "stream",
     "text": [
      "   a    b    c    d    e\n",
      "0  1  6.0  0.0  3.0  5.0\n",
      "1  2  7.0  1.0  4.0  NaN\n",
      "2  3  8.0  2.0  NaN  NaN\n",
      "3  4  9.0  NaN  NaN  NaN\n",
      "4  5  NaN  NaN  NaN  NaN\n"
     ]
    },
    {
     "data": {
      "text/html": [
       "<div>\n",
       "<style scoped>\n",
       "    .dataframe tbody tr th:only-of-type {\n",
       "        vertical-align: middle;\n",
       "    }\n",
       "\n",
       "    .dataframe tbody tr th {\n",
       "        vertical-align: top;\n",
       "    }\n",
       "\n",
       "    .dataframe thead th {\n",
       "        text-align: right;\n",
       "    }\n",
       "</style>\n",
       "<table border=\"1\" class=\"dataframe\">\n",
       "  <thead>\n",
       "    <tr style=\"text-align: right;\">\n",
       "      <th></th>\n",
       "      <th>a</th>\n",
       "      <th>b</th>\n",
       "      <th>c</th>\n",
       "      <th>d</th>\n",
       "      <th>e</th>\n",
       "    </tr>\n",
       "  </thead>\n",
       "  <tbody>\n",
       "    <tr>\n",
       "      <th>0</th>\n",
       "      <td>1</td>\n",
       "      <td>6.0</td>\n",
       "      <td>0.0</td>\n",
       "      <td>3.0</td>\n",
       "      <td>5.0</td>\n",
       "    </tr>\n",
       "    <tr>\n",
       "      <th>1</th>\n",
       "      <td>2</td>\n",
       "      <td>7.0</td>\n",
       "      <td>1.0</td>\n",
       "      <td>4.0</td>\n",
       "      <td>10.0</td>\n",
       "    </tr>\n",
       "    <tr>\n",
       "      <th>2</th>\n",
       "      <td>3</td>\n",
       "      <td>8.0</td>\n",
       "      <td>2.0</td>\n",
       "      <td>10.0</td>\n",
       "      <td>10.0</td>\n",
       "    </tr>\n",
       "    <tr>\n",
       "      <th>3</th>\n",
       "      <td>4</td>\n",
       "      <td>9.0</td>\n",
       "      <td>10.0</td>\n",
       "      <td>10.0</td>\n",
       "      <td>10.0</td>\n",
       "    </tr>\n",
       "    <tr>\n",
       "      <th>4</th>\n",
       "      <td>5</td>\n",
       "      <td>10.0</td>\n",
       "      <td>10.0</td>\n",
       "      <td>10.0</td>\n",
       "      <td>10.0</td>\n",
       "    </tr>\n",
       "  </tbody>\n",
       "</table>\n",
       "</div>"
      ],
      "text/plain": [
       "   a     b     c     d     e\n",
       "0  1   6.0   0.0   3.0   5.0\n",
       "1  2   7.0   1.0   4.0  10.0\n",
       "2  3   8.0   2.0  10.0  10.0\n",
       "3  4   9.0  10.0  10.0  10.0\n",
       "4  5  10.0  10.0  10.0  10.0"
      ]
     },
     "execution_count": 6,
     "metadata": {},
     "output_type": "execute_result"
    }
   ],
   "source": [
    "print(df)\n",
    "df.fillna(10)"
   ]
  },
  {
   "cell_type": "code",
   "execution_count": 7,
   "metadata": {
    "scrolled": false
   },
   "outputs": [
    {
     "name": "stdout",
     "output_type": "stream",
     "text": [
      "   a    b    c    d    e\n",
      "0  1  6.0  0.0  3.0  5.0\n",
      "1  2  7.0  1.0  4.0  NaN\n",
      "2  3  8.0  2.0  NaN  NaN\n",
      "3  4  9.0  NaN  NaN  NaN\n",
      "4  5  NaN  NaN  NaN  NaN\n"
     ]
    },
    {
     "data": {
      "text/plain": [
       "0    5.0\n",
       "1    1.0\n",
       "2    1.0\n",
       "3    1.0\n",
       "4    1.0\n",
       "Name: e, dtype: float64"
      ]
     },
     "execution_count": 7,
     "metadata": {},
     "output_type": "execute_result"
    }
   ],
   "source": [
    "print(df)\n",
    "df[\"e\"].fillna(1)"
   ]
  },
  {
   "cell_type": "code",
   "execution_count": 8,
   "metadata": {},
   "outputs": [
    {
     "name": "stdout",
     "output_type": "stream",
     "text": [
      "   a    b    c    d    e\n",
      "0  1  6.0  0.0  3.0  5.0\n",
      "1  2  7.0  1.0  4.0  NaN\n",
      "2  3  8.0  2.0  NaN  NaN\n",
      "3  4  9.0  NaN  NaN  NaN\n",
      "4  5  NaN  NaN  NaN  NaN\n"
     ]
    },
    {
     "data": {
      "text/plain": [
       "0    5.0\n",
       "1    5.0\n",
       "2    5.0\n",
       "3    5.0\n",
       "4    5.0\n",
       "Name: e, dtype: float64"
      ]
     },
     "execution_count": 8,
     "metadata": {},
     "output_type": "execute_result"
    }
   ],
   "source": [
    "print(df)\n",
    "df[\"e\"].fillna(value = df[\"e\"].mean())"
   ]
  },
  {
   "cell_type": "code",
   "execution_count": 9,
   "metadata": {},
   "outputs": [
    {
     "name": "stdout",
     "output_type": "stream",
     "text": [
      "a    2.0\n",
      "b    7.0\n",
      "c    1.0\n",
      "d    4.0\n",
      "e    3.5\n",
      "Name: 1, dtype: float64\n",
      "0    0.0\n",
      "1    1.0\n",
      "2    2.0\n",
      "3    1.0\n",
      "4    1.0\n",
      "Name: c, dtype: float64\n",
      "a    2.0\n",
      "b    7.0\n",
      "c    1.0\n",
      "d    4.0\n",
      "e    3.5\n",
      "Name: 1, dtype: float64\n"
     ]
    }
   ],
   "source": [
    "print(df.loc[1].fillna(value = df.loc[1].mean()))\n",
    "print(df[\"c\"].fillna(df[\"c\"].mean()))\n",
    "print(df.iloc[1].fillna(value = df.iloc[1].mean()))"
   ]
  },
  {
   "cell_type": "code",
   "execution_count": 10,
   "metadata": {},
   "outputs": [
    {
     "name": "stdout",
     "output_type": "stream",
     "text": [
      "   a    b    c    d    e\n",
      "0  1  6.0  0.0  3.0  5.0\n",
      "1  2  7.0  1.0  4.0  NaN\n",
      "2  3  8.0  2.0  NaN  NaN\n",
      "3  4  9.0  NaN  NaN  NaN\n",
      "4  5  NaN  NaN  NaN  NaN\n"
     ]
    },
    {
     "data": {
      "text/plain": [
       "a    5.0\n",
       "b    5.0\n",
       "c    5.0\n",
       "d    5.0\n",
       "e    5.0\n",
       "Name: 4, dtype: float64"
      ]
     },
     "execution_count": 10,
     "metadata": {},
     "output_type": "execute_result"
    }
   ],
   "source": [
    "print(df)\n",
    "df.iloc[4].fillna(value = df.iloc[4].mean())"
   ]
  },
  {
   "cell_type": "code",
   "execution_count": 14,
   "metadata": {},
   "outputs": [
    {
     "name": "stdout",
     "output_type": "stream",
     "text": [
      "   a    b    c    d    e\n",
      "0  1  6.0  0.0  3.0  5.0\n",
      "1  2  7.0  1.0  4.0  NaN\n",
      "2  3  8.0  2.0  NaN  NaN\n",
      "3  4  9.0  NaN  NaN  NaN\n",
      "4  5  NaN  NaN  NaN  NaN\n",
      "0    3.0\n",
      "1    4.0\n",
      "Name: d, dtype: float64\n",
      "0    6.0\n",
      "1    7.0\n",
      "2    8.0\n",
      "3    9.0\n",
      "Name: b, dtype: float64\n"
     ]
    }
   ],
   "source": [
    "print(df)\n",
    "print(df[\"d\"].dropna())\n",
    "print(df[\"b\"].dropna())"
   ]
  },
  {
   "cell_type": "code",
   "execution_count": null,
   "metadata": {},
   "outputs": [],
   "source": []
  }
 ],
 "metadata": {
  "kernelspec": {
   "display_name": "Python 3",
   "language": "python",
   "name": "python3"
  },
  "language_info": {
   "codemirror_mode": {
    "name": "ipython",
    "version": 3
   },
   "file_extension": ".py",
   "mimetype": "text/x-python",
   "name": "python",
   "nbconvert_exporter": "python",
   "pygments_lexer": "ipython3",
   "version": "3.7.1"
  }
 },
 "nbformat": 4,
 "nbformat_minor": 2
}
