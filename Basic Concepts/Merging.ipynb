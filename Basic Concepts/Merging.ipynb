{
 "cells": [
  {
   "cell_type": "code",
   "execution_count": 86,
   "metadata": {},
   "outputs": [],
   "source": [
    "import numpy as np\n",
    "import pandas as pd"
   ]
  },
  {
   "cell_type": "code",
   "execution_count": 87,
   "metadata": {},
   "outputs": [
    {
     "name": "stdout",
     "output_type": "stream",
     "text": [
      "   key1  a  b\n",
      "0     1  2  5\n",
      "1     2  3  6\n",
      "2     3  4  7 \n",
      "\n",
      "   key1  c  d\n",
      "0     1  1  5\n",
      "1     2  2  8\n",
      "2     4  9  7\n"
     ]
    }
   ],
   "source": [
    "df1 = pd.DataFrame(data = {'key1' : [1, 2, 3], 'a' : [2, 3, 4], 'b' : [5, 6, 7]})\n",
    "df2 = pd.DataFrame(data = {'key1' : [1, 2, 4], 'c' : [1, 2, 9], 'd' : [5, 8, 7]})\n",
    "print(df1, \"\\n\")\n",
    "print(df2)"
   ]
  },
  {
   "cell_type": "code",
   "execution_count": 88,
   "metadata": {},
   "outputs": [
    {
     "name": "stdout",
     "output_type": "stream",
     "text": [
      "   key1  a  b  c  d\n",
      "0     1  2  5  1  5\n",
      "1     2  3  6  2  8 \n",
      "\n",
      "   key1  a  b    c    d\n",
      "0     1  2  5  1.0  5.0\n",
      "1     2  3  6  2.0  8.0\n",
      "2     3  4  7  NaN  NaN \n",
      "\n",
      "   key1    a    b  c  d\n",
      "0     1  2.0  5.0  1  5\n",
      "1     2  3.0  6.0  2  8\n",
      "2     4  NaN  NaN  9  7 \n",
      "\n",
      "   key1    a    b    c    d\n",
      "0     1  2.0  5.0  1.0  5.0\n",
      "1     2  3.0  6.0  2.0  8.0\n",
      "2     3  4.0  7.0  NaN  NaN\n",
      "3     4  NaN  NaN  9.0  7.0 \n",
      "\n",
      "   key1  a  b  c  d\n",
      "0     1  2  5  1  5\n",
      "1     2  3  6  2  8 \n",
      "\n"
     ]
    }
   ],
   "source": [
    "print(pd.merge(left = df1, right = df2),\"\\n\")\n",
    "print(pd.merge(left = df1, right = df2, how = \"left\"), \"\\n\")\n",
    "print(pd.merge(left = df1, right = df2, how = \"right\"), \"\\n\")\n",
    "print(pd.merge(left = df1, right = df2, how = \"outer\"), \"\\n\")\n",
    "print(pd.merge(left = df1, right = df2, how = \"inner\"), \"\\n\")"
   ]
  },
  {
   "cell_type": "code",
   "execution_count": 89,
   "metadata": {},
   "outputs": [
    {
     "name": "stdout",
     "output_type": "stream",
     "text": [
      "   key1  a  b  c  d\n",
      "0     1  2  5  1  5\n",
      "1     2  3  6  2  8 \n",
      "\n",
      "   key1  a  b    c    d\n",
      "0     1  2  5  1.0  5.0\n",
      "1     2  3  6  2.0  8.0\n",
      "2     3  4  7  NaN  NaN \n",
      "\n",
      "   key1    a    b  c  d\n",
      "0     1  2.0  5.0  1  5\n",
      "1     2  3.0  6.0  2  8\n",
      "2     4  NaN  NaN  9  7 \n",
      "\n",
      "   key1    a    b    c    d\n",
      "0     1  2.0  5.0  1.0  5.0\n",
      "1     2  3.0  6.0  2.0  8.0\n",
      "2     3  4.0  7.0  NaN  NaN\n",
      "3     4  NaN  NaN  9.0  7.0 \n",
      "\n",
      "   key1  a  b  c  d\n",
      "0     1  2  5  1  5\n",
      "1     2  3  6  2  8 \n",
      "\n"
     ]
    }
   ],
   "source": [
    "print(pd.merge(left = df1, right = df2, on = \"key1\"),\"\\n\")\n",
    "print(pd.merge(left = df1, right = df2, how = \"left\", on = \"key1\"), \"\\n\")\n",
    "print(pd.merge(left = df1, right = df2, how = \"right\", on = \"key1\"), \"\\n\")\n",
    "print(pd.merge(left = df1, right = df2, how = \"outer\", on = \"key1\"), \"\\n\")\n",
    "print(pd.merge(left = df1, right = df2, how = \"inner\", on = \"key1\"), \"\\n\")"
   ]
  },
  {
   "cell_type": "code",
   "execution_count": 90,
   "metadata": {},
   "outputs": [
    {
     "name": "stdout",
     "output_type": "stream",
     "text": [
      "   key1  a  b  key2\n",
      "0     1  2  5     5\n",
      "1     2  3  6     2\n",
      "2     3  4  7     3 \n",
      "\n",
      "   key1  c  d  key2\n",
      "0     1  1  5     5\n",
      "1     2  2  8     2\n",
      "2     4  9  7     3\n"
     ]
    }
   ],
   "source": [
    "df1 = pd.DataFrame(data = {'key1' : [1, 2, 3], 'a' : [2, 3, 4], 'b' : [5, 6, 7], 'key2' : [5, 2, 3]})\n",
    "df2 = pd.DataFrame(data = {'key1' : [1, 2, 4], 'c' : [1, 2, 9], 'd' : [5, 8, 7], 'key2' : [5, 2, 3]})\n",
    "print(df1, \"\\n\")\n",
    "print(df2)"
   ]
  },
  {
   "cell_type": "code",
   "execution_count": 91,
   "metadata": {},
   "outputs": [
    {
     "name": "stdout",
     "output_type": "stream",
     "text": [
      "   key1  a  b  key2  c  d\n",
      "0     1  2  5     5  1  5\n",
      "1     2  3  6     2  2  8 \n",
      "\n",
      "   key1  a  b  key2    c    d\n",
      "0     1  2  5     5  1.0  5.0\n",
      "1     2  3  6     2  2.0  8.0\n",
      "2     3  4  7     3  NaN  NaN \n",
      "\n",
      "   key1    a    b  key2  c  d\n",
      "0     1  2.0  5.0     5  1  5\n",
      "1     2  3.0  6.0     2  2  8\n",
      "2     4  NaN  NaN     3  9  7 \n",
      "\n",
      "   key1    a    b  key2    c    d\n",
      "0     1  2.0  5.0     5  1.0  5.0\n",
      "1     2  3.0  6.0     2  2.0  8.0\n",
      "2     3  4.0  7.0     3  NaN  NaN\n",
      "3     4  NaN  NaN     3  9.0  7.0 \n",
      "\n",
      "   key1  a  b  key2  c  d\n",
      "0     1  2  5     5  1  5\n",
      "1     2  3  6     2  2  8 \n",
      "\n"
     ]
    }
   ],
   "source": [
    "print(pd.merge(left = df1, right = df2), \"\\n\")\n",
    "print(pd.merge(left = df1, right = df2, how = \"left\"), \"\\n\")\n",
    "print(pd.merge(left = df1, right = df2, how = \"right\"), \"\\n\")\n",
    "print(pd.merge(left = df1, right = df2, how = \"outer\"), \"\\n\")\n",
    "print(pd.merge(left = df1, right = df2, how = \"inner\"), \"\\n\")"
   ]
  },
  {
   "cell_type": "code",
   "execution_count": 92,
   "metadata": {},
   "outputs": [
    {
     "name": "stdout",
     "output_type": "stream",
     "text": [
      "   key1    a    b  key2_x    c    d  key2_y\n",
      "0     1  2.0  5.0     5.0  1.0  5.0     5.0\n",
      "1     2  3.0  6.0     2.0  2.0  8.0     2.0\n",
      "2     3  4.0  7.0     3.0  NaN  NaN     NaN\n",
      "3     4  NaN  NaN     NaN  9.0  7.0     3.0\n"
     ]
    }
   ],
   "source": [
    "print(pd.merge(left = df1, right = df2, how = \"outer\", on = [\"key1\"]))"
   ]
  },
  {
   "cell_type": "code",
   "execution_count": 93,
   "metadata": {},
   "outputs": [
    {
     "name": "stdout",
     "output_type": "stream",
     "text": [
      "   key1  a  b\n",
      "0     1  2  5\n",
      "1     2  3  6\n",
      "2     3  4  7 \n",
      "\n",
      "   key1  c  d\n",
      "0     1  1  5\n",
      "1     2  2  8\n",
      "2     4  9  7\n"
     ]
    }
   ],
   "source": [
    "df1 = pd.DataFrame(data = {'key1' : [1, 2, 3], 'a' : [2, 3, 4], 'b' : [5, 6, 7]})\n",
    "df2 = pd.DataFrame(data = {'key1' : [1, 2, 4], 'c' : [1, 2, 9], 'd' : [5, 8, 7]})\n",
    "print(df1, \"\\n\")\n",
    "print(df2)"
   ]
  },
  {
   "cell_type": "code",
   "execution_count": 94,
   "metadata": {},
   "outputs": [
    {
     "data": {
      "text/html": [
       "<div>\n",
       "<style scoped>\n",
       "    .dataframe tbody tr th:only-of-type {\n",
       "        vertical-align: middle;\n",
       "    }\n",
       "\n",
       "    .dataframe tbody tr th {\n",
       "        vertical-align: top;\n",
       "    }\n",
       "\n",
       "    .dataframe thead th {\n",
       "        text-align: right;\n",
       "    }\n",
       "</style>\n",
       "<table border=\"1\" class=\"dataframe\">\n",
       "  <thead>\n",
       "    <tr style=\"text-align: right;\">\n",
       "      <th></th>\n",
       "      <th>key1</th>\n",
       "      <th>a</th>\n",
       "      <th>b</th>\n",
       "      <th>c</th>\n",
       "      <th>d</th>\n",
       "    </tr>\n",
       "  </thead>\n",
       "  <tbody>\n",
       "    <tr>\n",
       "      <th>0</th>\n",
       "      <td>1</td>\n",
       "      <td>2.0</td>\n",
       "      <td>5.0</td>\n",
       "      <td>1.0</td>\n",
       "      <td>5.0</td>\n",
       "    </tr>\n",
       "    <tr>\n",
       "      <th>1</th>\n",
       "      <td>2</td>\n",
       "      <td>3.0</td>\n",
       "      <td>6.0</td>\n",
       "      <td>2.0</td>\n",
       "      <td>8.0</td>\n",
       "    </tr>\n",
       "    <tr>\n",
       "      <th>2</th>\n",
       "      <td>3</td>\n",
       "      <td>4.0</td>\n",
       "      <td>7.0</td>\n",
       "      <td>NaN</td>\n",
       "      <td>NaN</td>\n",
       "    </tr>\n",
       "    <tr>\n",
       "      <th>3</th>\n",
       "      <td>4</td>\n",
       "      <td>NaN</td>\n",
       "      <td>NaN</td>\n",
       "      <td>9.0</td>\n",
       "      <td>7.0</td>\n",
       "    </tr>\n",
       "  </tbody>\n",
       "</table>\n",
       "</div>"
      ],
      "text/plain": [
       "   key1    a    b    c    d\n",
       "0     1  2.0  5.0  1.0  5.0\n",
       "1     2  3.0  6.0  2.0  8.0\n",
       "2     3  4.0  7.0  NaN  NaN\n",
       "3     4  NaN  NaN  9.0  7.0"
      ]
     },
     "execution_count": 94,
     "metadata": {},
     "output_type": "execute_result"
    }
   ],
   "source": [
    "pd.merge(left = df1, right = df2, how = \"outer\")"
   ]
  },
  {
   "cell_type": "code",
   "execution_count": null,
   "metadata": {},
   "outputs": [],
   "source": []
  }
 ],
 "metadata": {
  "kernelspec": {
   "display_name": "Python 3",
   "language": "python",
   "name": "python3"
  },
  "language_info": {
   "codemirror_mode": {
    "name": "ipython",
    "version": 3
   },
   "file_extension": ".py",
   "mimetype": "text/x-python",
   "name": "python",
   "nbconvert_exporter": "python",
   "pygments_lexer": "ipython3",
   "version": "3.7.1"
  }
 },
 "nbformat": 4,
 "nbformat_minor": 2
}
