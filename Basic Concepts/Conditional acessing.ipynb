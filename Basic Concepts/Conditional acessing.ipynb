{
 "cells": [
  {
   "cell_type": "code",
   "execution_count": 1,
   "metadata": {},
   "outputs": [],
   "source": [
    "import numpy as np\n",
    "import pandas as pd"
   ]
  },
  {
   "cell_type": "code",
   "execution_count": 2,
   "metadata": {},
   "outputs": [],
   "source": [
    "A = [\"A\", \"B\", \"C\", \"D\"]\n",
    "B = [\"E\", \"F\", \"G\", \"H\"]\n",
    "C = [\"I\", \"J\", \"K\", \"L\"]\n",
    "D = [\"M\", \"N\", \"O\", \"P\"]\n",
    "E = [\"Q\", \"R\", \"S\", \"T\"]\n",
    "F = [\"U\", \"V\", \"W\", \"X\"]"
   ]
  },
  {
   "cell_type": "code",
   "execution_count": 13,
   "metadata": {
    "scrolled": true
   },
   "outputs": [
    {
     "data": {
      "text/html": [
       "<div>\n",
       "<style scoped>\n",
       "    .dataframe tbody tr th:only-of-type {\n",
       "        vertical-align: middle;\n",
       "    }\n",
       "\n",
       "    .dataframe tbody tr th {\n",
       "        vertical-align: top;\n",
       "    }\n",
       "\n",
       "    .dataframe thead th {\n",
       "        text-align: right;\n",
       "    }\n",
       "</style>\n",
       "<table border=\"1\" class=\"dataframe\">\n",
       "  <thead>\n",
       "    <tr style=\"text-align: right;\">\n",
       "      <th></th>\n",
       "      <th>a</th>\n",
       "      <th>b</th>\n",
       "      <th>c</th>\n",
       "      <th>d</th>\n",
       "      <th>e</th>\n",
       "      <th>f</th>\n",
       "    </tr>\n",
       "  </thead>\n",
       "  <tbody>\n",
       "    <tr>\n",
       "      <th>A</th>\n",
       "      <td>A</td>\n",
       "      <td>B</td>\n",
       "      <td>C</td>\n",
       "      <td>D</td>\n",
       "      <td>AB</td>\n",
       "      <td>CD</td>\n",
       "    </tr>\n",
       "    <tr>\n",
       "      <th>B</th>\n",
       "      <td>E</td>\n",
       "      <td>F</td>\n",
       "      <td>G</td>\n",
       "      <td>H</td>\n",
       "      <td>EF</td>\n",
       "      <td>GH</td>\n",
       "    </tr>\n",
       "    <tr>\n",
       "      <th>C</th>\n",
       "      <td>I</td>\n",
       "      <td>J</td>\n",
       "      <td>K</td>\n",
       "      <td>L</td>\n",
       "      <td>IJ</td>\n",
       "      <td>KL</td>\n",
       "    </tr>\n",
       "    <tr>\n",
       "      <th>D</th>\n",
       "      <td>M</td>\n",
       "      <td>N</td>\n",
       "      <td>O</td>\n",
       "      <td>P</td>\n",
       "      <td>MN</td>\n",
       "      <td>OP</td>\n",
       "    </tr>\n",
       "    <tr>\n",
       "      <th>E</th>\n",
       "      <td>Q</td>\n",
       "      <td>R</td>\n",
       "      <td>S</td>\n",
       "      <td>T</td>\n",
       "      <td>QR</td>\n",
       "      <td>ST</td>\n",
       "    </tr>\n",
       "    <tr>\n",
       "      <th>F</th>\n",
       "      <td>U</td>\n",
       "      <td>V</td>\n",
       "      <td>W</td>\n",
       "      <td>X</td>\n",
       "      <td>UV</td>\n",
       "      <td>WX</td>\n",
       "    </tr>\n",
       "  </tbody>\n",
       "</table>\n",
       "</div>"
      ],
      "text/plain": [
       "   a  b  c  d   e   f\n",
       "A  A  B  C  D  AB  CD\n",
       "B  E  F  G  H  EF  GH\n",
       "C  I  J  K  L  IJ  KL\n",
       "D  M  N  O  P  MN  OP\n",
       "E  Q  R  S  T  QR  ST\n",
       "F  U  V  W  X  UV  WX"
      ]
     },
     "execution_count": 13,
     "metadata": {},
     "output_type": "execute_result"
    }
   ],
   "source": [
    "df = pd.DataFrame(data = [A, B, C, D, E, F], index = [\"A\", \"B\", \"C\", \"D\", \"E\", \"F\"], columns = ['a', 'b', 'c', 'd'])\n",
    "df[\"e\"] = df[\"a\"] + df[\"b\"]\n",
    "df[\"f\"] = df[\"c\"] + df[\"d\"]\n",
    "df"
   ]
  },
  {
   "cell_type": "code",
   "execution_count": 33,
   "metadata": {},
   "outputs": [
    {
     "name": "stdout",
     "output_type": "stream",
     "text": [
      "[[  0  10  20]\n",
      " [ 30  40  50]\n",
      " [ 60  70  80]\n",
      " [ 90 100 110]]\n",
      "[ 80  90 100 110]\n",
      "[array([[False, False, False],\n",
      "       [False, False, False],\n",
      "       [False, False,  True],\n",
      "       [ True,  True,  True]])]\n",
      "[[ True False False]\n",
      " [False False False]\n",
      " [False False False]\n",
      " [False False False]]\n",
      "[[ True  True  True]\n",
      " [ True  True  True]\n",
      " [ True  True  True]\n",
      " [ True False  True]]\n"
     ]
    }
   ],
   "source": [
    "a = np.arange(0, 120, 10).reshape(4, 3)\n",
    "print(a)\n",
    "print(a[a > 70])\n",
    "print([a > 70])\n",
    "print(a == 0)\n",
    "print(a != 100)"
   ]
  },
  {
   "cell_type": "code",
   "execution_count": 34,
   "metadata": {},
   "outputs": [
    {
     "data": {
      "text/html": [
       "<div>\n",
       "<style scoped>\n",
       "    .dataframe tbody tr th:only-of-type {\n",
       "        vertical-align: middle;\n",
       "    }\n",
       "\n",
       "    .dataframe tbody tr th {\n",
       "        vertical-align: top;\n",
       "    }\n",
       "\n",
       "    .dataframe thead th {\n",
       "        text-align: right;\n",
       "    }\n",
       "</style>\n",
       "<table border=\"1\" class=\"dataframe\">\n",
       "  <thead>\n",
       "    <tr style=\"text-align: right;\">\n",
       "      <th></th>\n",
       "      <th>a</th>\n",
       "      <th>b</th>\n",
       "      <th>c</th>\n",
       "      <th>d</th>\n",
       "      <th>e</th>\n",
       "      <th>f</th>\n",
       "    </tr>\n",
       "  </thead>\n",
       "  <tbody>\n",
       "    <tr>\n",
       "      <th>A</th>\n",
       "      <td>0</td>\n",
       "      <td>1</td>\n",
       "      <td>2</td>\n",
       "      <td>3</td>\n",
       "      <td>1</td>\n",
       "      <td>5</td>\n",
       "    </tr>\n",
       "    <tr>\n",
       "      <th>B</th>\n",
       "      <td>4</td>\n",
       "      <td>5</td>\n",
       "      <td>6</td>\n",
       "      <td>7</td>\n",
       "      <td>9</td>\n",
       "      <td>13</td>\n",
       "    </tr>\n",
       "    <tr>\n",
       "      <th>C</th>\n",
       "      <td>8</td>\n",
       "      <td>9</td>\n",
       "      <td>0</td>\n",
       "      <td>1</td>\n",
       "      <td>17</td>\n",
       "      <td>1</td>\n",
       "    </tr>\n",
       "    <tr>\n",
       "      <th>D</th>\n",
       "      <td>2</td>\n",
       "      <td>3</td>\n",
       "      <td>4</td>\n",
       "      <td>5</td>\n",
       "      <td>5</td>\n",
       "      <td>9</td>\n",
       "    </tr>\n",
       "    <tr>\n",
       "      <th>E</th>\n",
       "      <td>6</td>\n",
       "      <td>7</td>\n",
       "      <td>8</td>\n",
       "      <td>9</td>\n",
       "      <td>13</td>\n",
       "      <td>17</td>\n",
       "    </tr>\n",
       "    <tr>\n",
       "      <th>F</th>\n",
       "      <td>0</td>\n",
       "      <td>1</td>\n",
       "      <td>2</td>\n",
       "      <td>3</td>\n",
       "      <td>1</td>\n",
       "      <td>5</td>\n",
       "    </tr>\n",
       "  </tbody>\n",
       "</table>\n",
       "</div>"
      ],
      "text/plain": [
       "   a  b  c  d   e   f\n",
       "A  0  1  2  3   1   5\n",
       "B  4  5  6  7   9  13\n",
       "C  8  9  0  1  17   1\n",
       "D  2  3  4  5   5   9\n",
       "E  6  7  8  9  13  17\n",
       "F  0  1  2  3   1   5"
      ]
     },
     "execution_count": 34,
     "metadata": {},
     "output_type": "execute_result"
    }
   ],
   "source": [
    "A = [0, 1, 2, 3]\n",
    "B = [4, 5, 6, 7]\n",
    "C = [8, 9, 0, 1]\n",
    "D = [2, 3, 4, 5]\n",
    "E = [6, 7, 8, 9]\n",
    "F = [0, 1, 2, 3]\n",
    "\n",
    "df = pd.DataFrame(data = [A, B, C, D, E, F], index = ['A', 'B', 'C', 'D', 'E', 'F'], columns = ['a', 'b', 'c', 'd'])\n",
    "df['e'] = df[\"a\"] + df[\"b\"]\n",
    "df[\"f\"] = df[\"c\"] + df[\"d\"]\n",
    "df"
   ]
  },
  {
   "cell_type": "code",
   "execution_count": 41,
   "metadata": {},
   "outputs": [
    {
     "name": "stdout",
     "output_type": "stream",
     "text": [
      "       a      b      c      d      e      f\n",
      "A  False  False  False  False  False  False\n",
      "B  False  False  False  False  False   True\n",
      "C  False  False  False  False   True  False\n",
      "D  False  False  False  False  False  False\n",
      "E  False  False  False  False   True   True\n",
      "F  False  False  False  False  False  False\n",
      "    a   b   c   d     e     f\n",
      "A NaN NaN NaN NaN   NaN   NaN\n",
      "B NaN NaN NaN NaN   NaN  13.0\n",
      "C NaN NaN NaN NaN  17.0   NaN\n",
      "D NaN NaN NaN NaN   NaN   NaN\n",
      "E NaN NaN NaN NaN  13.0  17.0\n",
      "F NaN NaN NaN NaN   NaN   NaN\n"
     ]
    }
   ],
   "source": [
    "print(df > 10)\n",
    "print(df[df > 10])"
   ]
  },
  {
   "cell_type": "code",
   "execution_count": 54,
   "metadata": {},
   "outputs": [
    {
     "name": "stdout",
     "output_type": "stream",
     "text": [
      "   a  b  c  d   e   f\n",
      "A  0  1  2  3   1   5\n",
      "B  4  5  6  7   9  13\n",
      "C  8  9  0  1  17   1\n",
      "D  2  3  4  5   5   9\n",
      "E  6  7  8  9  13  17\n",
      "F  0  1  2  3   1   5\n",
      "A    False\n",
      "B     True\n",
      "C     True\n",
      "D    False\n",
      "E     True\n",
      "F    False\n",
      "Name: b, dtype: bool\n",
      "\n",
      "A    False\n",
      "B    False\n",
      "C    False\n",
      "D    False\n",
      "E     True\n",
      "F    False\n",
      "Name: d, dtype: bool\n"
     ]
    }
   ],
   "source": [
    "print(df)\n",
    "print(df[\"b\"] > 3, end = \"\\n\\n\")\n",
    "print(df[\"d\"] > 8)"
   ]
  },
  {
   "cell_type": "code",
   "execution_count": 55,
   "metadata": {},
   "outputs": [
    {
     "name": "stdout",
     "output_type": "stream",
     "text": [
      "   a  b  c  d   e   f\n",
      "A  0  1  2  3   1   5\n",
      "B  4  5  6  7   9  13\n",
      "C  8  9  0  1  17   1\n",
      "D  2  3  4  5   5   9\n",
      "E  6  7  8  9  13  17\n",
      "F  0  1  2  3   1   5\n"
     ]
    }
   ],
   "source": [
    "print(df)"
   ]
  },
  {
   "cell_type": "code",
   "execution_count": 68,
   "metadata": {},
   "outputs": [
    {
     "name": "stdout",
     "output_type": "stream",
     "text": [
      "   a  b  c  d   e   f\n",
      "B  4  5  6  7   9  13\n",
      "D  2  3  4  5   5   9\n",
      "E  6  7  8  9  13  17 \n",
      "\n",
      "B    13\n",
      "D     9\n",
      "E    17\n",
      "Name: f, dtype: int64\n",
      "A    False\n",
      "B     True\n",
      "C     True\n",
      "D    False\n",
      "E     True\n",
      "F    False\n",
      "Name: e, dtype: bool\n",
      "   a  b  c  d   e   f\n",
      "B  4  5  6  7   9  13\n",
      "C  8  9  0  1  17   1\n",
      "E  6  7  8  9  13  17\n",
      "\n",
      "B     9\n",
      "C    17\n",
      "E    13\n",
      "Name: e, dtype: int64\n",
      "    e   f\n",
      "B   9  13\n",
      "C  17   1\n",
      "E  13  17\n"
     ]
    }
   ],
   "source": [
    "print(df[df[\"f\"] > 8], \"\\n\")\n",
    "print(df[df[\"f\"] > 8][\"f\"], end = \"\\n\")\n",
    "print(df[\"e\"] > 5, end = \"\\n\")\n",
    "print(df[df[\"e\"] > 5], end = \"\\n\\n\")\n",
    "print(df[df[\"e\"] > 5][\"e\"], end = \"\\n\")\n",
    "print(df[df[\"e\"] > 5][[\"e\", \"f\"]], end = \"\\n\")"
   ]
  },
  {
   "cell_type": "code",
   "execution_count": 70,
   "metadata": {},
   "outputs": [
    {
     "name": "stdout",
     "output_type": "stream",
     "text": [
      "   a  b  c  d   e   f\n",
      "A  0  1  2  3   1   5\n",
      "B  4  5  6  7   9  13\n",
      "C  8  9  0  1  17   1\n",
      "D  2  3  4  5   5   9\n",
      "E  6  7  8  9  13  17\n",
      "F  0  1  2  3   1   5\n"
     ]
    }
   ],
   "source": [
    "print(df)"
   ]
  },
  {
   "cell_type": "code",
   "execution_count": 90,
   "metadata": {},
   "outputs": [
    {
     "name": "stdout",
     "output_type": "stream",
     "text": [
      "      e     f\n",
      "A   NaN   NaN\n",
      "B   NaN  13.0\n",
      "C  17.0   NaN\n",
      "D   NaN   NaN\n",
      "E  13.0  17.0\n",
      "F   NaN   NaN \n",
      "\n",
      "A    5\n",
      "C    1\n",
      "D    9\n",
      "F    5\n",
      "Name: f, dtype: int64 \n",
      "\n"
     ]
    }
   ],
   "source": [
    "print(df[df > 10][[\"e\", \"f\"]], \"\\n\")\n",
    "print(df[df[\"f\"] < 10][\"f\"], \"\\n\")"
   ]
  },
  {
   "cell_type": "code",
   "execution_count": 112,
   "metadata": {},
   "outputs": [
    {
     "name": "stdout",
     "output_type": "stream",
     "text": [
      "   a  b  c  d   e   f\n",
      "A  0  1  2  3   1   5\n",
      "B  4  5  6  7   9  13\n",
      "C  8  9  0  1  17   1\n",
      "D  2  3  4  5   5   9\n",
      "E  6  7  8  9  13  17\n",
      "F  0  1  2  3   1   5\n",
      "     a    b    c    d    e    f\n",
      "A  NaN  NaN  NaN  NaN  NaN  NaN\n",
      "B  NaN  NaN  6.0  7.0  9.0  NaN\n",
      "C  8.0  9.0  NaN  NaN  NaN  NaN\n",
      "D  NaN  NaN  NaN  NaN  NaN  9.0\n",
      "E  6.0  7.0  8.0  9.0  NaN  NaN\n",
      "F  NaN  NaN  NaN  NaN  NaN  NaN\n",
      "A    False\n",
      "B    False\n",
      "C    False\n",
      "D     True\n",
      "E    False\n",
      "F    False\n",
      "Name: f, dtype: bool\n",
      "   a  b  c  d  e  f\n",
      "D  2  3  4  5  5  9\n",
      "\n",
      "D    9\n",
      "Name: f, dtype: int64\n"
     ]
    }
   ],
   "source": [
    "print(df)\n",
    "print(df[(df > 5) & (df < 10)])\n",
    "print((df[\"f\"] > 5) & (df[\"f\"] < 10), end = \"\\n\")\n",
    "print(df[(df[\"f\"] > 5) & (df[\"f\"] < 10)], end = \"\\n\\n\")\n",
    "print(df[(df[\"f\"] > 5) & (df[\"f\"] < 10)][\"f\"], end = \"\\n\")"
   ]
  },
  {
   "cell_type": "code",
   "execution_count": 113,
   "metadata": {},
   "outputs": [
    {
     "name": "stdout",
     "output_type": "stream",
     "text": [
      "   a  b  c  d   e   f\n",
      "A  0  1  2  3   1   5\n",
      "B  4  5  6  7   9  13\n",
      "C  8  9  0  1  17   1\n",
      "D  2  3  4  5   5   9\n",
      "E  6  7  8  9  13  17\n",
      "F  0  1  2  3   1   5\n"
     ]
    }
   ],
   "source": [
    "print(df)"
   ]
  },
  {
   "cell_type": "code",
   "execution_count": 122,
   "metadata": {},
   "outputs": [
    {
     "name": "stdout",
     "output_type": "stream",
     "text": [
      "A    False\n",
      "B     True\n",
      "C    False\n",
      "D    False\n",
      "E     True\n",
      "F    False\n",
      "dtype: bool\n",
      "   d   f\n",
      "B  7  13\n",
      "E  9  17\n"
     ]
    }
   ],
   "source": [
    "print((df[\"d\"] > 5) & (df[\"f\"] > 5), end = \"\\n\")\n",
    "print(df[(df[\"d\"] > 5) & (df[\"f\"] > 5)][[\"d\", \"f\"]], end = \"\\n\")"
   ]
  },
  {
   "cell_type": "code",
   "execution_count": null,
   "metadata": {},
   "outputs": [],
   "source": []
  }
 ],
 "metadata": {
  "kernelspec": {
   "display_name": "Python 3",
   "language": "python",
   "name": "python3"
  },
  "language_info": {
   "codemirror_mode": {
    "name": "ipython",
    "version": 3
   },
   "file_extension": ".py",
   "mimetype": "text/x-python",
   "name": "python",
   "nbconvert_exporter": "python",
   "pygments_lexer": "ipython3",
   "version": "3.7.1"
  }
 },
 "nbformat": 4,
 "nbformat_minor": 2
}
